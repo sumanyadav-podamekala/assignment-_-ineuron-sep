{
  "nbformat": 4,
  "nbformat_minor": 0,
  "metadata": {
    "colab": {
      "provenance": []
    },
    "kernelspec": {
      "name": "python3",
      "display_name": "Python 3"
    },
    "language_info": {
      "name": "python"
    }
  },
  "cells": [
    {
      "cell_type": "markdown",
      "source": [
        "**Q1. What is the relationship between classes and modules?**"
      ],
      "metadata": {
        "id": "sdAWtEzvP-gS"
      }
    },
    {
      "cell_type": "markdown",
      "source": [
        "a module in python is simply a way to organize the code, and it contains either python classes or just functions\n",
        "\n",
        "Classes are blueprints of objects, which contains members like fields and methods"
      ],
      "metadata": {
        "id": "O5BJkWdl3w4J"
      }
    },
    {
      "cell_type": "markdown",
      "source": [
        "**Q2. How do you make instances and classes?**\n",
        "\n",
        "To create instances of a class, you call the class using class name and pass in whatever arguments its `__init__` method accepts.\n",
        "\n",
        "\n"
      ],
      "metadata": {
        "id": "GGq4mdw_QJmI"
      }
    },
    {
      "cell_type": "code",
      "source": [
        "class Employee:\n",
        "   def __init__(self, name, salary):\n",
        "      self.name = name\n",
        "      self.salary = salary"
      ],
      "metadata": {
        "id": "8bYlpyheIwgH"
      },
      "execution_count": null,
      "outputs": []
    },
    {
      "cell_type": "markdown",
      "source": [
        "**Q3. Where and how should be class attributes created?**\n",
        "\n",
        "Class attributes belong to the class itself they will be shared by all the instances. Such attributes are defined in the class body parts usually at the top, for legibility.\n"
      ],
      "metadata": {
        "id": "lkuOJO5wQMB0"
      }
    },
    {
      "cell_type": "code",
      "source": [
        "class sampleclass:\n",
        "\tcount = 0\t # class attribute\n",
        "\n",
        "\tdef increase(self):\n",
        "\t\tsampleclass.count += 1\n",
        "\n",
        "# Calling increase() on an object\n",
        "s1 = sampleclass()\n",
        "s1.increase()\t\t\n",
        "print(s1.count)\n"
      ],
      "metadata": {
        "id": "1BKu9YaXJo6M"
      },
      "execution_count": null,
      "outputs": []
    },
    {
      "cell_type": "markdown",
      "source": [],
      "metadata": {
        "id": "9NfoqUOtJnO1"
      }
    },
    {
      "cell_type": "markdown",
      "source": [
        "**Q4. Where and how are instance attributes created?**\n",
        "\n",
        "Instance attributes are attributes or properties attached to an instance of a class. Instance attributes are defined in the constructor."
      ],
      "metadata": {
        "id": "oLVZV3eGQPSd"
      }
    },
    {
      "cell_type": "markdown",
      "source": [
        "**Q5. What does the term \"self\" in a Python class mean?**\n",
        "\n",
        "The self parameter is a reference to the current instance of the class, and is used to access variables that belongs to the class.\n",
        "\n",
        "It does not have to be named self , you can call it whatever you like, but it has to be the first parameter of any function in the class:"
      ],
      "metadata": {
        "id": "NzzKhfOPQR3T"
      }
    },
    {
      "cell_type": "code",
      "source": [
        "class Person:\n",
        "  def __init__(mysillyobject, name, age):\n",
        "    mysillyobject.name = name\n",
        "    mysillyobject.age = age\n",
        "\n",
        "  def myfunc(abc):\n",
        "    print(\"Hello my name is \" + abc.name)\n",
        "\n",
        "p1 = Person(\"John\", 36)\n",
        "p1.myfunc()\n"
      ],
      "metadata": {
        "colab": {
          "base_uri": "https://localhost:8080/"
        },
        "id": "K2zEFqJtGJpa",
        "outputId": "fa4fe0d8-e8a2-492a-ae40-7295ef90aa88"
      },
      "execution_count": 1,
      "outputs": [
        {
          "output_type": "stream",
          "name": "stdout",
          "text": [
            "Hello my name is John\n"
          ]
        }
      ]
    },
    {
      "cell_type": "code",
      "source": [],
      "metadata": {
        "id": "aYMpasho_QHC"
      },
      "execution_count": null,
      "outputs": []
    },
    {
      "cell_type": "markdown",
      "source": [
        "**Q6. How does a Python class handle operator overloading?**\n",
        "\n",
        " Python Classes handle operator overloading by using special methods called Magic methods. these special methods usually begin and end with __ (double underscore)\n",
        "\n",
        "\n",
        "Example: Magic methods for basic arithmetic operators are:\n",
        "\n",
        "\n",
        "\n",
        "```\n",
        "+\t__add__(self, other)\n",
        "–\t__sub__(self, other)\n",
        "*\t__mul__(self, other)\n",
        "/\t__truediv__(self, other)\n",
        "//\t__floordiv__(self, other)\n",
        "%\t__mod__(self, other)\n",
        "**\t__pow__(self, other)\n",
        ">>\t__rshift__(self, other)\n",
        "<<\t__lshift__(self, other)\n",
        "&\t__and__(self, other)\n",
        "|\t__or__(self, other)\n",
        "^\t__xor__(self, other)\n",
        "```\n",
        "\n",
        "\n",
        "\n",
        "\n",
        "\n",
        "\n"
      ],
      "metadata": {
        "id": "N5i3t6_R_Qqf"
      }
    },
    {
      "cell_type": "code",
      "source": [
        "class A:\n",
        "    def __init__(self, a):\n",
        "        self.a = a\n",
        " \n",
        "    # adding two objects\n",
        "    def __add__(self, o):\n",
        "        return self.a + o.a"
      ],
      "metadata": {
        "id": "LqXeh0A3QTPg"
      },
      "execution_count": 4,
      "outputs": []
    },
    {
      "cell_type": "code",
      "source": [
        "ob1 = A(1)\n",
        "ob2 = A(2)\n",
        "ob3 = A(\"Geeks\")\n",
        "ob4 = A(\"For\")\n",
        " \n",
        "print(ob1 + ob2)\n",
        "print(ob3 + ob4)\n",
        "# Actual working when Binary Operator is used.\n",
        "print(A.__add__(ob1 , ob2))\n",
        "print(A.__add__(ob3,ob4))\n",
        "#And can also be Understand as :\n",
        "print(ob1.__add__(ob2))\n",
        "print(ob3.__add__(ob4))"
      ],
      "metadata": {
        "colab": {
          "base_uri": "https://localhost:8080/"
        },
        "id": "ZME4TqErQYBm",
        "outputId": "86e79ec9-1eb3-427b-bd47-f3f3b45fc5c8"
      },
      "execution_count": 5,
      "outputs": [
        {
          "output_type": "stream",
          "name": "stdout",
          "text": [
            "3\n",
            "GeeksFor\n",
            "3\n",
            "GeeksFor\n",
            "3\n",
            "GeeksFor\n"
          ]
        }
      ]
    },
    {
      "cell_type": "markdown",
      "source": [
        "**Q7. When do you consider allowing operator overloading of your classes?**\n",
        "\n",
        "When one or both operands are of a user-defined class or structure type, operator overloading makes it easier to specify user-defined implementation for such operations. This makes user-defined types more similar to the basic primitive data types in terms of behaviour.\n"
      ],
      "metadata": {
        "id": "DjHMpIlj_SeV"
      }
    },
    {
      "cell_type": "markdown",
      "source": [],
      "metadata": {
        "id": "UOQG0WplHDiz"
      }
    },
    {
      "cell_type": "markdown",
      "source": [
        "**Q8. What is the most popular form of operator overloading?**\n",
        "\n",
        "The most popular form of operator overloading in python is by special methods called Magic methods.\n",
        "\n",
        "A very popular and convenient example is the Addition (+) operator.\n",
        "\n",
        "Just think how the ‘+’ operator operates on two numbers and the same operator operates on two strings. It performs “Addition” on numbers whereas it performs “Concatenation” on strings.\n"
      ],
      "metadata": {
        "id": "TIT9m0Fk_UAm"
      }
    },
    {
      "cell_type": "code",
      "source": [
        "class bubble:\n",
        "    def __init__(self, volume):\n",
        "        self.volume = volume\n",
        "\n",
        "    def __str__(self):\n",
        "        return \"volume is \" + str(self.volume)\n",
        "\n",
        "    def __add__(self, other):\n",
        "        volume = self.volume + other.volume\n",
        "        return bubble(volume)\n"
      ],
      "metadata": {
        "id": "Je0hn1h0RZn-"
      },
      "execution_count": null,
      "outputs": []
    },
    {
      "cell_type": "markdown",
      "source": [
        "**Q9. What are the two most important concepts to grasp in order to comprehend Python OOP code?**\n",
        "\n",
        "Classes and objects are the two concepts to comprehend python OOP code as more formally objects are entities that represent instances of general abstract concept called class   \n",
        "\n",
        "Along with classes and objects the important concepts to grasp are:   \n",
        "\n",
        "Inheritence    \n",
        "Abstraction     \n",
        "Polymorphism   \n",
        "Encapsulation "
      ],
      "metadata": {
        "id": "LSG1jrNy_Va_"
      }
    },
    {
      "cell_type": "code",
      "source": [
        "[1,2]+[3,4]"
      ],
      "metadata": {
        "colab": {
          "base_uri": "https://localhost:8080/"
        },
        "id": "6JnMeTOSPImP",
        "outputId": "308966ec-c3d4-4ccd-d7f8-78314be2fe7a"
      },
      "execution_count": 2,
      "outputs": [
        {
          "output_type": "execute_result",
          "data": {
            "text/plain": [
              "[1, 2, 3, 4]"
            ]
          },
          "metadata": {},
          "execution_count": 2
        }
      ]
    },
    {
      "cell_type": "code",
      "source": [
        "'suman'+'yadav'"
      ],
      "metadata": {
        "colab": {
          "base_uri": "https://localhost:8080/",
          "height": 35
        },
        "id": "RSxaR1HkPLO4",
        "outputId": "5df25a81-9fad-42e7-fb5a-0c9015818333"
      },
      "execution_count": 3,
      "outputs": [
        {
          "output_type": "execute_result",
          "data": {
            "text/plain": [
              "'sumanyadav'"
            ],
            "application/vnd.google.colaboratory.intrinsic+json": {
              "type": "string"
            }
          },
          "metadata": {},
          "execution_count": 3
        }
      ]
    },
    {
      "cell_type": "code",
      "source": [],
      "metadata": {
        "id": "wEYq4VEZPPuy"
      },
      "execution_count": null,
      "outputs": []
    }
  ]
}
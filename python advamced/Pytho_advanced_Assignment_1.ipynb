{
  "nbformat": 4,
  "nbformat_minor": 0,
  "metadata": {
    "colab": {
      "provenance": []
    },
    "kernelspec": {
      "name": "python3",
      "display_name": "Python 3"
    },
    "language_info": {
      "name": "python"
    }
  },
  "cells": [
    {
      "cell_type": "markdown",
      "source": [
        "**Q1. What is the purpose of Python&#39;s OOP?**\n",
        "\n"
      ],
      "metadata": {
        "id": "jCmfnF2M_swo"
      }
    },
    {
      "cell_type": "markdown",
      "source": [
        "OOPs is a programming  that provides a means of structuring programs so that properties and behaviors are bundled into individual objects\n",
        "\n",
        "In Python, OOPs uses objects and classes.\n",
        "\n",
        "Concept of OOPs is to bind the data and the functions that work on that together as a single unit so that no other part of the code can access this data.\n",
        "\n",
        "It comes up with the following advantages:\n",
        "\n",
        "It helps to divide our over all program into different small segments and thus making it solving easy with the use of objects\n",
        "\n",
        "Helps in easy maintenance and modification of existing program\n",
        "Multiple instances of an object can be made."
      ],
      "metadata": {
        "id": "x2NF5rG8AJbo"
      }
    },
    {
      "cell_type": "markdown",
      "source": [
        "**Q2. Where does an inheritance search look for an attribute?**\n",
        "\n"
      ],
      "metadata": {
        "id": "mN3OeUcQ_0Ug"
      }
    },
    {
      "cell_type": "markdown",
      "source": [
        "Python searches for an attribute in an upward tree of attributes. it first searches for the attribute in its instance and then looks in the class it is generated from, to all super classes listed in its class header"
      ],
      "metadata": {
        "id": "_W-MS-ndAWP4"
      }
    },
    {
      "cell_type": "markdown",
      "source": [
        "**Q3. How do you distinguish between a class object and an instance object?**\n",
        "\n",
        "The differences between a class object and an instance object are:\n",
        "\n",
        "\n",
        "Class is a template for creating objects whereas object is an instance of class\n",
        "\n",
        "Seperate memory is allocated for each object whenever an object is created. but for a class this doesnot happens..\n",
        "\n",
        "A Class is created once. Many objects are created using a class.\n",
        "\n",
        "As Classes have no allocated memory. they can't be manipulated. but objects can be manipulated.\n",
        "\n"
      ],
      "metadata": {
        "id": "mcVlqWJn_1tA"
      }
    },
    {
      "cell_type": "markdown",
      "source": [
        "**Q4.** What makes the first argument in a class’s method function special? \n",
        "\n",
        "python Classes usually have three types of methods which are: \n",
        "\n",
        "Instance Methods (object level methods)\n",
        "\n",
        "Class Methods (class level methods)\n",
        "\n",
        "Static Methods (general utility methods)\n",
        "\n",
        "**self** is the first argument for instance methods. which refers to the object itself\n",
        "\n",
        "**cls** is the first argument for class methods which refers to the class itself\n"
      ],
      "metadata": {
        "id": "i00GV4bp_26o"
      }
    },
    {
      "cell_type": "markdown",
      "source": [
        "**Q5. What is the purpose of the __init__ method?**\n",
        "\n",
        "`__init__` is a inbulit method. It serves the role of a constructor in object oriented terminology. This method is called when an object is created from a class and it allows the class to initialize the attributes of the class.\n"
      ],
      "metadata": {
        "id": "u1X8zjNH_4B5"
      }
    },
    {
      "cell_type": "markdown",
      "source": [
        "**Q6. What is the process for creating a class instance?**\n",
        "\n",
        "To create a class instance, we need to call the class by its name and pass the arguments to the class, which its init method accepts."
      ],
      "metadata": {
        "id": "hXMqz2EQ_5Bh"
      }
    },
    {
      "cell_type": "markdown",
      "source": [
        "**Q7. What is the process for creating a class?**\n",
        "\n",
        "To create a class, use the keyword class:\n",
        "\n",
        "\n",
        "```\n",
        "class name:\n",
        "  pass\n",
        "```\n",
        "\n",
        "To create a class, with the arguments to the class, we use init method.\n",
        "\n",
        "\n",
        "```\n",
        "class Person:\n",
        "  def __init__(self, name, age):\n",
        "    self.name = name\n",
        "    self.age = age\n",
        "```"
      ],
      "metadata": {
        "id": "oBoZc_0Y_6Co"
      }
    },
    {
      "cell_type": "markdown",
      "source": [
        "Q8. How would you define the superclasses of a class?\n",
        "\n",
        "The class from which a class inherits is called the parent or superclass.\n",
        "\n",
        "A class which inherits from a superclass is called a subclass, also called heir class or child class.\n",
        "\n",
        "```\n",
        "class company:                       #superclass\n",
        "  def __init__(self, name):\n",
        "        self.name = name\n",
        "class manager(company):                   #childclass\n",
        "  pass\n",
        "```\n"
      ],
      "metadata": {
        "id": "HyxQHXpP_7E4"
      }
    },
    {
      "cell_type": "code",
      "source": [
        "\n",
        "class company:                       #superclass\n",
        "  def __init__(self, name):\n",
        "        self.name = name\n",
        "class manager(company):                   #childclass\n",
        "  pass"
      ],
      "metadata": {
        "id": "W_qDNbMXLALz"
      },
      "execution_count": 5,
      "outputs": []
    }
  ]
}
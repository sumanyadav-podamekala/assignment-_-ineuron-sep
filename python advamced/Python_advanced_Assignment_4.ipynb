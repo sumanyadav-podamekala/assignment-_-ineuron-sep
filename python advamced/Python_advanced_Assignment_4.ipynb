{
  "nbformat": 4,
  "nbformat_minor": 0,
  "metadata": {
    "colab": {
      "provenance": []
    },
    "kernelspec": {
      "name": "python3",
      "display_name": "Python 3"
    },
    "language_info": {
      "name": "python"
    }
  },
  "cells": [
    {
      "cell_type": "markdown",
      "source": [
        "**Q1. Which two operator overloading methods can you use in your classes to support iteration?**\n",
        "\n",
        "The __iter__ returns the iterator object and is implicitly called at the start of loops.      \n",
        "The __next__ method returns the next value and is implicitly called at each loop increment. __next__ raises a StopIteration exception when there are no more value to return, which is implicitly captured by looping constructs to stop iterating."
      ],
      "metadata": {
        "id": "gLGOr5_6imPN"
      }
    },
    {
      "cell_type": "code",
      "source": [
        "class Counter:\n",
        "    def __init__(self, low, high):\n",
        "        self.current = low\n",
        "        self.high = high\n",
        " \n",
        "    def __iter__(self):\n",
        "        return self\n",
        " \n",
        "    def __next__(self):\n",
        "        if self.current > self.high:\n",
        "            raise StopIteration\n",
        "        else:\n",
        "            self.current += 1\n",
        "            return self.current - 1\n",
        " \n",
        " \n",
        "for num in Counter(5, 15):\n",
        "    print(num)"
      ],
      "metadata": {
        "colab": {
          "base_uri": "https://localhost:8080/"
        },
        "id": "OKI_q0bHjalA",
        "outputId": "450d346b-56b2-4e68-dabd-ec444ec97b37"
      },
      "execution_count": 2,
      "outputs": [
        {
          "output_type": "stream",
          "name": "stdout",
          "text": [
            "5\n",
            "6\n",
            "7\n",
            "8\n",
            "9\n",
            "10\n",
            "11\n",
            "12\n",
            "13\n",
            "14\n",
            "15\n"
          ]
        }
      ]
    },
    {
      "cell_type": "markdown",
      "source": [
        "**Q2. In what contexts do the two operator overloading methods manage printing?**\n",
        "\n",
        "\n",
        "` __str__ and __repr__` are two operator overloading methods that manage printing.\n",
        "\n",
        "In Short, the difference between both these operators is the goal of `__repr__ `is to be unambiguous and` __str__ `is to be readable.\n",
        "Whenever we are printing any object reference internally `__str__` method will be called by default.\n",
        "\n",
        "\n",
        "The main purpose of `__str__ `is for readability. it prints the informal string representation of an object, one that is useful for printing the object. it may not be possible to convert result string to original object.\n",
        "[__repr__](https://) is used to print official string representation of an object, so it includes all information and development."
      ],
      "metadata": {
        "id": "nTDJyNifipnx"
      }
    },
    {
      "cell_type": "markdown",
      "source": [
        "Q3. In a class, how do you intercept slice operations?\n",
        "\n",
        "n a class use of slice() in __getitem__ method is used for intercept slice operation. This slice method is provided with start integer number, stop integer number and step integer number.\n",
        "\n"
      ],
      "metadata": {
        "id": "kRPyZZeqimJQ"
      }
    },
    {
      "cell_type": "markdown",
      "source": [
        "Q4. In a class, how do you capture in-place addition?\n",
        "\n",
        "Python in its definition provides methods to perform inplace operations, i.e doing assignment and computation in a single statement using “operator” module. For example,\n",
        "\n",
        "x += y is equivalent to x = operator.iadd(x, y) \n",
        "\n",
        "1. iadd() :- This function is used to assign and add the current value. This operation does “a+=b” operation. Assigning is not performed in case of immutable containers, such as strings, numbers and tuples.\n",
        "\n",
        "\n",
        "\n",
        "\n"
      ],
      "metadata": {
        "id": "d_4EfRKcizdw"
      }
    },
    {
      "cell_type": "code",
      "source": [
        "import operator as op\n",
        "\n",
        "# using iadd() to add\n",
        "int1 = op.iadd(786,1);\n",
        "\n",
        "# displaying value\n",
        "print (\"The value : \", end=\"\")\n",
        "print (int1)"
      ],
      "metadata": {
        "colab": {
          "base_uri": "https://localhost:8080/"
        },
        "id": "_qi60MYgy2eZ",
        "outputId": "ee1a7b38-abcc-4557-c85b-64682699724a"
      },
      "execution_count": 5,
      "outputs": [
        {
          "output_type": "stream",
          "name": "stdout",
          "text": [
            "The value : 787\n"
          ]
        }
      ]
    },
    {
      "cell_type": "markdown",
      "source": [
        "**Q5. When is it appropriate to use operator overloading?**\n",
        "\n",
        "\n",
        " Operator overloading is used when we want to use an operator other than its normal operation to have different meaning according to the context required in user defined function."
      ],
      "metadata": {
        "id": "JBbr610yi4I4"
      }
    }
  ]
}
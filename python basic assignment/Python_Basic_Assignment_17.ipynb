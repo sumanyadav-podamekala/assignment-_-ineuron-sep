{
  "nbformat": 4,
  "nbformat_minor": 0,
  "metadata": {
    "colab": {
      "provenance": []
    },
    "kernelspec": {
      "name": "python3",
      "display_name": "Python 3"
    },
    "language_info": {
      "name": "python"
    }
  },
  "cells": [
    {
      "cell_type": "markdown",
      "source": [
        "**1. Assign the value 7 to the variable guess_me. Then, write the conditional tests (if, else, and elif) to print the string 'too low' if guess_me is less than 7, 'too high' if greater than 7, and 'just right' if equal to 7.**\n"
      ],
      "metadata": {
        "id": "_PW8y6rOEFHG"
      }
    },
    {
      "cell_type": "code",
      "source": [
        "guess_me=7\n",
        "if guess_me<7:\n",
        "  print(\"too low\")\n",
        "elif guess_me>7:\n",
        "  print( 'too high')\n",
        "else :\n",
        "  print('just right')"
      ],
      "metadata": {
        "colab": {
          "base_uri": "https://localhost:8080/"
        },
        "id": "Umce6awGEPC2",
        "outputId": "3c27d788-583c-4e8d-afe6-e7c0d0247a02"
      },
      "execution_count": null,
      "outputs": [
        {
          "output_type": "stream",
          "name": "stdout",
          "text": [
            "just right\n"
          ]
        }
      ]
    },
    {
      "cell_type": "markdown",
      "source": [
        "**2. Assign the value 7 to the variable guess_me and the value 1 to the variable start. Write a while loop that compares start with guess_me. Print too low if start is less than guess me. If start equals guess_me, print 'found it!' and exit the loop. If start is greater than guess_me, print 'oops' and exit the loop. Increment start at the end of the loop.**\n"
      ],
      "metadata": {
        "id": "JauWGTFUEI1e"
      }
    },
    {
      "cell_type": "code",
      "source": [
        "guess_me=7\n",
        "start=1\n",
        "a= True\n",
        "while a:\n",
        "  if start< guess_me:\n",
        "    print(\"too low\")\n",
        "  elif start== guess_me:\n",
        "    print( 'found it!')\n",
        "    break\n",
        "  elif start> guess_me:\n",
        "    print('oops') \n",
        "    break\n",
        "  start+=1\n",
        "    \n"
      ],
      "metadata": {
        "colab": {
          "base_uri": "https://localhost:8080/"
        },
        "id": "APZ3taLjJU39",
        "outputId": "fe783f51-d786-4c8a-a9af-ff940ecab2db"
      },
      "execution_count": null,
      "outputs": [
        {
          "output_type": "stream",
          "name": "stdout",
          "text": [
            "too low\n",
            "too low\n",
            "too low\n",
            "too low\n",
            "too low\n",
            "too low\n",
            "found it!\n"
          ]
        }
      ]
    },
    {
      "cell_type": "markdown",
      "source": [
        "**3. Print the following values of the list [3, 2, 1, 0] using a for loop.**"
      ],
      "metadata": {
        "id": "8LlT6d9gELg9"
      }
    },
    {
      "cell_type": "code",
      "source": [
        "a= [3, 2, 1, 0]\n",
        "for i in a:\n",
        "  print(i)"
      ],
      "metadata": {
        "colab": {
          "base_uri": "https://localhost:8080/"
        },
        "id": "-bDng8hVMG5V",
        "outputId": "7a69e016-998e-4d42-a3e4-e3f7246af8f5"
      },
      "execution_count": null,
      "outputs": [
        {
          "output_type": "stream",
          "name": "stdout",
          "text": [
            "3\n",
            "2\n",
            "1\n",
            "0\n"
          ]
        }
      ]
    },
    {
      "cell_type": "markdown",
      "source": [
        "**4. Use a list comprehension to make a list of the even numbers in range(10)**"
      ],
      "metadata": {
        "id": "Q6aTzW-lEM5e"
      }
    },
    {
      "cell_type": "code",
      "source": [
        "a=[ i for i in range(0,10,2)]\n",
        "a"
      ],
      "metadata": {
        "colab": {
          "base_uri": "https://localhost:8080/"
        },
        "id": "L1En4S3rMUn7",
        "outputId": "255238eb-1b1a-4b0d-ff77-00aae8b03113"
      },
      "execution_count": null,
      "outputs": [
        {
          "output_type": "execute_result",
          "data": {
            "text/plain": [
              "[0, 2, 4, 6, 8]"
            ]
          },
          "metadata": {},
          "execution_count": 26
        }
      ]
    },
    {
      "cell_type": "markdown",
      "source": [
        "**5. Use a dictionary comprehension to create the dictionary squares. Use range(10) to return the keys, and use the square of each key as its value.**"
      ],
      "metadata": {
        "id": "bygIbk6gMnMs"
      }
    },
    {
      "cell_type": "code",
      "source": [
        "myd={ i:i **2 for i in range(10) }\n",
        "myd"
      ],
      "metadata": {
        "colab": {
          "base_uri": "https://localhost:8080/"
        },
        "id": "WRLPYBMQNqNL",
        "outputId": "a8424e71-1fcf-40d1-a1ea-6c3c5cefdee2"
      },
      "execution_count": null,
      "outputs": [
        {
          "output_type": "execute_result",
          "data": {
            "text/plain": [
              "{0: 0, 1: 1, 2: 4, 3: 9, 4: 16, 5: 25, 6: 36, 7: 49, 8: 64, 9: 81}"
            ]
          },
          "metadata": {},
          "execution_count": 27
        }
      ]
    },
    {
      "cell_type": "markdown",
      "source": [
        "**6. Construct the set odd from the odd numbers in the range using a set comprehension (10).**\n",
        "\n"
      ],
      "metadata": {
        "id": "lchYwmtKMqr9"
      }
    },
    {
      "cell_type": "code",
      "source": [
        "sodd: set={i for i  in range(1,10,2)}\n",
        "sodd"
      ],
      "metadata": {
        "colab": {
          "base_uri": "https://localhost:8080/"
        },
        "id": "12jjTTsoORTr",
        "outputId": "9add9df4-5a71-4722-93f4-46cf3f2d1d3a"
      },
      "execution_count": null,
      "outputs": [
        {
          "output_type": "execute_result",
          "data": {
            "text/plain": [
              "{1, 3, 5, 7, 9}"
            ]
          },
          "metadata": {},
          "execution_count": 29
        }
      ]
    },
    {
      "cell_type": "markdown",
      "source": [
        "**7. Use a generator comprehension to return the string 'Got ' and a number for the numbers in range(10). Iterate through this by using a for loop.**"
      ],
      "metadata": {
        "id": "tTkUEfdMMsNM"
      }
    },
    {
      "cell_type": "code",
      "source": [
        "gen_com = ('Got '+str(x) for x in range(10))\n",
        "for ele in gen_com:\n",
        "    print(ele, end=',')"
      ],
      "metadata": {
        "colab": {
          "base_uri": "https://localhost:8080/"
        },
        "id": "tlvx68X9OxrA",
        "outputId": "b80252dd-9c18-4d75-dae6-8619b9904492"
      },
      "execution_count": null,
      "outputs": [
        {
          "output_type": "stream",
          "name": "stdout",
          "text": [
            "Got 0,Got 1,Got 2,Got 3,Got 4,Got 5,Got 6,Got 7,Got 8,Got 9,"
          ]
        }
      ]
    },
    {
      "cell_type": "markdown",
      "source": [
        "**8. Define a function called good that returns the list ['Harry', 'Ron', 'Hermione'].**"
      ],
      "metadata": {
        "id": "SvILyvBVMtSj"
      }
    },
    {
      "cell_type": "code",
      "source": [
        "l=['Harry', 'Ron', 'Hermione']\n",
        "def good():\n",
        "  return l\n",
        "good()"
      ],
      "metadata": {
        "colab": {
          "base_uri": "https://localhost:8080/"
        },
        "id": "0AD01WQmQrlw",
        "outputId": "cbb24aa8-d0fc-4546-ebc9-0dc503951ff3"
      },
      "execution_count": null,
      "outputs": [
        {
          "output_type": "execute_result",
          "data": {
            "text/plain": [
              "['Harry', 'Ron', 'Hermione']"
            ]
          },
          "metadata": {},
          "execution_count": 38
        }
      ]
    },
    {
      "cell_type": "markdown",
      "source": [
        "**9. Define a generator function called get_odds that returns the odd numbers from range(10). Use a for loop to find and print the third value returned.**\n",
        "\n"
      ],
      "metadata": {
        "id": "mop-UUNtQ_tL"
      }
    },
    {
      "cell_type": "code",
      "source": [
        "def get_odds():\n",
        "  f=range(1,10,2)\n",
        "  yield f\n",
        "next(get_odds())[2]"
      ],
      "metadata": {
        "colab": {
          "base_uri": "https://localhost:8080/"
        },
        "id": "qkmdVGhARE3S",
        "outputId": "15f8fa2d-b108-4871-b001-610e622f4d60"
      },
      "execution_count": null,
      "outputs": [
        {
          "output_type": "execute_result",
          "data": {
            "text/plain": [
              "5"
            ]
          },
          "metadata": {},
          "execution_count": 44
        }
      ]
    },
    {
      "cell_type": "markdown",
      "source": [
        "**10. Define an exception called OopsException. Raise this exception to see what happens. Then write the code to catch this exception and print 'Caught an oops'.**\n",
        "\n"
      ],
      "metadata": {
        "id": "1_ZhcvODRBAN"
      }
    },
    {
      "cell_type": "code",
      "source": [
        "class OopsException(Exception):\n",
        "    pass\n",
        "def test(input):\n",
        "    if input <0:\n",
        "        raise OopsException('Caught an oops')\n",
        "try:\n",
        "    test(-100)\n",
        "except  OopsException as e:\n",
        "    print(e)\n"
      ],
      "metadata": {
        "colab": {
          "base_uri": "https://localhost:8080/"
        },
        "id": "2t-HTgbMSqSc",
        "outputId": "ef88286f-0ccb-4270-fd15-9e5cac84b509"
      },
      "execution_count": 21,
      "outputs": [
        {
          "output_type": "stream",
          "name": "stdout",
          "text": [
            "Caught an oops\n"
          ]
        }
      ]
    },
    {
      "cell_type": "markdown",
      "source": [
        "**11. Use zip() to make a dictionary called movies that pairs these lists: titles = ['Creature of Habit', 'Crewel Fate'] and plots = ['A nun turns into a monster', 'A haunted yarn shop'].**"
      ],
      "metadata": {
        "id": "Ox9pTuSCRCNq"
      }
    },
    {
      "cell_type": "code",
      "source": [
        "titles = ['Creature of Habit', 'Crewel Fate'] \n",
        "plots = ['A nun turns into a monster', 'A haunted yarn shop']\n",
        "movies=dict(zip(titles,plots))\n",
        "movies"
      ],
      "metadata": {
        "colab": {
          "base_uri": "https://localhost:8080/"
        },
        "id": "Bmmaf5C7VXS7",
        "outputId": "f8994dbf-2b93-4bc0-85db-14cf707957d2"
      },
      "execution_count": null,
      "outputs": [
        {
          "output_type": "execute_result",
          "data": {
            "text/plain": [
              "{'Creature of Habit': 'A nun turns into a monster',\n",
              " 'Crewel Fate': 'A haunted yarn shop'}"
            ]
          },
          "metadata": {},
          "execution_count": 46
        }
      ]
    },
    {
      "cell_type": "code",
      "source": [],
      "metadata": {
        "id": "D6Ejjv0iVmp1"
      },
      "execution_count": null,
      "outputs": []
    }
  ]
}
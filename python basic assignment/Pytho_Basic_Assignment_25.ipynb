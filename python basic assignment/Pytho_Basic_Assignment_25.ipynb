{
  "nbformat": 4,
  "nbformat_minor": 0,
  "metadata": {
    "colab": {
      "provenance": []
    },
    "kernelspec": {
      "name": "python3",
      "display_name": "Python 3"
    },
    "language_info": {
      "name": "python"
    }
  },
  "cells": [
    {
      "cell_type": "markdown",
      "source": [
        "**1) . What is the difference between enclosing a list comprehension in square brackets and parentheses?**\n",
        "\n",
        "ans)  the difference is\n",
        "\n"
      ],
      "metadata": {
        "id": "sK1m-ZtwIPTs"
      }
    },
    {
      "cell_type": "code",
      "source": [
        "list1=[ i for i in  range(1, 200) if i%10==0]"
      ],
      "metadata": {
        "id": "hUIH0SDgKbEs"
      },
      "execution_count": null,
      "outputs": []
    },
    {
      "cell_type": "markdown",
      "source": [
        "enclosing a list comprehension in square brackets our output is  nested list"
      ],
      "metadata": {
        "id": "tpuP4K74RCy7"
      }
    },
    {
      "cell_type": "code",
      "source": [
        "k=[list1]\n",
        "print(k)\n",
        "print(type(k))"
      ],
      "metadata": {
        "colab": {
          "base_uri": "https://localhost:8080/"
        },
        "id": "vmKGTQGpMwwH",
        "outputId": "0f41334e-0d0f-4d73-8ea8-c1e2bdad9cbd"
      },
      "execution_count": null,
      "outputs": [
        {
          "output_type": "stream",
          "name": "stdout",
          "text": [
            "[[10, 20, 30, 40, 50, 60, 70, 80, 90, 100, 110, 120, 130, 140, 150, 160, 170, 180, 190]]\n",
            "<class 'list'>\n"
          ]
        }
      ]
    },
    {
      "cell_type": "markdown",
      "source": [
        "enclosing a list comprehension in parenthesis our output is list"
      ],
      "metadata": {
        "id": "ZE_gkQgdRemO"
      }
    },
    {
      "cell_type": "code",
      "source": [
        "m=(list1)\n",
        "print(m)\n",
        "print(type(m))"
      ],
      "metadata": {
        "colab": {
          "base_uri": "https://localhost:8080/"
        },
        "id": "lIbsb0-gM48F",
        "outputId": "b6e99c6e-45fe-41d1-aa42-358df09a0ba6"
      },
      "execution_count": null,
      "outputs": [
        {
          "output_type": "stream",
          "name": "stdout",
          "text": [
            "[10, 20, 30, 40, 50, 60, 70, 80, 90, 100, 110, 120, 130, 140, 150, 160, 170, 180, 190]\n",
            "<class 'list'>\n"
          ]
        }
      ]
    },
    {
      "cell_type": "markdown",
      "source": [
        "but below the ouptput is generator"
      ],
      "metadata": {
        "id": "uqDymbEGSHBe"
      }
    },
    {
      "cell_type": "code",
      "source": [
        "list2=( i for i in  range(1, 200) if i%10==0)\n",
        "type(list2)"
      ],
      "metadata": {
        "colab": {
          "base_uri": "https://localhost:8080/"
        },
        "id": "O93uFYaaRooO",
        "outputId": "e84dfd16-09e9-4913-d4a3-0e0f50eb3f1f"
      },
      "execution_count": null,
      "outputs": [
        {
          "output_type": "execute_result",
          "data": {
            "text/plain": [
              "generator"
            ]
          },
          "metadata": {},
          "execution_count": 26
        }
      ]
    },
    {
      "cell_type": "markdown",
      "source": [
        "**2) What is the relationship between generators and iterators?**\n"
      ],
      "metadata": {
        "id": "tKW2xRdSI54s"
      }
    },
    {
      "cell_type": "markdown",
      "source": [
        "For an iterator: iter() keyword is used to create an iterator containing an iterable object.next() keyword is used to call the next element in the iterable object. \n",
        "\n",
        "Similarly Generators are an another way of creating iterators in a simple way where it uses the keyword yield statement instead of return statement in a defined function.Generators are implemented using a function. Just as iterators, generators also follow lazy evaluation. Here, the yield function returns the data without affecting or exiting the function. It will return a sequence of data in an iterable format where we need to iterate over the sequence to use the data as they won’t store the entire sequence in the memory."
      ],
      "metadata": {
        "id": "hTk6mmmPTNEX"
      }
    },
    {
      "cell_type": "markdown",
      "source": [
        "**3) What are the signs that a function is a generator function?**\n",
        "\n",
        "\n",
        "A generator function uses a `yield` statement instead of a return statement. A generator function will always return a iterable object called generator. where as a normal function can return a string/list/tuple/dict/NoneType ... etc\n"
      ],
      "metadata": {
        "id": "AtwCHzILI7NQ"
      }
    },
    {
      "cell_type": "markdown",
      "source": [
        "**4) What is the purpose of a yield statement?**\n",
        "\n",
        "The **yield statement** suspends function’s execution and sends a value back to the caller, but retains enough state to enable function to resume where it is left off. When resumed, the function continues execution immediately after the last yield run. This allows its code to produce a series of values over time, rather than computing them at once and sending them back like a list."
      ],
      "metadata": {
        "id": "yAM1sS2vI8V8"
      }
    },
    {
      "cell_type": "markdown",
      "source": [
        "**5) What is the relationship between map calls and list comprehensions? Make a comparison and contrast between the two.**"
      ],
      "metadata": {
        "id": "g8vRgj8gI9kU"
      }
    },
    {
      "cell_type": "markdown",
      "source": [
        "** differences between map calls and list comprehensiosn**:\n",
        "\n",
        "\n",
        "list comprehension has a simpler configuration than the map function.  \n",
        "List comprehension can be used together with if condition as replacement of filter method. Map function has no such functionality. However, we can feed the map function output to the filter function.  \n",
        "List comprehension returns a list, whereas the map function returns an object of Iterable.  \n",
        "List comprehension execution is faster than that of map function when the formula expression is huge and complex. \n",
        "Map function is faster than list comprehension when the formula is already defined as a function earlier. So, that map function is used without lambda expression. "
      ],
      "metadata": {
        "id": "kyNHHJQt1NkY"
      }
    },
    {
      "cell_type": "code",
      "source": [
        "l1=[ i for i in range(1,20) if i%2==0]\n",
        "l1"
      ],
      "metadata": {
        "colab": {
          "base_uri": "https://localhost:8080/"
        },
        "id": "vm9UB0wl1NFQ",
        "outputId": "dcf14bc4-08aa-4e4d-df17-363634608328"
      },
      "execution_count": 62,
      "outputs": [
        {
          "output_type": "execute_result",
          "data": {
            "text/plain": [
              "[2, 4, 6, 8, 10, 12, 14, 16, 18]"
            ]
          },
          "metadata": {},
          "execution_count": 62
        }
      ]
    },
    {
      "cell_type": "code",
      "source": [
        "l2=range(1,20)\n",
        "def fun(a):\n",
        "  if a%2==0:\n",
        "    return a\n",
        "k=list(map(fun,l2))\n",
        "m=[i for i in k if i != None]\n",
        "m\n"
      ],
      "metadata": {
        "colab": {
          "base_uri": "https://localhost:8080/"
        },
        "id": "_LRNXZ0t17EC",
        "outputId": "fc968240-1b48-453f-bdb5-521717285102"
      },
      "execution_count": 68,
      "outputs": [
        {
          "output_type": "execute_result",
          "data": {
            "text/plain": [
              "[2, 4, 6, 8, 10, 12, 14, 16, 18]"
            ]
          },
          "metadata": {},
          "execution_count": 68
        }
      ]
    }
  ]
}
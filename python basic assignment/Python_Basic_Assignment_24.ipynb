{
  "nbformat": 4,
  "nbformat_minor": 0,
  "metadata": {
    "colab": {
      "provenance": []
    },
    "kernelspec": {
      "name": "python3",
      "display_name": "Python 3"
    },
    "language_info": {
      "name": "python"
    }
  },
  "cells": [
    {
      "cell_type": "markdown",
      "source": [
        "**1. What is the relationship between def statements and lambda expressions ?**\n",
        "\n"
      ],
      "metadata": {
        "id": "XirWvkRuTp-B"
      }
    },
    {
      "cell_type": "markdown",
      "source": [
        "def statement is used to create a normal function. where as lamba expressions are used to create Anonymous functions. which can be assigned to a variable and can be called using the variable later in function.\n",
        "\n",
        "The def defined functions do not return anything if not explicitly returned whereas the lambda function does return an object. \n",
        "\n",
        "Both lambda and def create the same kind of function – they have the same kind of metadata and capabilities. Their technical difference is syntactical: A lambda is an expression producing a function. A def is a statement producing a function."
      ],
      "metadata": {
        "id": "1KvPCGICUgIa"
      }
    },
    {
      "cell_type": "markdown",
      "source": [
        "**2. What is the benefit of lambda?**\n",
        "\n",
        "benefits of lambda expressions:\n",
        "\n",
        "used to create Anonymous functions inside some complex functions if we are planning to use it only once.   \n",
        "We could use lambda to finish the same computation in one line. \n",
        "Fuctions created using lambda expressions can be assigned to a variable and can be used by simply calling the variable\n"
      ],
      "metadata": {
        "id": "qONJCmyNTy34"
      }
    },
    {
      "cell_type": "markdown",
      "source": [
        "**3. Compare and contrast map, filter, and reduce.**\n",
        "\n",
        "\n",
        "map(): The map() function is a type of higher-order. This function takes another function as a parameter along with a sequence of iterables and returns an output after applying the function to each iterable present in the sequence.    \n",
        "filter(): The filter() function is used to create an output list consisting of values for which the function returns true.   \n",
        "reduce(): The reduce() function, as the name describes, applies a given function to the iterables and returns a single value\n"
      ],
      "metadata": {
        "id": "dy_3h8IlT1S5"
      }
    },
    {
      "cell_type": "markdown",
      "source": [
        "**4. What are function annotations, and how are they used?**\n",
        "\n",
        "Function annotations, both for parameters and return values, are completely optional.     \n",
        "Function annotations are nothing more than a way of associating arbitrary Python expressions with various parts of a function at compile-time.   \n",
        "By itself, Python does not attach any particular meaning or significance to annotations.\n"
      ],
      "metadata": {
        "id": "zOSPKtgCT3BZ"
      }
    },
    {
      "cell_type": "code",
      "source": [
        "def func(a: int, b: repr) -> str:\n",
        "  return a"
      ],
      "metadata": {
        "id": "OyJN4r_gZr7T"
      },
      "execution_count": 2,
      "outputs": []
    },
    {
      "cell_type": "markdown",
      "source": [
        "**5. What are recursive functions, and how are they used?**\n",
        "\n",
        "A recursive function is a function in code that refers to itself for execution. Recursive functions can be simple or elaborate\n"
      ],
      "metadata": {
        "id": "BQihwB3HT5Uw"
      }
    },
    {
      "cell_type": "code",
      "source": [
        "def recur_factorial(n):\n",
        "   if n == 1:\n",
        "       return n\n",
        "   else:\n",
        "       return n*recur_factorial(n-1)"
      ],
      "metadata": {
        "id": "AY2VQ9COaMlZ"
      },
      "execution_count": 3,
      "outputs": []
    },
    {
      "cell_type": "markdown",
      "source": [
        "**6. What are some general design guidelines for coding functions?** "
      ],
      "metadata": {
        "id": "Ss6ZgZqUT6Wo"
      }
    },
    {
      "cell_type": "markdown",
      "source": [
        "**Use 4-space indentation and no tabs.**\n",
        "\n",
        "\n",
        "\n"
      ],
      "metadata": {
        "id": "R7Efk043dzul"
      }
    },
    {
      "cell_type": "markdown",
      "source": [
        "**Use docstrings** : There are both single and multi-line docstrings that can be used in Python. However, the single line comment fits in one line, triple quotes are used in both cases. These are used to define a particular program or define a particular function."
      ],
      "metadata": {
        "id": "84zGimn3d5bR"
      }
    },
    {
      "cell_type": "markdown",
      "source": [
        "**Wrap lines so that they don’t exceed 79 characters** : The Python standard library is conservative and requires limiting lines to 79 characters. The lines can be wrapped using parenthesis, brackets, and braces. They should be used in preference to backslashes."
      ],
      "metadata": {
        "id": "3C6S9yR6d-ch"
      }
    },
    {
      "cell_type": "markdown",
      "source": [
        "**Use of regular and updated comments are valuable to both the coders and users**"
      ],
      "metadata": {
        "id": "23YC6jUtec6S"
      }
    },
    {
      "cell_type": "markdown",
      "source": [
        "**Use of trailing commas** : This is not mandatory except while making a tuple.\n",
        "Example:\n",
        "\n",
        "`tup = (\"geek\",)`"
      ],
      "metadata": {
        "id": "scsswCVaeeL5"
      }
    },
    {
      "cell_type": "markdown",
      "source": [
        " **Use spaces around operators and after commas, but not directly inside bracketing constructs**:\n",
        "\n",
        "`a = f(1, 2) + g(3, 4)`"
      ],
      "metadata": {
        "id": "1Gzm1Jg5etJI"
      }
    },
    {
      "cell_type": "markdown",
      "source": [
        "**7. Name three or more ways that functions can communicate results to a caller.**"
      ],
      "metadata": {
        "id": "UZCsVQYQT7do"
      }
    },
    {
      "cell_type": "markdown",
      "source": [
        "Some of the ways in which a function can communicate with the calling function is:\n",
        "\n",
        "print\n",
        "\n",
        "return\n",
        "\n",
        "yield"
      ],
      "metadata": {
        "id": "VIWbJKZLfQur"
      }
    }
  ]
}
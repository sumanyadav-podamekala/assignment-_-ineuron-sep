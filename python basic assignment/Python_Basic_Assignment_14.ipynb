{
  "nbformat": 4,
  "nbformat_minor": 0,
  "metadata": {
    "colab": {
      "provenance": []
    },
    "kernelspec": {
      "name": "python3",
      "display_name": "Python 3"
    },
    "language_info": {
      "name": "python"
    }
  },
  "cells": [
    {
      "cell_type": "code",
      "execution_count": null,
      "metadata": {
        "id": "ZDOadEpaBajK"
      },
      "outputs": [],
      "source": []
    },
    {
      "cell_type": "markdown",
      "source": [
        "**1. What does RGBA stand for?**\n"
      ],
      "metadata": {
        "id": "tJmdAwVzBcar"
      }
    },
    {
      "cell_type": "markdown",
      "source": [
        "RGBA(Red-Green-Blue-Alpha)"
      ],
      "metadata": {
        "id": "MoJwMYwIC1_N"
      }
    },
    {
      "cell_type": "markdown",
      "source": [
        "**2. From the Pillow module, how do you get the RGBA value of any images?**\n",
        "\n",
        "\n"
      ],
      "metadata": {
        "id": "IKibVjYSBg0z"
      }
    },
    {
      "cell_type": "markdown",
      "source": [
        "`ImageColor.getcolor()` gives rgba value of any image"
      ],
      "metadata": {
        "id": "OngTprNxZFH-"
      }
    },
    {
      "cell_type": "code",
      "source": [
        "\n",
        "# importing Image module from PIL package\n",
        "from PIL import Image, ImageColor\n",
        " \n",
        "# using getcolor\n",
        "im = ImageColor.getcolor(\"orange\", \"L\")\n",
        "print(im)\n",
        " \n",
        "im1 = ImageColor.getcolor(\"red\", \"L\")\n",
        "print(im1)"
      ],
      "metadata": {
        "colab": {
          "base_uri": "https://localhost:8080/"
        },
        "id": "oSoDB2zfZVEk",
        "outputId": "0687572c-2b65-434a-b4d9-92580511a692"
      },
      "execution_count": 1,
      "outputs": [
        {
          "output_type": "stream",
          "name": "stdout",
          "text": [
            "173\n",
            "76\n"
          ]
        }
      ]
    },
    {
      "cell_type": "markdown",
      "source": [
        "**3. What is a box tuple, and how does it work?**\n",
        "\n",
        "A box tuple is a tuple value of four integers: the left-edge x-coordinate, the top-edge y-coordinate,the width, and the height, respectively.\n"
      ],
      "metadata": {
        "id": "BpwM6LTMBi1Y"
      }
    },
    {
      "cell_type": "markdown",
      "source": [
        "**4. Use your image and load in notebook then, How can you find out the width and height of an Image object?**\n"
      ],
      "metadata": {
        "id": "PEkOparWBlC3"
      }
    },
    {
      "cell_type": "code",
      "source": [
        "#Example Program\n",
        "from PIL import Image\n",
        "pic = Image.open('forest.jpg')\n",
        "print(f'Width, Height -> {pic.size}')\n"
      ],
      "metadata": {
        "colab": {
          "base_uri": "https://localhost:8080/"
        },
        "id": "p8vT4qhAZtGO",
        "outputId": "3d69e6dd-01f3-401a-9a18-92ded099aee2"
      },
      "execution_count": 9,
      "outputs": [
        {
          "output_type": "stream",
          "name": "stdout",
          "text": [
            "Width, Height -> (2048, 1536)\n"
          ]
        }
      ]
    },
    {
      "cell_type": "markdown",
      "source": [
        "**5. What method would you call to get Image object for a 100×100 image, excluding the lower-left quarter of it?**\n"
      ],
      "metadata": {
        "id": "AYLeLQzFBnXH"
      }
    },
    {
      "cell_type": "code",
      "source": [
        "from PIL import Image\n",
        "img = Image.open('forest.jpg')\n",
        "new_img = img.crop((0,50,50,50))"
      ],
      "metadata": {
        "id": "QBMBIGcedBwH"
      },
      "execution_count": 10,
      "outputs": []
    },
    {
      "cell_type": "markdown",
      "source": [
        "**6. After making changes to an Image object, how could you save it as an image file?**\n"
      ],
      "metadata": {
        "id": "P3o_mpLEBppP"
      }
    },
    {
      "cell_type": "code",
      "source": [
        "from PIL import Image\n",
        "pic = Image.open('forest.jpg')\n",
        "pic.save('forest2.jpg')"
      ],
      "metadata": {
        "id": "uGpUon7RdL9N"
      },
      "execution_count": 11,
      "outputs": []
    },
    {
      "cell_type": "markdown",
      "source": [
        "**7. What module contains Pillow’s shape-drawing code?**\n",
        "\n",
        "Pillows ImageDraw module contains Shape drawing methods\n"
      ],
      "metadata": {
        "id": "6sSrVLNcBqrm"
      }
    },
    {
      "cell_type": "code",
      "source": [],
      "metadata": {
        "id": "rDP7rRL5dl0h"
      },
      "execution_count": null,
      "outputs": []
    },
    {
      "cell_type": "markdown",
      "source": [
        "**8. Image objects do not have drawing methods. What kind of object does? How do you get this kind of object?**\n",
        "\n",
        "ImageDraw objects have shape-drawing methods such as point(), line(), or rectangle().They are returned by passing the Image object to the ImageDraw.Draw() function."
      ],
      "metadata": {
        "id": "FQO8zpjqBrxm"
      }
    }
  ]
}
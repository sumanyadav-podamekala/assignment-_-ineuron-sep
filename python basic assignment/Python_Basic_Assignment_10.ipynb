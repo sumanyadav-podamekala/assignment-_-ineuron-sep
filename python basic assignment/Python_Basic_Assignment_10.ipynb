{
  "nbformat": 4,
  "nbformat_minor": 0,
  "metadata": {
    "colab": {
      "provenance": []
    },
    "kernelspec": {
      "name": "python3",
      "display_name": "Python 3"
    },
    "language_info": {
      "name": "python"
    }
  },
  "cells": [
    {
      "cell_type": "markdown",
      "source": [
        "**1. How do you distinguish between shutil.copy() and shutil.copytree()?**\n"
      ],
      "metadata": {
        "id": "BWV-Kmw6x4eB"
      }
    },
    {
      "cell_type": "markdown",
      "source": [
        "The `shutil.copy()` function will copy a single file, while s`hutil.copytree`() will copy an entire folder, along with all its contents."
      ],
      "metadata": {
        "id": "nYs2G9q9x3Na"
      }
    },
    {
      "cell_type": "markdown",
      "source": [
        "**2. What function is used to rename files??**\n",
        "\n"
      ],
      "metadata": {
        "id": "N29olrXox7G6"
      }
    },
    {
      "cell_type": "markdown",
      "source": [
        "use the rename() method of the os module. "
      ],
      "metadata": {
        "id": "ieW67dV_2PcK"
      }
    },
    {
      "cell_type": "markdown",
      "source": [
        "**3. What is the difference between the delete functions in the send2trash and shutil modules?**\n"
      ],
      "metadata": {
        "id": "Aj1jctoiyBvY"
      }
    },
    {
      "cell_type": "markdown",
      "source": [
        "The send2trash functions will move a file or folder to the recycle bin, while shutil functions will permanently delete files and folders."
      ],
      "metadata": {
        "id": "yG77xY452akx"
      }
    },
    {
      "cell_type": "markdown",
      "source": [
        "**4.ZipFile objects have a close() method just like File objects’ close() method. What ZipFile method is equivalent to File objects’ open() method?**\n"
      ],
      "metadata": {
        "id": "d_79u-kWyDKZ"
      }
    },
    {
      "cell_type": "markdown",
      "source": [
        "ZipFile Module provides a method called as zipfile.ZipFile() to read and write to zipFiles. it takes arugments lile filename and mode etc zipfile.ZipFile('filename', mode = 'r')"
      ],
      "metadata": {
        "id": "UkBCQwdS28Ra"
      }
    },
    {
      "cell_type": "markdown",
      "source": [
        "**5. Create a programme that searches a folder tree for files with a certain file extension (such as .pdf or .jpg). Copy these files from whatever location they are in to a new folder.**"
      ],
      "metadata": {
        "id": "LRNP10YPyEio"
      }
    },
    {
      "cell_type": "markdown",
      "source": [
        "\n",
        "\n",
        "```\n",
        "`# This is formatted as code`\n",
        "```\n",
        "\n"
      ],
      "metadata": {
        "id": "VORjX0Wtx3By"
      }
    },
    {
      "cell_type": "code",
      "source": [
        "import os\n",
        "import shutil\n",
        "def search_and_copy(source,destination,extensions):\n",
        "    source = os.path.abspath(source)\n",
        "    destination = os.path.abspath(destination)\n",
        "    for foldername, subfolder, filenames in os.walk(source):\n",
        "        print(f'{foldername= }',end='\\n\\n')\n",
        "        print(f'{subfolder=}',end='\\n\\n')\n",
        "        print(f'{filenames=}',end='\\n\\n')\n",
        "        for filename in filenames:\n",
        "            fileName,extension = os.path.splitext(filename)\n",
        "            if extension in extensions:\n",
        "                targetFile = foldername+os.path.sep+fileName+extension\n",
        "                shutil.copy(targetFile, destination)\n",
        "        print(f'Files copied successfully from {source} to {destination}')\n",
        "    \n",
        "extensions = ['.pdf','.jpg','.txt','.ipynb']\n",
        "source = 'C:\\\\Users\\\\sumanyadav\\\\Desktop\\\\myproject'\n",
        "destination = 'C:\\\\Users\\\\sumanyadav\\\\Desktop\\\\myproject2'\n",
        "search_and_copy(source, destination, extensions)"
      ],
      "metadata": {
        "id": "sujeYDD8Pq7T"
      },
      "execution_count": null,
      "outputs": []
    },
    {
      "cell_type": "code",
      "source": [],
      "metadata": {
        "id": "mqtAfe5pPkji"
      },
      "execution_count": null,
      "outputs": []
    }
  ]
}
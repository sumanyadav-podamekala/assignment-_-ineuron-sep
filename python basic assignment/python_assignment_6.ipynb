{
  "nbformat": 4,
  "nbformat_minor": 0,
  "metadata": {
    "colab": {
      "provenance": [],
      "collapsed_sections": []
    },
    "kernelspec": {
      "name": "python3",
      "display_name": "Python 3"
    },
    "language_info": {
      "name": "python"
    }
  },
  "cells": [
    {
      "cell_type": "markdown",
      "source": [
        "1. What are escape characters, and how do you use them? \n",
        "\n",
        "To insert characters that are illegal in a string, use an escape character.\n",
        "\n",
        "```\n",
        "\\'\tSingle Quote\t\n",
        "\\\\\tBackslash\t\n",
        "\\n\tNew Line\t\n",
        "\\r\tCarriage Return\t\n",
        "\\t\tTab\t\n",
        "\\b\tBackspace\t\n",
        "\\f\tForm Feed\t\n",
        "\\ooo\tOctal value\t\n",
        "\\xhh\tHex value\n",
        "```\n",
        "\n"
      ],
      "metadata": {
        "id": "qTx-B04VVrJa"
      }
    },
    {
      "cell_type": "code",
      "source": [
        "# \\\\    Backslash   \n",
        "t = \"my nameis suman.\\\\ from nellore.\"\n",
        "print(t) "
      ],
      "metadata": {
        "colab": {
          "base_uri": "https://localhost:8080/"
        },
        "id": "qSr0-DS4xZYX",
        "outputId": "ddc3319a-5bea-47cf-ae6b-dbd0ff884926"
      },
      "execution_count": 81,
      "outputs": [
        {
          "output_type": "stream",
          "name": "stdout",
          "text": [
            "my nameis suman.\\ from nellore.\n"
          ]
        }
      ]
    },
    {
      "cell_type": "code",
      "source": [
        "# \\ n   new line  \n",
        "t = \"suman \\n2\\\\6,\\nallur village\\nnellore.\"\n",
        "print(t)"
      ],
      "metadata": {
        "colab": {
          "base_uri": "https://localhost:8080/"
        },
        "id": "xF1RgrW6aJpr",
        "outputId": "93b2bacb-6fc0-4776-f912-f995a21fb31a"
      },
      "execution_count": 82,
      "outputs": [
        {
          "output_type": "stream",
          "name": "stdout",
          "text": [
            "suman \n",
            "2\\6,\n",
            "allur village\n",
            "nellore.\n"
          ]
        }
      ]
    },
    {
      "cell_type": "code",
      "source": [
        "# \\'    Single Quote \n",
        "k= \"it\\'s agorilla\"\n",
        "print(k)"
      ],
      "metadata": {
        "colab": {
          "base_uri": "https://localhost:8080/"
        },
        "id": "IfMeOLiWbkTn",
        "outputId": "73af5b67-70df-446a-8b71-35cf5a3ed0b1"
      },
      "execution_count": 83,
      "outputs": [
        {
          "output_type": "stream",
          "name": "stdout",
          "text": [
            "it's agorilla\n"
          ]
        }
      ]
    },
    {
      "cell_type": "code",
      "source": [
        "#\\n    New Line   \n",
        "print(\"my name is suman \\niam from nellore\")"
      ],
      "metadata": {
        "colab": {
          "base_uri": "https://localhost:8080/"
        },
        "id": "HtSEb6rJb8n-",
        "outputId": "ab9ca68f-a1be-4bcf-99d3-5e32bb28cfc8"
      },
      "execution_count": 84,
      "outputs": [
        {
          "output_type": "stream",
          "name": "stdout",
          "text": [
            "my name is suman \n",
            "iam from nellore\n"
          ]
        }
      ]
    },
    {
      "cell_type": "code",
      "source": [
        "# \\r    Carriage Return  \n",
        "print('Python is included in CodeSpeedy\\r123456')"
      ],
      "metadata": {
        "colab": {
          "base_uri": "https://localhost:8080/"
        },
        "id": "9fdtlbN7cYwq",
        "outputId": "29e861b2-519e-4a31-aee4-993fe71a2a44"
      },
      "execution_count": 85,
      "outputs": [
        {
          "output_type": "stream",
          "name": "stdout",
          "text": [
            "Python is included in CodeSpeedy\r123456\n"
          ]
        }
      ]
    },
    {
      "cell_type": "code",
      "source": [
        "print(\" my name is suman.\\tiam from nellore\") #\\t    Tab    "
      ],
      "metadata": {
        "colab": {
          "base_uri": "https://localhost:8080/"
        },
        "id": "QKtXcLpVdbTu",
        "outputId": "6b6e654b-3560-4165-e922-87a7247e88f8"
      },
      "execution_count": 86,
      "outputs": [
        {
          "output_type": "stream",
          "name": "stdout",
          "text": [
            " my name is suman.\tiam from nellore\n"
          ]
        }
      ]
    },
    {
      "cell_type": "markdown",
      "source": [
        "2. What do the escape characters n and t stand for?\n",
        "\n",
        "\\n is New Line    \n",
        "\\t is\tTab    provie space\n"
      ],
      "metadata": {
        "id": "Y-9DR82_XbyL"
      }
    },
    {
      "cell_type": "code",
      "source": [
        "#\\n    New Line   \n",
        "print(\"my name is suman \\niam from nellore\")\n",
        "print(\" \")\n",
        "print(\"my name is suman.\\tiam from nellore\") #\\t    Tab    "
      ],
      "metadata": {
        "colab": {
          "base_uri": "https://localhost:8080/"
        },
        "id": "Uns6iOvBeQ-4",
        "outputId": "e99cc292-1577-4084-e9ea-9af16ec21817"
      },
      "execution_count": null,
      "outputs": [
        {
          "output_type": "stream",
          "name": "stdout",
          "text": [
            "my name is suman \n",
            "iam from nellore\n",
            " \n",
            "my name is suman.\tiam from nellore\n"
          ]
        }
      ]
    },
    {
      "cell_type": "code",
      "source": [
        "# \\ n   new line  \n",
        "t = \"suman \\n2\\\\6,\\nallur village\\nnellore.\"\n",
        "print(t) "
      ],
      "metadata": {
        "colab": {
          "base_uri": "https://localhost:8080/"
        },
        "id": "nAXym-uqgNEG",
        "outputId": "32b6d3ea-d26f-4d45-c393-054cdffa205d"
      },
      "execution_count": null,
      "outputs": [
        {
          "output_type": "stream",
          "name": "stdout",
          "text": [
            "suman \n",
            "2\\6,\n",
            "allur village\n",
            "nellore.\n"
          ]
        }
      ]
    },
    {
      "cell_type": "markdown",
      "source": [
        "3. What is the way to include backslash characters in a string?"
      ],
      "metadata": {
        "id": "dli01UOsVrWQ"
      }
    },
    {
      "cell_type": "code",
      "source": [
        "# \\\\    Backslash   \n",
        "t = \"my nameis suman.\\\\ from nellore.\"\n",
        "print(t) \n"
      ],
      "metadata": {
        "colab": {
          "base_uri": "https://localhost:8080/"
        },
        "id": "otlPsjR4Xkxf",
        "outputId": "2a26ecb3-2563-4bde-a687-2434556008e3"
      },
      "execution_count": null,
      "outputs": [
        {
          "output_type": "stream",
          "name": "stdout",
          "text": [
            "my nameis suman.\\ from nellore.\n"
          ]
        }
      ]
    },
    {
      "cell_type": "markdown",
      "source": [
        "4. The string \"Howl's Moving Castle\" is a correct value. Why isn't the single quote character in the word Howl's not escaped a problem?\n",
        "\n",
        "Form the beging to end we used double quotes for the word \"Howl's Moving Castle\"  so if there a single quote with in the double quote there is no problem."
      ],
      "metadata": {
        "id": "rYKFhZlNXpGb"
      }
    },
    {
      "cell_type": "code",
      "source": [
        "print(\"Howl's Moving Castle\")"
      ],
      "metadata": {
        "colab": {
          "base_uri": "https://localhost:8080/"
        },
        "id": "ND6nbnDNtvvX",
        "outputId": "95918708-4dd4-41cb-9d1c-2a9ec43d69c6"
      },
      "execution_count": 75,
      "outputs": [
        {
          "output_type": "stream",
          "name": "stdout",
          "text": [
            "Howl's Moving Castle\n"
          ]
        }
      ]
    },
    {
      "cell_type": "markdown",
      "source": [
        "error ocuur \n",
        "\n",
        "when  there a single quote with in the single quote.   \n",
        "                         or    \n",
        " there a double quote with in the double quote ."
      ],
      "metadata": {
        "id": "JIm76585vIKF"
      }
    },
    {
      "cell_type": "code",
      "source": [
        "print('Howl's Moving Castle')   # single quote with in the single quote"
      ],
      "metadata": {
        "colab": {
          "base_uri": "https://localhost:8080/",
          "height": 133
        },
        "id": "LmQgXiw3uqxH",
        "outputId": "ea87b76e-a38f-46a2-e5fa-616b0befe3aa"
      },
      "execution_count": 74,
      "outputs": [
        {
          "output_type": "error",
          "ename": "SyntaxError",
          "evalue": "ignored",
          "traceback": [
            "\u001b[0;36m  File \u001b[0;32m\"<ipython-input-74-d2bce7688c4a>\"\u001b[0;36m, line \u001b[0;32m1\u001b[0m\n\u001b[0;31m    print('Howl's Moving Castle')\u001b[0m\n\u001b[0m                ^\u001b[0m\n\u001b[0;31mSyntaxError\u001b[0m\u001b[0;31m:\u001b[0m invalid syntax\n"
          ]
        }
      ]
    },
    {
      "cell_type": "code",
      "source": [
        "print(\"Howl's \"Moving\" Castle\") # there a double quote with in the double quote ."
      ],
      "metadata": {
        "colab": {
          "base_uri": "https://localhost:8080/",
          "height": 133
        },
        "id": "pVcJShPsvjuZ",
        "outputId": "4ee235fa-b2f2-4e8a-8bd5-c905003d843d"
      },
      "execution_count": 87,
      "outputs": [
        {
          "output_type": "error",
          "ename": "SyntaxError",
          "evalue": "ignored",
          "traceback": [
            "\u001b[0;36m  File \u001b[0;32m\"<ipython-input-87-6cfdb5e3f6e4>\"\u001b[0;36m, line \u001b[0;32m1\u001b[0m\n\u001b[0;31m    print(\"Howl's \"Moving\" Castle\") # there a double quote with in the double quote .\u001b[0m\n\u001b[0m                        ^\u001b[0m\n\u001b[0;31mSyntaxError\u001b[0m\u001b[0;31m:\u001b[0m invalid syntax\n"
          ]
        }
      ]
    },
    {
      "cell_type": "markdown",
      "source": [
        "best solution is three quotes\n"
      ],
      "metadata": {
        "id": "zZqtEyiqv25B"
      }
    },
    {
      "cell_type": "code",
      "source": [
        "print(\"\"\"Howl's Moving Castle\"\"\")"
      ],
      "metadata": {
        "colab": {
          "base_uri": "https://localhost:8080/"
        },
        "id": "sIgCi1EVv1nu",
        "outputId": "8f20ee57-0132-4d3d-bfa0-6295d389d875"
      },
      "execution_count": 77,
      "outputs": [
        {
          "output_type": "stream",
          "name": "stdout",
          "text": [
            "Howl's Moving Castle\n"
          ]
        }
      ]
    },
    {
      "cell_type": "code",
      "source": [
        "print(\"\"\"Howl's \"Moving\" Castle\"\"\")"
      ],
      "metadata": {
        "colab": {
          "base_uri": "https://localhost:8080/"
        },
        "id": "osDYirfuv8jm",
        "outputId": "4577d056-20eb-4819-cef5-73c049a6ac7e"
      },
      "execution_count": 78,
      "outputs": [
        {
          "output_type": "stream",
          "name": "stdout",
          "text": [
            "Howl's \"Moving\" Castle\n"
          ]
        }
      ]
    },
    {
      "cell_type": "markdown",
      "source": [
        "5. How do you write a string of newlines if you don't want to use the n character?\n",
        "\n",
        "we can three quotes for new line without using \\n escape operater.\n",
        "\n"
      ],
      "metadata": {
        "id": "Z1V_94ktXr-x"
      }
    },
    {
      "cell_type": "code",
      "source": [
        "print(\"\"\"my name is suman\n",
        "iam from nellore\n",
        "524315\"\"\")\n"
      ],
      "metadata": {
        "colab": {
          "base_uri": "https://localhost:8080/"
        },
        "id": "cRKHn-gkhEg1",
        "outputId": "10d8f9df-4cb9-4d94-876d-3c8ef8bb2647"
      },
      "execution_count": 93,
      "outputs": [
        {
          "output_type": "stream",
          "name": "stdout",
          "text": [
            "my name is suman\n",
            "iam from nellore\n",
            "524315\n"
          ]
        }
      ]
    },
    {
      "cell_type": "markdown",
      "source": [
        "6. What are the values of the given expressions?  \n",
        "```\n",
        "'Hello, world!'[1]\n",
        "'Hello, world!'[0:5]\n",
        "'Hello, world!'[:5]\n",
        "'Hello, world!'[3:]\n",
        "```\n",
        "\n",
        "\n",
        "\n"
      ],
      "metadata": {
        "id": "K_iO2EHyXsxD"
      }
    },
    {
      "cell_type": "code",
      "source": [
        "'Hello, world!'[1]"
      ],
      "metadata": {
        "colab": {
          "base_uri": "https://localhost:8080/",
          "height": 36
        },
        "id": "_kipSw4Z9_om",
        "outputId": "c7935828-2305-4156-cd90-74d675d38631"
      },
      "execution_count": 94,
      "outputs": [
        {
          "output_type": "execute_result",
          "data": {
            "text/plain": [
              "'e'"
            ],
            "application/vnd.google.colaboratory.intrinsic+json": {
              "type": "string"
            }
          },
          "metadata": {},
          "execution_count": 94
        }
      ]
    },
    {
      "cell_type": "code",
      "source": [
        "'Hello, world!'[0:5]"
      ],
      "metadata": {
        "colab": {
          "base_uri": "https://localhost:8080/",
          "height": 36
        },
        "id": "EdEyryLRhgbr",
        "outputId": "d3bc9cb7-1389-437a-f92b-4028474a7b7c"
      },
      "execution_count": null,
      "outputs": [
        {
          "output_type": "execute_result",
          "data": {
            "text/plain": [
              "'Hello'"
            ],
            "application/vnd.google.colaboratory.intrinsic+json": {
              "type": "string"
            }
          },
          "metadata": {},
          "execution_count": 31
        }
      ]
    },
    {
      "cell_type": "code",
      "source": [
        "'Hello, world!'[:5]"
      ],
      "metadata": {
        "colab": {
          "base_uri": "https://localhost:8080/",
          "height": 36
        },
        "id": "pdBehJaOhglD",
        "outputId": "78dc0011-5ab2-407b-eb17-12a4246710c9"
      },
      "execution_count": null,
      "outputs": [
        {
          "output_type": "execute_result",
          "data": {
            "text/plain": [
              "'Hello'"
            ],
            "application/vnd.google.colaboratory.intrinsic+json": {
              "type": "string"
            }
          },
          "metadata": {},
          "execution_count": 32
        }
      ]
    },
    {
      "cell_type": "code",
      "source": [
        "'Hello, world!'[3:]"
      ],
      "metadata": {
        "colab": {
          "base_uri": "https://localhost:8080/",
          "height": 36
        },
        "id": "_AZybtOmhgvT",
        "outputId": "3997443a-53bf-4ae8-a3ec-733d2d8f36c2"
      },
      "execution_count": null,
      "outputs": [
        {
          "output_type": "execute_result",
          "data": {
            "text/plain": [
              "'lo, world!'"
            ],
            "application/vnd.google.colaboratory.intrinsic+json": {
              "type": "string"
            }
          },
          "metadata": {},
          "execution_count": 33
        }
      ]
    },
    {
      "cell_type": "markdown",
      "source": [
        "7. What are the values of the following expressions?\n",
        "\n",
        "\n",
        "```\n",
        "'Hello'.upper()\n",
        "'Hello'.upper().isupper()\n",
        "'Hello'.upper().lower()\n",
        "\n",
        "```\n",
        "\n"
      ],
      "metadata": {
        "id": "dmopVMLEX3Fo"
      }
    },
    {
      "cell_type": "code",
      "source": [
        "'Hello'.upper()"
      ],
      "metadata": {
        "colab": {
          "base_uri": "https://localhost:8080/",
          "height": 36
        },
        "id": "OVzN4xIlhqvj",
        "outputId": "5be97646-e14c-4535-dd3f-38b39b725111"
      },
      "execution_count": null,
      "outputs": [
        {
          "output_type": "execute_result",
          "data": {
            "text/plain": [
              "'HELLO'"
            ],
            "application/vnd.google.colaboratory.intrinsic+json": {
              "type": "string"
            }
          },
          "metadata": {},
          "execution_count": 34
        }
      ]
    },
    {
      "cell_type": "code",
      "source": [
        "'Hello'.upper().isupper()"
      ],
      "metadata": {
        "colab": {
          "base_uri": "https://localhost:8080/"
        },
        "id": "F5R9kNt8hq29",
        "outputId": "cac23d6a-5976-40d8-c3c7-bc131a3b0880"
      },
      "execution_count": null,
      "outputs": [
        {
          "output_type": "execute_result",
          "data": {
            "text/plain": [
              "True"
            ]
          },
          "metadata": {},
          "execution_count": 35
        }
      ]
    },
    {
      "cell_type": "code",
      "source": [
        "'Hello'.upper().lower()"
      ],
      "metadata": {
        "colab": {
          "base_uri": "https://localhost:8080/",
          "height": 36
        },
        "id": "bhu9RyqQhrBY",
        "outputId": "a21788db-43fe-48e6-a966-3ccea7aca480"
      },
      "execution_count": null,
      "outputs": [
        {
          "output_type": "execute_result",
          "data": {
            "text/plain": [
              "'hello'"
            ],
            "application/vnd.google.colaboratory.intrinsic+json": {
              "type": "string"
            }
          },
          "metadata": {},
          "execution_count": 36
        }
      ]
    },
    {
      "cell_type": "code",
      "source": [
        "'Hello'.upper().lower().upper()"
      ],
      "metadata": {
        "colab": {
          "base_uri": "https://localhost:8080/",
          "height": 36
        },
        "id": "Djtn2LF7pE15",
        "outputId": "b9246dcc-1727-4dfc-b0fe-818b1e843890"
      },
      "execution_count": 51,
      "outputs": [
        {
          "output_type": "execute_result",
          "data": {
            "text/plain": [
              "'HELLO'"
            ],
            "application/vnd.google.colaboratory.intrinsic+json": {
              "type": "string"
            }
          },
          "metadata": {},
          "execution_count": 51
        }
      ]
    },
    {
      "cell_type": "markdown",
      "source": [
        "8. What are the values of the following expressions?\n",
        "```\n",
        "'Remember, remember, the fifth of July.'.split()\n",
        "'-'.join('There can only one.'.split())\n",
        "```"
      ],
      "metadata": {
        "id": "06kXMmnfX945"
      }
    },
    {
      "cell_type": "code",
      "source": [
        "# The split() method splits a string into a list.\n",
        "# You can specify the separator, default separator is any whitespace.\n",
        "'Remember, remember, the fifth of July.'.split()"
      ],
      "metadata": {
        "colab": {
          "base_uri": "https://localhost:8080/"
        },
        "id": "V6m7dOL9h7Dr",
        "outputId": "cfbe8d6b-2c70-4ffd-bbf8-42bc8fe8d62a"
      },
      "execution_count": 52,
      "outputs": [
        {
          "output_type": "execute_result",
          "data": {
            "text/plain": [
              "['Remember,', 'remember,', 'the', 'fifth', 'of', 'July.']"
            ]
          },
          "metadata": {},
          "execution_count": 52
        }
      ]
    },
    {
      "cell_type": "code",
      "source": [
        "# The join() method takes all items in an iterable and joins them into one string.\n",
        "# A string must be specified as the separator.\n",
        "'-'.join('There can only one.'.split())"
      ],
      "metadata": {
        "colab": {
          "base_uri": "https://localhost:8080/",
          "height": 36
        },
        "id": "Z0CCckcliIIM",
        "outputId": "9e57a82b-c4ef-4e21-c407-0ab20fab67b3"
      },
      "execution_count": 53,
      "outputs": [
        {
          "output_type": "execute_result",
          "data": {
            "text/plain": [
              "'There-can-only-one.'"
            ],
            "application/vnd.google.colaboratory.intrinsic+json": {
              "type": "string"
            }
          },
          "metadata": {},
          "execution_count": 53
        }
      ]
    },
    {
      "cell_type": "code",
      "source": [
        "' '.join('There can only one.'.split())"
      ],
      "metadata": {
        "colab": {
          "base_uri": "https://localhost:8080/",
          "height": 36
        },
        "id": "6bNjSvCJip-8",
        "outputId": "52805a82-8acb-4b17-dd72-27e259768e41"
      },
      "execution_count": null,
      "outputs": [
        {
          "output_type": "execute_result",
          "data": {
            "text/plain": [
              "'There can only one.'"
            ],
            "application/vnd.google.colaboratory.intrinsic+json": {
              "type": "string"
            }
          },
          "metadata": {},
          "execution_count": 49
        }
      ]
    },
    {
      "cell_type": "code",
      "source": [
        "'-'.join('There can only one.'.split())"
      ],
      "metadata": {
        "colab": {
          "base_uri": "https://localhost:8080/",
          "height": 36
        },
        "id": "WMNT1Jkfi5mc",
        "outputId": "4481abb3-5e21-4c30-efcc-dc5feea2b153"
      },
      "execution_count": null,
      "outputs": [
        {
          "output_type": "execute_result",
          "data": {
            "text/plain": [
              "'There-can-only-one.'"
            ],
            "application/vnd.google.colaboratory.intrinsic+json": {
              "type": "string"
            }
          },
          "metadata": {},
          "execution_count": 50
        }
      ]
    },
    {
      "cell_type": "markdown",
      "source": [
        "9. What are the methods for right-justifying, left-justifying, and centering a string?\n",
        "\n",
        "**rjust()**  method will right align the string, using a specified character (space is default) as the fill character."
      ],
      "metadata": {
        "id": "dZmDcj30X98I"
      }
    },
    {
      "cell_type": "code",
      "source": [
        "t= \"suman\"\n",
        "x = t.rjust(20, \"*\")\n",
        "print(x)"
      ],
      "metadata": {
        "colab": {
          "base_uri": "https://localhost:8080/"
        },
        "id": "6cCSX5T4sgyA",
        "outputId": "33693ac6-1376-4d9a-c789-29f9f4f7de2a"
      },
      "execution_count": 60,
      "outputs": [
        {
          "output_type": "stream",
          "name": "stdout",
          "text": [
            "***************suman\n"
          ]
        }
      ]
    },
    {
      "cell_type": "markdown",
      "source": [
        "The ljust() method will left align the string, using a specified character (space is default) as the fill character."
      ],
      "metadata": {
        "id": "BisR_nsUtAl1"
      }
    },
    {
      "cell_type": "code",
      "source": [
        "t= \"suman\"\n",
        "x = t.ljust(20, \"*\")\n",
        "print(x)"
      ],
      "metadata": {
        "colab": {
          "base_uri": "https://localhost:8080/"
        },
        "id": "NYvE4SdgtBfL",
        "outputId": "2953a4fe-1c1f-4407-f1f1-a66f8c3f24ee"
      },
      "execution_count": 63,
      "outputs": [
        {
          "output_type": "stream",
          "name": "stdout",
          "text": [
            "suman***************\n"
          ]
        }
      ]
    },
    {
      "cell_type": "code",
      "source": [
        "y=t.ljust(40,\"e\")\n",
        "y"
      ],
      "metadata": {
        "colab": {
          "base_uri": "https://localhost:8080/",
          "height": 36
        },
        "id": "m7svOnpCtXtZ",
        "outputId": "e5f88e78-c9eb-4258-defd-92de9ed45e64"
      },
      "execution_count": 69,
      "outputs": [
        {
          "output_type": "execute_result",
          "data": {
            "text/plain": [
              "'sumaneeeeeeeeeeeeeeeeeeeeeeeeeeeeeeeeeee'"
            ],
            "application/vnd.google.colaboratory.intrinsic+json": {
              "type": "string"
            }
          },
          "metadata": {},
          "execution_count": 69
        }
      ]
    },
    {
      "cell_type": "markdown",
      "source": [
        "The center() method will center align the string, using a specified character (space is default) as the fill character."
      ],
      "metadata": {
        "id": "73cY4Sa3tMtP"
      }
    },
    {
      "cell_type": "code",
      "source": [
        "t= \"suman\"\n",
        "x = t.center(20, \"*\")\n",
        "print(x)"
      ],
      "metadata": {
        "colab": {
          "base_uri": "https://localhost:8080/"
        },
        "id": "tYC3iuAGtPQN",
        "outputId": "0442b2f9-b7a0-402f-a6f9-9078be2ae689"
      },
      "execution_count": 68,
      "outputs": [
        {
          "output_type": "stream",
          "name": "stdout",
          "text": [
            "*******suman********\n"
          ]
        }
      ]
    },
    {
      "cell_type": "markdown",
      "source": [
        "10. What is the best way to remove whitespace characters from the start or end?\n",
        "\n",
        ".strip() -remove whitespace characters from the start and at the end.   \n",
        ".lstrip() -remove whitespace characters from the start.\n",
        "\n",
        ".rstrip() -remove whitespace characters from the end.\n"
      ],
      "metadata": {
        "id": "JkshaCXtYPHn"
      }
    },
    {
      "cell_type": "code",
      "source": [
        "k= \"          my name is suman         \"\n",
        "k.strip()"
      ],
      "metadata": {
        "colab": {
          "base_uri": "https://localhost:8080/",
          "height": 36
        },
        "id": "Dqf5ikOErLRP",
        "outputId": "f7533389-3ec2-404e-d9e0-7c3044b15487"
      },
      "execution_count": 54,
      "outputs": [
        {
          "output_type": "execute_result",
          "data": {
            "text/plain": [
              "'my name is suman'"
            ],
            "application/vnd.google.colaboratory.intrinsic+json": {
              "type": "string"
            }
          },
          "metadata": {},
          "execution_count": 54
        }
      ]
    },
    {
      "cell_type": "code",
      "source": [
        "k= \"          my name is suman         \"\n",
        "k.lstrip()"
      ],
      "metadata": {
        "colab": {
          "base_uri": "https://localhost:8080/",
          "height": 36
        },
        "id": "xJaeDCLVrWER",
        "outputId": "d4a3774a-4a4e-459f-b3bd-28484bed8ad6"
      },
      "execution_count": 55,
      "outputs": [
        {
          "output_type": "execute_result",
          "data": {
            "text/plain": [
              "'my name is suman         '"
            ],
            "application/vnd.google.colaboratory.intrinsic+json": {
              "type": "string"
            }
          },
          "metadata": {},
          "execution_count": 55
        }
      ]
    },
    {
      "cell_type": "code",
      "source": [
        "k.rstrip()"
      ],
      "metadata": {
        "colab": {
          "base_uri": "https://localhost:8080/",
          "height": 36
        },
        "id": "uRj5Kiwpra6-",
        "outputId": "fff32ae0-960d-4f48-f249-f9ba3355ad06"
      },
      "execution_count": 56,
      "outputs": [
        {
          "output_type": "execute_result",
          "data": {
            "text/plain": [
              "'          my name is suman'"
            ],
            "application/vnd.google.colaboratory.intrinsic+json": {
              "type": "string"
            }
          },
          "metadata": {},
          "execution_count": 56
        }
      ]
    }
  ]
}
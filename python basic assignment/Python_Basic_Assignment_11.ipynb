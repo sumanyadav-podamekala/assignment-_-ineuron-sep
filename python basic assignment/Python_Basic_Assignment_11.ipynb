{
  "nbformat": 4,
  "nbformat_minor": 0,
  "metadata": {
    "colab": {
      "provenance": [],
      "toc_visible": true
    },
    "kernelspec": {
      "name": "python3",
      "display_name": "Python 3"
    },
    "language_info": {
      "name": "python"
    }
  },
  "cells": [
    {
      "cell_type": "markdown",
      "source": [
        "**1. Create an assert statement that throws an AssertionError if the variable spam is a negative integer.**\n"
      ],
      "metadata": {
        "id": "EhuKw-mCwPQm"
      }
    },
    {
      "cell_type": "code",
      "execution_count": 9,
      "metadata": {
        "colab": {
          "base_uri": "https://localhost:8080/",
          "height": 270
        },
        "id": "mPBX9pkbv7ml",
        "outputId": "6416ae75-8b4b-41fc-97f1-a85ec3317cde"
      },
      "outputs": [
        {
          "name": "stdout",
          "output_type": "stream",
          "text": [
            "trial 1\n",
            "1\n",
            "trial 2\n",
            "-1\n"
          ]
        },
        {
          "output_type": "error",
          "ename": "AssertionError",
          "evalue": "ignored",
          "traceback": [
            "\u001b[0;31m---------------------------------------------------------------------------\u001b[0m",
            "\u001b[0;31mAssertionError\u001b[0m                            Traceback (most recent call last)",
            "\u001b[0;32m<ipython-input-9-1be21a0ce7de>\u001b[0m in \u001b[0;36m<module>\u001b[0;34m\u001b[0m\n\u001b[1;32m      4\u001b[0m   \u001b[0mspam\u001b[0m \u001b[0;34m=\u001b[0m \u001b[0mint\u001b[0m\u001b[0;34m(\u001b[0m\u001b[0minput\u001b[0m\u001b[0;34m(\u001b[0m\u001b[0;34m)\u001b[0m\u001b[0;34m)\u001b[0m\u001b[0;34m\u001b[0m\u001b[0;34m\u001b[0m\u001b[0m\n\u001b[1;32m      5\u001b[0m   \u001b[0ma\u001b[0m\u001b[0;34m+=\u001b[0m\u001b[0;36m1\u001b[0m\u001b[0;34m\u001b[0m\u001b[0;34m\u001b[0m\u001b[0m\n\u001b[0;32m----> 6\u001b[0;31m   \u001b[0;32massert\u001b[0m \u001b[0mspam\u001b[0m\u001b[0;34m>=\u001b[0m\u001b[0;36m0\u001b[0m\u001b[0;34m,\u001b[0m \u001b[0;34m\" spam should be >0 \"\u001b[0m\u001b[0;34m\u001b[0m\u001b[0;34m\u001b[0m\u001b[0m\n\u001b[0m",
            "\u001b[0;31mAssertionError\u001b[0m:  spam should be >0 "
          ]
        }
      ],
      "source": [
        "a=1\n",
        "for i in range(2):\n",
        "  print(f'trial {a}')\n",
        "  spam = int(input())\n",
        "  a+=1\n",
        "  assert spam>=0, \" spam should be >0 \""
      ]
    },
    {
      "cell_type": "markdown",
      "source": [
        "**2. Write an assert statement that triggers an AssertionError if the variables eggs and bacon contain strings that are the same as each other, even if their cases are different (that is, 'hello' and 'hello' are considered the same, and 'goodbye' and 'GOODbye' are also considered the same).**\n",
        "\n"
      ],
      "metadata": {
        "id": "cX00f9tVwsF1"
      }
    },
    {
      "cell_type": "code",
      "source": [
        "eggs=input()\n",
        "bacon=input()\n",
        "eggs = eggs.upper()\n",
        "bacon = bacon.upper()\n",
        "assert eggs!=bacon,'eggs!=bacon'"
      ],
      "metadata": {
        "colab": {
          "base_uri": "https://localhost:8080/",
          "height": 235
        },
        "id": "EwKNfdYnxP_i",
        "outputId": "805679ba-1fa8-4042-89ec-9feb56a823e9"
      },
      "execution_count": 14,
      "outputs": [
        {
          "name": "stdout",
          "output_type": "stream",
          "text": [
            "hello\n",
            "Hello\n"
          ]
        },
        {
          "output_type": "error",
          "ename": "AssertionError",
          "evalue": "ignored",
          "traceback": [
            "\u001b[0;31m---------------------------------------------------------------------------\u001b[0m",
            "\u001b[0;31mAssertionError\u001b[0m                            Traceback (most recent call last)",
            "\u001b[0;32m<ipython-input-14-f482edc7ce10>\u001b[0m in \u001b[0;36m<module>\u001b[0;34m\u001b[0m\n\u001b[1;32m      3\u001b[0m \u001b[0meggs\u001b[0m \u001b[0;34m=\u001b[0m \u001b[0meggs\u001b[0m\u001b[0;34m.\u001b[0m\u001b[0mupper\u001b[0m\u001b[0;34m(\u001b[0m\u001b[0;34m)\u001b[0m\u001b[0;34m\u001b[0m\u001b[0;34m\u001b[0m\u001b[0m\n\u001b[1;32m      4\u001b[0m \u001b[0mbacon\u001b[0m \u001b[0;34m=\u001b[0m \u001b[0mbacon\u001b[0m\u001b[0;34m.\u001b[0m\u001b[0mupper\u001b[0m\u001b[0;34m(\u001b[0m\u001b[0;34m)\u001b[0m\u001b[0;34m\u001b[0m\u001b[0;34m\u001b[0m\u001b[0m\n\u001b[0;32m----> 5\u001b[0;31m \u001b[0;32massert\u001b[0m \u001b[0meggs\u001b[0m\u001b[0;34m!=\u001b[0m\u001b[0mbacon\u001b[0m\u001b[0;34m,\u001b[0m\u001b[0;34m'eggs!=bacon'\u001b[0m\u001b[0;34m\u001b[0m\u001b[0;34m\u001b[0m\u001b[0m\n\u001b[0m",
            "\u001b[0;31mAssertionError\u001b[0m: eggs!=bacon"
          ]
        }
      ]
    },
    {
      "cell_type": "markdown",
      "source": [
        "**3. Create an assert statement that throws an AssertionError every time.**\n"
      ],
      "metadata": {
        "id": "BfC-4MAbwtnb"
      }
    },
    {
      "cell_type": "code",
      "source": [
        "from datetime import date, timedelta\n",
        "\n",
        "today= date.today()\n",
        "yesterday = today - timedelta(days = 1)\n",
        "print(f'{today=}')\n",
        "print(f'{yesterday=}')\n",
        "assert today==yesterday,'today never equal to yesterday'"
      ],
      "metadata": {
        "colab": {
          "base_uri": "https://localhost:8080/",
          "height": 235
        },
        "id": "SXQLPxDt0job",
        "outputId": "18e98308-7c7d-42bd-fdda-ab51b564afe6"
      },
      "execution_count": 24,
      "outputs": [
        {
          "output_type": "stream",
          "name": "stdout",
          "text": [
            "today=datetime.date(2022, 12, 15)\n",
            "yesterday=datetime.date(2022, 12, 14)\n"
          ]
        },
        {
          "output_type": "error",
          "ename": "AssertionError",
          "evalue": "ignored",
          "traceback": [
            "\u001b[0;31m---------------------------------------------------------------------------\u001b[0m",
            "\u001b[0;31mAssertionError\u001b[0m                            Traceback (most recent call last)",
            "\u001b[0;32m<ipython-input-24-c1748145d8fd>\u001b[0m in \u001b[0;36m<module>\u001b[0;34m\u001b[0m\n\u001b[1;32m      5\u001b[0m \u001b[0mprint\u001b[0m\u001b[0;34m(\u001b[0m\u001b[0;34mf'{today=}'\u001b[0m\u001b[0;34m)\u001b[0m\u001b[0;34m\u001b[0m\u001b[0;34m\u001b[0m\u001b[0m\n\u001b[1;32m      6\u001b[0m \u001b[0mprint\u001b[0m\u001b[0;34m(\u001b[0m\u001b[0;34mf'{yesterday=}'\u001b[0m\u001b[0;34m)\u001b[0m\u001b[0;34m\u001b[0m\u001b[0;34m\u001b[0m\u001b[0m\n\u001b[0;32m----> 7\u001b[0;31m \u001b[0;32massert\u001b[0m \u001b[0mtoday\u001b[0m\u001b[0;34m==\u001b[0m\u001b[0myesterday\u001b[0m\u001b[0;34m,\u001b[0m\u001b[0;34m'today never equal to yesterday'\u001b[0m\u001b[0;34m\u001b[0m\u001b[0;34m\u001b[0m\u001b[0m\n\u001b[0m",
            "\u001b[0;31mAssertionError\u001b[0m: today never equal to yesterday"
          ]
        }
      ]
    },
    {
      "cell_type": "markdown",
      "source": [
        "4. What are the two lines that must be present in your software in order to call logging.debug()?\n"
      ],
      "metadata": {
        "id": "H3u9hVg3wu6j"
      }
    },
    {
      "cell_type": "code",
      "source": [
        "import logging\n",
        "logging.basicConfig(\n",
        "    filename=\"test2.log\",\n",
        "    level = logging.DEBUG,\n",
        "    format='%(asctime)s %(levelname)s %(message)s')"
      ],
      "metadata": {
        "id": "NhYyaJNU3MjG"
      },
      "execution_count": 39,
      "outputs": []
    },
    {
      "cell_type": "markdown",
      "source": [
        "5. What are the two lines that your program must have in order to have logging.debug() send a logging message to a file named programLog.txt?\n"
      ],
      "metadata": {
        "id": "479tfuInwwGc"
      }
    },
    {
      "cell_type": "code",
      "source": [
        "import logging\n",
        "logging.basicConfig(filename = 'application_log.txt',level=logging.DEBUG, format=' %(asctime)s - %(levelname)s - %(message)s')\n",
        "logging.debug(\"Data Inserted Successfully\")\n",
        "logging.debug('Connection Closed Successfully')"
      ],
      "metadata": {
        "id": "Patycqgw3WME"
      },
      "execution_count": 36,
      "outputs": []
    },
    {
      "cell_type": "code",
      "source": [
        "file = open(\"application_log.txt\",\"r\")\n",
        "for record in file.readlines():\n",
        "    print(record)"
      ],
      "metadata": {
        "id": "ffkssRrF7Qxb"
      },
      "execution_count": null,
      "outputs": []
    },
    {
      "cell_type": "markdown",
      "source": [
        "2022-12-15 14:03:46,654 - DEBUG - Data Inserted Successfully\n",
        "\n",
        " 2022-12-15 14:03:46,655 - DEBUG - Connection Closed Successfully"
      ],
      "metadata": {
        "id": "DsQ0LK4E7cc8"
      }
    },
    {
      "cell_type": "markdown",
      "source": [
        "**6. What are the five levels of logging?**\n",
        "\n",
        "NOTSET=0.  \n",
        "DEBUG=10.   \n",
        "INFO=20.   \n",
        "WARN=30.   \n",
        "ERROR=40.   \n",
        "CRITICAL=50.  "
      ],
      "metadata": {
        "id": "cHQZ62uswxNy"
      }
    },
    {
      "cell_type": "markdown",
      "source": [
        "**7. What line of code would you add to your software to disable all logging messages?**\n"
      ],
      "metadata": {
        "id": "UdG0ykcb4k8A"
      }
    },
    {
      "cell_type": "code",
      "source": [
        "logging.disable = True"
      ],
      "metadata": {
        "id": "HUWXxriV_0oY"
      },
      "execution_count": 41,
      "outputs": []
    },
    {
      "cell_type": "markdown",
      "source": [
        "**8. Why is using logging messages better than using print() to display the same message?**\n",
        "\n"
      ],
      "metadata": {
        "id": "Cii_zoXp4m2w"
      }
    },
    {
      "cell_type": "markdown",
      "source": [
        "Post devlopment of your code, you can disable logging messages without removing the logging function, whereas you need to manually remove print() statements, which is tedious activity. and also print is used when you want to display any particular message or help whereas logging is used to record all events like error, info, debug messages, timestamps."
      ],
      "metadata": {
        "id": "Ris1lpGn_-sA"
      }
    },
    {
      "cell_type": "markdown",
      "source": [
        "**9. What are the differences between the Step Over, Step In, and Step Out buttons in the debugger?**\n"
      ],
      "metadata": {
        "id": "-_vjcD1F4oXz"
      }
    },
    {
      "cell_type": "code",
      "source": [],
      "metadata": {
        "id": "D97YJ4tbCLBK"
      },
      "execution_count": null,
      "outputs": []
    },
    {
      "cell_type": "markdown",
      "source": [
        "The Differences between Step Over, Step In, Step Out buttons in debugger are:\n",
        "\n",
        "Step in - Step In button will cause the debugger to execute the next line of code and then pause again.\n",
        "Step Over - Step Over button will execute the next line of code, similar to the Step In button. However, if the next line of code is a function call, the Step Over button will “step over” the code in the function. The function’s code will be executed at full speed, and the debugger will pause as soon as the function call returns.\n",
        "Step out - Step Out button will cause the debugger to execute lines of code at full speed until it returns from the current function."
      ],
      "metadata": {
        "id": "Xi4VFeJpADHw"
      }
    },
    {
      "cell_type": "markdown",
      "source": [
        "**10. After you click Continue, when will the debugger stop ?**\n"
      ],
      "metadata": {
        "id": "VIstl87_4p7l"
      }
    },
    {
      "cell_type": "markdown",
      "source": [
        "his will cause the program to continue running normally, without pausing for debugging untill it terminates or reaches a breakpoint."
      ],
      "metadata": {
        "id": "0W6ncOxyAErP"
      }
    },
    {
      "cell_type": "markdown",
      "source": [
        "**11. What is the concept of a breakpoint?**"
      ],
      "metadata": {
        "id": "CHPZSC_p4rgY"
      }
    },
    {
      "cell_type": "markdown",
      "source": [
        "Breakpoint is a setting on a line of code that causes the debugger to pause when the program execution reaches the line"
      ],
      "metadata": {
        "id": "8GVlvl28AItw"
      }
    }
  ]
}
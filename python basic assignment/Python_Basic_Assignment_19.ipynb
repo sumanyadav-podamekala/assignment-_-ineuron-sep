{
  "nbformat": 4,
  "nbformat_minor": 0,
  "metadata": {
    "colab": {
      "provenance": []
    },
    "kernelspec": {
      "name": "python3",
      "display_name": "Python 3"
    },
    "language_info": {
      "name": "python"
    }
  },
  "cells": [
    {
      "cell_type": "markdown",
      "source": [
        "**1. Make a class called Thing with no contents and print it. Then, create an object called example from this class and also print it. Are the printed values the same or different?**\n",
        "\n"
      ],
      "metadata": {
        "id": "nvbjB4u6Y6Io"
      }
    },
    {
      "cell_type": "code",
      "execution_count": null,
      "metadata": {
        "id": "ye29qCADrU-5",
        "colab": {
          "base_uri": "https://localhost:8080/"
        },
        "outputId": "0411e1ae-413a-448e-c13c-cd5808de3b58"
      },
      "outputs": [
        {
          "output_type": "stream",
          "name": "stdout",
          "text": [
            "<class '__main__.thing'>\n"
          ]
        }
      ],
      "source": [
        "class thing:\n",
        "  pass\n",
        "print(thing)"
      ]
    },
    {
      "cell_type": "code",
      "source": [
        "example=thing()\n",
        "print(example)"
      ],
      "metadata": {
        "colab": {
          "base_uri": "https://localhost:8080/"
        },
        "id": "7X9XdqhYZjEP",
        "outputId": "6900eb2e-01df-4421-b5e0-d7344bcdf301"
      },
      "execution_count": null,
      "outputs": [
        {
          "output_type": "stream",
          "name": "stdout",
          "text": [
            "<__main__.thing object at 0x7ff9f0647370>\n"
          ]
        }
      ]
    },
    {
      "cell_type": "code",
      "source": [
        "print(thing==example) # diffenece is there"
      ],
      "metadata": {
        "colab": {
          "base_uri": "https://localhost:8080/"
        },
        "id": "O2yvt_kdZxuo",
        "outputId": "d201f05c-93ab-4506-c131-0cd989fed4c1"
      },
      "execution_count": null,
      "outputs": [
        {
          "output_type": "stream",
          "name": "stdout",
          "text": [
            "False\n"
          ]
        }
      ]
    },
    {
      "cell_type": "markdown",
      "source": [
        "**2. Create a new class called Thing2 and add the value 'abc' to the letters class attribute. Letters should be printed.**"
      ],
      "metadata": {
        "id": "WH9chBitY8wQ"
      }
    },
    {
      "cell_type": "code",
      "source": [
        "class thing2:\n",
        "  letters= 'abc'\n",
        "print(thing2.letters)"
      ],
      "metadata": {
        "colab": {
          "base_uri": "https://localhost:8080/"
        },
        "id": "CcvJIWyvamuo",
        "outputId": "7070374f-49db-4233-c59d-739a00b585cb"
      },
      "execution_count": null,
      "outputs": [
        {
          "output_type": "stream",
          "name": "stdout",
          "text": [
            "abc\n"
          ]
        }
      ]
    },
    {
      "cell_type": "markdown",
      "source": [
        "**3. Make yet another class called, of course, Thing3. This time, assign the value 'xyz' to an instance (object) attribute called letters. Print letters. Do you need to make an object from the class to do this?**\n"
      ],
      "metadata": {
        "id": "FewaYIEwY-II"
      }
    },
    {
      "cell_type": "code",
      "source": [
        "class Thing3:    \n",
        "    def __init__(self):\n",
        "        self.letters = 'xyz'\n",
        "        \n",
        "try:        \n",
        "    print(Thing3.letters) # Will raise a syntax Error\n",
        "except:\n",
        "    my_thing = Thing3() # Print letters. we have make an object from the class to do this?\n",
        "    print(my_thing.letters)\n"
      ],
      "metadata": {
        "colab": {
          "base_uri": "https://localhost:8080/"
        },
        "id": "4C2E0V56wdlc",
        "outputId": "303ec679-eb1e-4b6b-8460-d301793685bd"
      },
      "execution_count": 15,
      "outputs": [
        {
          "output_type": "stream",
          "name": "stdout",
          "text": [
            "xyz\n"
          ]
        }
      ]
    },
    {
      "cell_type": "markdown",
      "source": [
        "**4. Create an Element class with the instance attributes name, symbol, and number. Create a class object with the values 'Hydrogen,' 'H,' and 1.**"
      ],
      "metadata": {
        "id": "33EKF8qBY_TA"
      }
    },
    {
      "cell_type": "code",
      "source": [
        "class element :\n",
        "  def __init__(self,name, symbol, number):\n",
        "        self.name = name\n",
        "        self.symbol= symbol\n",
        "        self.number= number\n",
        "myobject= element('Hydrogen', 'H', 1)"
      ],
      "metadata": {
        "id": "uGKsNTsQxCKT"
      },
      "execution_count": 16,
      "outputs": []
    },
    {
      "cell_type": "markdown",
      "source": [
        "**5. Make a dictionary with these keys and values: 'name': 'Hydrogen', 'symbol': 'H', 'number': 1. Then, create an object called hydrogen from class Element using this dictionary.**\n"
      ],
      "metadata": {
        "id": "sTw3c5iqxuyU"
      }
    },
    {
      "cell_type": "code",
      "source": [
        "mydict={'name': 'Hydrogen', 'symbol': 'H', 'number': 1}\n",
        "hydrogen = element(*mydict.values())"
      ],
      "metadata": {
        "id": "DAq_f_rLx5PS"
      },
      "execution_count": 17,
      "outputs": []
    },
    {
      "cell_type": "markdown",
      "source": [
        "**6. For the Element class, define a method called dump() that prints the values of the object’s attributes (name, symbol, and number). Create the hydrogen object from this new definition and use dump() to print its attributes.**\n"
      ],
      "metadata": {
        "id": "No5r0c6sxxEa"
      }
    },
    {
      "cell_type": "code",
      "source": [
        "\n",
        "class element:\n",
        "    def __init__(self, name, symbol, number):\n",
        "        self.name = name\n",
        "        self.symbol = symbol\n",
        "        self.number = number      \n",
        "    def dump(self):\n",
        "        print(self.name, self.symbol, self.number)"
      ],
      "metadata": {
        "id": "avtQsOiS00AL"
      },
      "execution_count": 18,
      "outputs": []
    },
    {
      "cell_type": "code",
      "source": [
        "hydrogen = element(*mydict.values())"
      ],
      "metadata": {
        "id": "21z4eNFTx4sC"
      },
      "execution_count": 19,
      "outputs": []
    },
    {
      "cell_type": "code",
      "source": [
        "hydrogen.dump()"
      ],
      "metadata": {
        "colab": {
          "base_uri": "https://localhost:8080/"
        },
        "id": "tSEBb-fw1NFs",
        "outputId": "2bbb233e-e2fb-46b7-b6ed-2fee33721a6c"
      },
      "execution_count": 20,
      "outputs": [
        {
          "output_type": "stream",
          "name": "stdout",
          "text": [
            "Hydrogen H 1\n"
          ]
        }
      ]
    },
    {
      "cell_type": "markdown",
      "source": [
        "**7. Call print(hydrogen). In the definition of Element, change the name of method dump to `__str__`, create a new hydrogen object, and call print(hydrogen) again.**\n",
        "\n"
      ],
      "metadata": {
        "id": "12K3y2JMxu1M"
      }
    },
    {
      "cell_type": "code",
      "source": [
        "print(hydrogen)"
      ],
      "metadata": {
        "colab": {
          "base_uri": "https://localhost:8080/"
        },
        "id": "7280uFs313IR",
        "outputId": "0cd549e7-3793-4115-8125-b37e50e86216"
      },
      "execution_count": 21,
      "outputs": [
        {
          "output_type": "stream",
          "name": "stdout",
          "text": [
            "<__main__.element object at 0x7ff9f05abee0>\n"
          ]
        }
      ]
    },
    {
      "cell_type": "code",
      "source": [
        "class element:\n",
        "    def __init__(self, name, symbol, number):\n",
        "        self.name = name\n",
        "        self.symbol = symbol\n",
        "        self.number = number\n",
        "    def __str__(self) -> str:\n",
        "        return f'{self.name} {self.symbol} {self.number}'\n",
        "  "
      ],
      "metadata": {
        "id": "lWdemDf43W8p"
      },
      "execution_count": 22,
      "outputs": []
    },
    {
      "cell_type": "code",
      "source": [
        "hydrogen = element('Hydrogen','H',1)\n",
        "print(hydrogen)"
      ],
      "metadata": {
        "colab": {
          "base_uri": "https://localhost:8080/"
        },
        "id": "2ybsra7f18R5",
        "outputId": "11039773-ba46-47be-eeaa-6f5dba2eec27"
      },
      "execution_count": 23,
      "outputs": [
        {
          "output_type": "stream",
          "name": "stdout",
          "text": [
            "Hydrogen H 1\n"
          ]
        }
      ]
    },
    {
      "cell_type": "markdown",
      "source": [
        "**8. Modify Element to make the attributes name, symbol, and number private. Define a getter property for each to return its value.**"
      ],
      "metadata": {
        "id": "kPXIKTf2xu39"
      }
    },
    {
      "cell_type": "code",
      "source": [
        "class Element:\n",
        "    def __init__(self,name,symbol,number):\n",
        "        self.__name = name\n",
        "        self.__symbol = symbol\n",
        "        self.__number = number\n",
        "    \n",
        "    @property\n",
        "    def get_name(self):\n",
        "        return self.__name\n",
        "    \n",
        "    @property\n",
        "    def get_symbol(self):\n",
        "        return self.__symbol\n",
        "    \n",
        "    @property\n",
        "    def get_number(self):\n",
        "        return self.__number\n",
        "    \n",
        "hydrogen = Element('Hydrogen','H',1)\n",
        "print(hydrogen.get_name)\n",
        "print(hydrogen.get_symbol)\n",
        "print(hydrogen.get_number)"
      ],
      "metadata": {
        "colab": {
          "base_uri": "https://localhost:8080/"
        },
        "id": "J_Pz8tl_xCMu",
        "outputId": "781396bc-c63b-4aa6-cfa0-8eba75cc01a9"
      },
      "execution_count": 25,
      "outputs": [
        {
          "output_type": "stream",
          "name": "stdout",
          "text": [
            "Hydrogen\n",
            "H\n",
            "1\n"
          ]
        }
      ]
    },
    {
      "cell_type": "markdown",
      "source": [
        "**9. Define three classes: Bear, Rabbit, and Octothorpe. For each, define only one method: eats(). This should return 'berries' (Bear), 'clover' (Rabbit), or 'campers' (Octothorpe). Create one object from each and print what it eats.**"
      ],
      "metadata": {
        "id": "TrfFO_S48wJa"
      }
    },
    {
      "cell_type": "code",
      "source": [
        "\n",
        "class Bear:\n",
        "    def eats(self):\n",
        "        return 'berries'\n",
        "class Rabbit:\n",
        "    def eats(self):\n",
        "        return 'clover'\n",
        "class Octothorpe:\n",
        "    def eats(self):\n",
        "        return 'campers'\n",
        "        \n",
        "bear = Bear()\n",
        "rabbit = Rabbit()\n",
        "octothrope = Octothorpe()\n",
        "\n",
        "bear.eats()\n",
        "rabbit.eats()\n",
        "octothrope.eats()\n"
      ],
      "metadata": {
        "colab": {
          "base_uri": "https://localhost:8080/",
          "height": 35
        },
        "id": "2jMJgi809FJN",
        "outputId": "f666770e-9e06-4d28-ff71-53f1fa3fed87"
      },
      "execution_count": 27,
      "outputs": [
        {
          "output_type": "execute_result",
          "data": {
            "text/plain": [
              "'campers'"
            ],
            "application/vnd.google.colaboratory.intrinsic+json": {
              "type": "string"
            }
          },
          "metadata": {},
          "execution_count": 27
        }
      ]
    },
    {
      "cell_type": "code",
      "source": [],
      "metadata": {
        "id": "rJ_HaqZ76lcS"
      },
      "execution_count": null,
      "outputs": []
    },
    {
      "cell_type": "markdown",
      "source": [
        "**10. Define these classes: Laser, Claw, and SmartPhone. Each has only one method: does(). This returns 'disintegrate' (Laser), 'crush' (Claw), or 'ring' (SmartPhone). Then, define the class Robot that has one instance (object) of each of these. Define a does() method for the Robot that prints what its component objects do.**"
      ],
      "metadata": {
        "id": "f7mon1In8yYP"
      }
    },
    {
      "cell_type": "code",
      "source": [
        "class Laser:\n",
        "    def does(self):\n",
        "        return 'disintegrate'\n",
        "class Claw:\n",
        "    def does(self):\n",
        "        return 'crush'\n",
        "class Smartphone:\n",
        "    def does(self):\n",
        "        return 'ring'\n",
        "class Robot:\n",
        "    def __init__(self):\n",
        "        self.laser = Laser()\n",
        "        self.claw = Claw()\n",
        "        self.smartphone = Smartphone()\n",
        "    def does(self):\n",
        "        print(self.laser.does(),self.claw.does(),self.smartphone.does())\n",
        "        \n",
        "r2d2 = Robot()\n",
        "r2d2.does()"
      ],
      "metadata": {
        "colab": {
          "base_uri": "https://localhost:8080/"
        },
        "id": "qbUxCkuz_KOc",
        "outputId": "069adc51-cb9d-4dfa-f3b6-05eec0435cef"
      },
      "execution_count": 28,
      "outputs": [
        {
          "output_type": "stream",
          "name": "stdout",
          "text": [
            "disintegrate crush ring\n"
          ]
        }
      ]
    },
    {
      "cell_type": "code",
      "source": [],
      "metadata": {
        "id": "oSGlZWuACiYc"
      },
      "execution_count": null,
      "outputs": []
    }
  ]
}
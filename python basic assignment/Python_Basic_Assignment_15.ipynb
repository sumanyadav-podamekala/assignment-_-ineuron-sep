{
  "nbformat": 4,
  "nbformat_minor": 0,
  "metadata": {
    "colab": {
      "provenance": []
    },
    "kernelspec": {
      "name": "python3",
      "display_name": "Python 3"
    },
    "language_info": {
      "name": "python"
    }
  },
  "cells": [
    {
      "cell_type": "markdown",
      "source": [
        "**1. How many seconds are in an hour? Use the interactive interpreter as a calculator and multiply the number of seconds in a minute (60) by the number of minutes in an hour (also 60).**   \n",
        "sol. 3600\n",
        " \n",
        "\n",
        "```\n",
        "1 hour=60 minutes\n",
        " 1 minute= 60 seconds\n",
        " --> 1 hour=60 * 60 miutes\n",
        "```\n",
        "\n",
        "\n",
        "\n"
      ],
      "metadata": {
        "id": "vVmbW6iZWfDx"
      }
    },
    {
      "cell_type": "code",
      "source": [
        "k=60*60"
      ],
      "metadata": {
        "id": "SrBCf5GTX6sw"
      },
      "execution_count": 2,
      "outputs": []
    },
    {
      "cell_type": "code",
      "source": [
        "k"
      ],
      "metadata": {
        "colab": {
          "base_uri": "https://localhost:8080/"
        },
        "id": "Ov9494umYN95",
        "outputId": "9b311b64-45a2-4c3f-9a34-b570d5528299"
      },
      "execution_count": 3,
      "outputs": [
        {
          "output_type": "execute_result",
          "data": {
            "text/plain": [
              "3600"
            ]
          },
          "metadata": {},
          "execution_count": 3
        }
      ]
    },
    {
      "cell_type": "markdown",
      "source": [
        "**2. Assign the result from the previous task (seconds in an hour) to a variable called seconds_per_hour.**\n"
      ],
      "metadata": {
        "id": "dFp9SYEvWl4i"
      }
    },
    {
      "cell_type": "code",
      "source": [
        "seconds_per_hour=k"
      ],
      "metadata": {
        "id": "Kmj-k48nYA9i"
      },
      "execution_count": 4,
      "outputs": []
    },
    {
      "cell_type": "code",
      "source": [
        "seconds_per_hour  "
      ],
      "metadata": {
        "colab": {
          "base_uri": "https://localhost:8080/"
        },
        "id": "krP7udecYZu-",
        "outputId": "dfff7dd5-ffa9-4ed2-c4b7-f6ca112b9ee5"
      },
      "execution_count": 5,
      "outputs": [
        {
          "output_type": "execute_result",
          "data": {
            "text/plain": [
              "3600"
            ]
          },
          "metadata": {},
          "execution_count": 5
        }
      ]
    },
    {
      "cell_type": "markdown",
      "source": [
        "**3. How many seconds do you think there are in a day? Make use of the variables seconds per hour and minutes per hour.**\n"
      ],
      "metadata": {
        "id": "FBX--nEZWnT6"
      }
    },
    {
      "cell_type": "code",
      "source": [
        "miutes_in_hour=60"
      ],
      "metadata": {
        "id": "knvDV-cjY3ZC"
      },
      "execution_count": 7,
      "outputs": []
    },
    {
      "cell_type": "code",
      "source": [
        "hours_in_day=24"
      ],
      "metadata": {
        "id": "wyv937-8ZhTL"
      },
      "execution_count": 8,
      "outputs": []
    },
    {
      "cell_type": "code",
      "source": [
        "seconds_per_day= seconds_per_hour*hours_in_day"
      ],
      "metadata": {
        "id": "evPOha-GYY34"
      },
      "execution_count": 11,
      "outputs": []
    },
    {
      "cell_type": "code",
      "source": [
        "seconds_per_day"
      ],
      "metadata": {
        "colab": {
          "base_uri": "https://localhost:8080/"
        },
        "id": "jg1t8Do2aDAI",
        "outputId": "aa26e64d-6dd9-4ce9-c099-92b090ed0e56"
      },
      "execution_count": 12,
      "outputs": [
        {
          "output_type": "execute_result",
          "data": {
            "text/plain": [
              "86400"
            ]
          },
          "metadata": {},
          "execution_count": 12
        }
      ]
    },
    {
      "cell_type": "markdown",
      "source": [
        "**4. Calculate seconds per day again, but this time save the result in a variable called seconds_per_day**\n"
      ],
      "metadata": {
        "id": "yDUEuYhCWoeC"
      }
    },
    {
      "cell_type": "code",
      "source": [
        "seconds_per_day= seconds_per_hour*hours_in_day"
      ],
      "metadata": {
        "id": "uFWXsruqa6xA"
      },
      "execution_count": 13,
      "outputs": []
    },
    {
      "cell_type": "code",
      "source": [
        "seconds_per_day"
      ],
      "metadata": {
        "id": "0D3Uo2wxa87e"
      },
      "execution_count": null,
      "outputs": []
    },
    {
      "cell_type": "markdown",
      "source": [
        "**5. Divide seconds_per_day by seconds_per_hour. Use floating-point (/) division.**\n"
      ],
      "metadata": {
        "id": "Dt6OerqxWpli"
      }
    },
    {
      "cell_type": "code",
      "source": [
        "seconds_per_day/seconds_per_hour"
      ],
      "metadata": {
        "colab": {
          "base_uri": "https://localhost:8080/"
        },
        "id": "yPkNyoJlbQ5B",
        "outputId": "55e984e6-3c60-46c1-eb97-b9f20e025df0"
      },
      "execution_count": 14,
      "outputs": [
        {
          "output_type": "execute_result",
          "data": {
            "text/plain": [
              "24.0"
            ]
          },
          "metadata": {},
          "execution_count": 14
        }
      ]
    },
    {
      "cell_type": "markdown",
      "source": [
        "**6. Divide seconds_per_day by seconds_per_hour, using integer (//) division. Did this number agree with the floating-point value from the previous question, aside from the final .0?**"
      ],
      "metadata": {
        "id": "_UY1zKxPWq7a"
      }
    },
    {
      "cell_type": "code",
      "source": [
        "seconds_per_day//seconds_per_hour"
      ],
      "metadata": {
        "colab": {
          "base_uri": "https://localhost:8080/"
        },
        "id": "k7PFv4TIbisB",
        "outputId": "69e4ce6e-77ff-4817-f820-f51e31da04cf"
      },
      "execution_count": 15,
      "outputs": [
        {
          "output_type": "execute_result",
          "data": {
            "text/plain": [
              "24"
            ]
          },
          "metadata": {},
          "execution_count": 15
        }
      ]
    },
    {
      "cell_type": "markdown",
      "source": [
        "yes, number agree with the floating-point value from the previous question, aside from the final .0."
      ],
      "metadata": {
        "id": "1a4_1oNkbtaM"
      }
    },
    {
      "cell_type": "markdown",
      "source": [
        "**7. Write a generator, genPrimes, that returns the sequence of prime numbers on successive calls to its next() method: 2, 3, 5, 7, 11, ..**.\n"
      ],
      "metadata": {
        "id": "4HCoGfapWsMy"
      }
    },
    {
      "cell_type": "code",
      "source": [
        "def genPrimes():\n",
        "    n = 0\n",
        "    while True:\n",
        "        if n == 2 or n == 3 :\n",
        "            yield n\n",
        "        elif ((n-1)%6 == 0 or (n+1)%6 == 0) and n !=1:\n",
        "            yield n\n",
        "        n = n+1\n",
        "        \n",
        "output = genPrimes()\n",
        "for ele in range(5):\n",
        "    print(next(output))\n",
        "\n"
      ],
      "metadata": {
        "colab": {
          "base_uri": "https://localhost:8080/"
        },
        "id": "fWyT3DexcJu0",
        "outputId": "909fedde-ce62-4dc9-ba11-d63451093c01"
      },
      "execution_count": 1,
      "outputs": [
        {
          "output_type": "stream",
          "name": "stdout",
          "text": [
            "2\n",
            "3\n",
            "5\n",
            "7\n",
            "11\n"
          ]
        }
      ]
    },
    {
      "cell_type": "code",
      "source": [
        "def genPrimes():\n",
        "    primes = [2]\n",
        "    yield primes[0]\n",
        "    guess = 3\n",
        "    while True:\n",
        "        if all(guess%x != 0 for x in primes):\n",
        "            primes.append(guess)        \n",
        "        if guess == primes[-1]:\n",
        "            yield primes[-1]\n",
        "        guess += 2\n",
        "output = genPrimes()\n",
        "for ele in range(5):\n",
        "    print(next(output))"
      ],
      "metadata": {
        "colab": {
          "base_uri": "https://localhost:8080/"
        },
        "id": "W30gP2mmebV7",
        "outputId": "01fd4144-7cc7-4cf1-f176-cf73becdecdb"
      },
      "execution_count": 23,
      "outputs": [
        {
          "output_type": "stream",
          "name": "stdout",
          "text": [
            "2\n",
            "3\n",
            "5\n",
            "7\n",
            "11\n"
          ]
        }
      ]
    },
    {
      "cell_type": "code",
      "source": [],
      "metadata": {
        "id": "tDMW0zU0e6DE"
      },
      "execution_count": null,
      "outputs": []
    },
    {
      "cell_type": "code",
      "source": [],
      "metadata": {
        "id": "526Mb49hedfU"
      },
      "execution_count": null,
      "outputs": []
    }
  ]
}
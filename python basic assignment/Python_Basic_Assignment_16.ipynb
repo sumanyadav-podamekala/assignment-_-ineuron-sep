{
  "nbformat": 4,
  "nbformat_minor": 0,
  "metadata": {
    "colab": {
      "provenance": []
    },
    "kernelspec": {
      "name": "python3",
      "display_name": "Python 3"
    },
    "language_info": {
      "name": "python"
    }
  },
  "cells": [
    {
      "cell_type": "markdown",
      "source": [
        "**1. Create a list called years_list, starting with the year of your birth, and each year thereafter until the year of your fifth birthday. For example, if you were born in 1980. the list would be years_list = [1980, 1981, 1982, 1983, 1984, 1985].**\n",
        "\n"
      ],
      "metadata": {
        "id": "2CBKTCeoxJFg"
      }
    },
    {
      "cell_type": "code",
      "execution_count": 3,
      "metadata": {
        "colab": {
          "base_uri": "https://localhost:8080/"
        },
        "id": "9hOtgw1RxGWC",
        "outputId": "e66196c9-643b-489c-8441-605321c7bbd3"
      },
      "outputs": [
        {
          "output_type": "execute_result",
          "data": {
            "text/plain": [
              "[1995, 1996, 1997, 1998, 1999, 2000]"
            ]
          },
          "metadata": {},
          "execution_count": 3
        }
      ],
      "source": [
        "years_list = [i for i in range(1995,2001)]\n",
        "years_list"
      ]
    },
    {
      "cell_type": "markdown",
      "source": [
        "**2. In which year in years_list was your third birthday? Remember, you were 0 years of age for your first year.**"
      ],
      "metadata": {
        "id": "kedtQ6DKxNI3"
      }
    },
    {
      "cell_type": "code",
      "source": [
        "years_list[3]"
      ],
      "metadata": {
        "colab": {
          "base_uri": "https://localhost:8080/"
        },
        "id": "9trwpaR-yQNZ",
        "outputId": "f892062f-a00b-4aa1-d5c1-c4ce7f4116b0"
      },
      "execution_count": 4,
      "outputs": [
        {
          "output_type": "execute_result",
          "data": {
            "text/plain": [
              "1998"
            ]
          },
          "metadata": {},
          "execution_count": 4
        }
      ]
    },
    {
      "cell_type": "markdown",
      "source": [
        "**3.In the years list, which year were you the oldest?**\n"
      ],
      "metadata": {
        "id": "03SG1g2jxO9X"
      }
    },
    {
      "cell_type": "code",
      "source": [
        "years_list[-1\n",
        "]"
      ],
      "metadata": {
        "colab": {
          "base_uri": "https://localhost:8080/"
        },
        "id": "A_dtXN0uycp2",
        "outputId": "f64e1ae4-e6c8-43f0-8ec5-f4334cb427cf"
      },
      "execution_count": 5,
      "outputs": [
        {
          "output_type": "execute_result",
          "data": {
            "text/plain": [
              "2000"
            ]
          },
          "metadata": {},
          "execution_count": 5
        }
      ]
    },
    {
      "cell_type": "markdown",
      "source": [
        "**4. Make a list called things with these three strings as elements:**     \n",
        "\"mozzarella\", \"cinderella\", \"salmonella\"."
      ],
      "metadata": {
        "id": "lBDFbIIlxQT3"
      }
    },
    {
      "cell_type": "code",
      "source": [
        "things=[\"mozzarella\", \"cinderella\", \"salmonella\"]"
      ],
      "metadata": {
        "id": "3Ry5IMzBytT2"
      },
      "execution_count": 6,
      "outputs": []
    },
    {
      "cell_type": "markdown",
      "source": [
        "**5. Capitalize the element in things that refers to a person and then print the list. Did it change the element in the list?**\n"
      ],
      "metadata": {
        "id": "kwv4Y7ItxRyH"
      }
    },
    {
      "cell_type": "code",
      "source": [
        "for i in things:\n",
        "  if i==\"cinderella\":\n",
        "    things[things.index(i)]=i.capitalize()\n",
        "print(things) # yeah,change the element in the list?"
      ],
      "metadata": {
        "colab": {
          "base_uri": "https://localhost:8080/"
        },
        "id": "XiqYLPeqzCqv",
        "outputId": "1d2b5b0f-288a-41d7-92d9-1087a43599ef"
      },
      "execution_count": 8,
      "outputs": [
        {
          "output_type": "stream",
          "name": "stdout",
          "text": [
            "['mozzarella', 'Cinderella', 'salmonella']\n"
          ]
        }
      ]
    },
    {
      "cell_type": "markdown",
      "source": [
        "**6. Make a surprise list with the elements \"Groucho,\" \"Chico,\" and \"Harpo\".**"
      ],
      "metadata": {
        "id": "XqIFKwwyxUUJ"
      }
    },
    {
      "cell_type": "code",
      "source": [
        "suprise=[\"Groucho\" ,\"Chico\", \"Harpo\"]"
      ],
      "metadata": {
        "id": "CC6cfry10f4p"
      },
      "execution_count": 11,
      "outputs": []
    },
    {
      "cell_type": "markdown",
      "source": [
        "**7. Lowercase the last element of the surprise list, reverse it, and then capitalize it.**\n"
      ],
      "metadata": {
        "id": "dXFIJRbe0y6O"
      }
    },
    {
      "cell_type": "code",
      "source": [
        "suprise[-1].lower()[::-1].capitalize()"
      ],
      "metadata": {
        "colab": {
          "base_uri": "https://localhost:8080/",
          "height": 35
        },
        "id": "wJ9EaomU1NzF",
        "outputId": "db1cfe33-a254-4fdf-afa9-0bcbc8a523a3"
      },
      "execution_count": 15,
      "outputs": [
        {
          "output_type": "execute_result",
          "data": {
            "text/plain": [
              "'Oprah'"
            ],
            "application/vnd.google.colaboratory.intrinsic+json": {
              "type": "string"
            }
          },
          "metadata": {},
          "execution_count": 15
        }
      ]
    },
    {
      "cell_type": "markdown",
      "source": [
        "**8. Make an English-to-French dictionary called e2f and print it. Here are your starter words: dog is chien, cat is chat, and walrus is morse.**\n"
      ],
      "metadata": {
        "id": "3nZGT6Eu00oO"
      }
    },
    {
      "cell_type": "code",
      "source": [
        "e2f = {'dog':'chien','cat':'chat','walrus':'morse'}\n",
        "e2f"
      ],
      "metadata": {
        "colab": {
          "base_uri": "https://localhost:8080/"
        },
        "id": "MBzF7_MC2yCV",
        "outputId": "74064eb6-e520-4371-afe1-e8a6621b3e35"
      },
      "execution_count": 16,
      "outputs": [
        {
          "output_type": "execute_result",
          "data": {
            "text/plain": [
              "{'dog': 'chien', 'cat': 'chat', 'walrus': 'morse'}"
            ]
          },
          "metadata": {},
          "execution_count": 16
        }
      ]
    },
    {
      "cell_type": "markdown",
      "source": [
        "**9. Write the French word for walrus in your three-word dictionary e2f.**\n"
      ],
      "metadata": {
        "id": "-mQqLnno018a"
      }
    },
    {
      "cell_type": "code",
      "source": [
        "e2f['walrus']"
      ],
      "metadata": {
        "colab": {
          "base_uri": "https://localhost:8080/",
          "height": 35
        },
        "id": "H2nMIY4N25up",
        "outputId": "8a9d680f-3e5f-4fa2-b517-5eca4352fc8a"
      },
      "execution_count": 17,
      "outputs": [
        {
          "output_type": "execute_result",
          "data": {
            "text/plain": [
              "'morse'"
            ],
            "application/vnd.google.colaboratory.intrinsic+json": {
              "type": "string"
            }
          },
          "metadata": {},
          "execution_count": 17
        }
      ]
    },
    {
      "cell_type": "markdown",
      "source": [
        "**10. Make a French-to-English dictionary called f2e from e2f. Use the items method.**\n"
      ],
      "metadata": {
        "id": "-NqB8BiM03J2"
      }
    },
    {
      "cell_type": "code",
      "source": [
        "f2e= dict([ele[::-1] for ele in e2f.items()])"
      ],
      "metadata": {
        "id": "9DuB-q_p3Xjo"
      },
      "execution_count": 23,
      "outputs": []
    },
    {
      "cell_type": "markdown",
      "source": [
        "**11. Print the English version of the French word chien using f2e.**\n"
      ],
      "metadata": {
        "id": "0B0yB8xg04Te"
      }
    },
    {
      "cell_type": "code",
      "source": [
        "f2e['chien']"
      ],
      "metadata": {
        "colab": {
          "base_uri": "https://localhost:8080/",
          "height": 35
        },
        "id": "zRG77Aei4L_2",
        "outputId": "a5b956d3-75fe-4731-847a-a594fabd8e55"
      },
      "execution_count": 24,
      "outputs": [
        {
          "output_type": "execute_result",
          "data": {
            "text/plain": [
              "'dog'"
            ],
            "application/vnd.google.colaboratory.intrinsic+json": {
              "type": "string"
            }
          },
          "metadata": {},
          "execution_count": 24
        }
      ]
    },
    {
      "cell_type": "markdown",
      "source": [
        "**12. Make and print a set of English words from the keys in e2f.**"
      ],
      "metadata": {
        "id": "IKDmmuKC05he"
      }
    },
    {
      "cell_type": "code",
      "source": [
        "print(list(e2f.keys()))"
      ],
      "metadata": {
        "colab": {
          "base_uri": "https://localhost:8080/"
        },
        "id": "K6DFXaPW4VUX",
        "outputId": "d04d9404-9798-4776-b28f-f50d29883e4d"
      },
      "execution_count": 25,
      "outputs": [
        {
          "output_type": "stream",
          "name": "stdout",
          "text": [
            "['dog', 'cat', 'walrus']\n"
          ]
        }
      ]
    },
    {
      "cell_type": "markdown",
      "source": [
        "**13. Make a multilevel dictionary called life. Use these strings for the topmost keys: 'animals', 'plants', and 'other'. Make the 'animals' key refer to another dictionary with the keys 'cats', 'octopi', and 'emus'. Make the 'cats' key refer to a list of strings with the values 'Henri', 'Grumpy', and 'Lucy'. Make all the other keys refer to empty dictionaries.**\n",
        "\n"
      ],
      "metadata": {
        "id": "EhsD236f4bCG"
      }
    },
    {
      "cell_type": "code",
      "source": [
        "life = {'animals':{'cats':['Henri','Grumpy','Lucy'],'octopi':{},'emus':{} },\n",
        "    'plants':{},\n",
        "    'other':{}\n",
        "}"
      ],
      "metadata": {
        "id": "dz1VavMs4hcQ"
      },
      "execution_count": 26,
      "outputs": []
    },
    {
      "cell_type": "code",
      "source": [],
      "metadata": {
        "id": "GWm_yilh4XMl"
      },
      "execution_count": null,
      "outputs": []
    },
    {
      "cell_type": "markdown",
      "source": [
        "**14. Print the top-level keys of life.**\n"
      ],
      "metadata": {
        "id": "sWhFq4jw4cwo"
      }
    },
    {
      "cell_type": "code",
      "source": [
        "list(life.keys())"
      ],
      "metadata": {
        "colab": {
          "base_uri": "https://localhost:8080/"
        },
        "id": "BcXdizN17ukP",
        "outputId": "aaa20203-d26d-4b63-f4f2-f84398d67adb"
      },
      "execution_count": 31,
      "outputs": [
        {
          "output_type": "execute_result",
          "data": {
            "text/plain": [
              "['animals', 'plants', 'other']"
            ]
          },
          "metadata": {},
          "execution_count": 31
        }
      ]
    },
    {
      "cell_type": "markdown",
      "source": [
        "**15. Print the keys for life['animals'].**\n"
      ],
      "metadata": {
        "id": "AUVDqCWk4eB3"
      }
    },
    {
      "cell_type": "code",
      "source": [
        "list(life['animals'].keys())"
      ],
      "metadata": {
        "colab": {
          "base_uri": "https://localhost:8080/"
        },
        "id": "Yc_4k2I17zXO",
        "outputId": "f09c5021-1542-4b7f-b13a-964ae266d455"
      },
      "execution_count": 30,
      "outputs": [
        {
          "output_type": "execute_result",
          "data": {
            "text/plain": [
              "['cats', 'octopi', 'emus']"
            ]
          },
          "metadata": {},
          "execution_count": 30
        }
      ]
    },
    {
      "cell_type": "markdown",
      "source": [
        "**16. Print the values for life['animals']['cats']**"
      ],
      "metadata": {
        "id": "pxqi1bTX4fZp"
      }
    },
    {
      "cell_type": "code",
      "source": [
        "life['animals']['cats']"
      ],
      "metadata": {
        "colab": {
          "base_uri": "https://localhost:8080/"
        },
        "id": "RT6UtVq073A2",
        "outputId": "ae4a1782-5f65-4c30-c904-ea4792af1853"
      },
      "execution_count": 29,
      "outputs": [
        {
          "output_type": "execute_result",
          "data": {
            "text/plain": [
              "['Henri', 'Grumpy', 'Lucy']"
            ]
          },
          "metadata": {},
          "execution_count": 29
        }
      ]
    },
    {
      "cell_type": "code",
      "source": [],
      "metadata": {
        "id": "N-STL9iU74_i"
      },
      "execution_count": null,
      "outputs": []
    }
  ]
}
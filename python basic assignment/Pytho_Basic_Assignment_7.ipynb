{
  "nbformat": 4,
  "nbformat_minor": 0,
  "metadata": {
    "colab": {
      "provenance": []
    },
    "kernelspec": {
      "name": "python3",
      "display_name": "Python 3"
    },
    "language_info": {
      "name": "python"
    }
  },
  "cells": [
    {
      "cell_type": "markdown",
      "source": [
        "Q1 \n",
        "**What is the name of the feature responsible for generating Regex objects?**   \n",
        "The re. compile() function returns Regex objects.\n",
        "\n"
      ],
      "metadata": {
        "id": "y9KQV_OLSpgi"
      }
    },
    {
      "cell_type": "code",
      "source": [],
      "metadata": {
        "id": "ldnMV_MD0Xby"
      },
      "execution_count": null,
      "outputs": []
    },
    {
      "cell_type": "markdown",
      "source": [
        "**2. Why do raw strings often appear in Regex objects?**    \n",
        "Regular expressions use the backslash character ('\\') to indicate special forms (Metacharacters) or to allow special characters (speical sequences) to be used without invoking their special meaning. This collides with Python’s usage of the same character for the same purpose in string literals. Hence, Raw strings are used (e.g. r\"\\n\") so that backslashes do not have to be escaped.\n"
      ],
      "metadata": {
        "id": "r1aJ5PzUSrVR"
      }
    },
    {
      "cell_type": "markdown",
      "source": [
        "**3. What is the return value of the search() method?**  \n",
        "The return value of re.search(pattern,string) method is a match object if the pattern is observed in the string else it returns a None"
      ],
      "metadata": {
        "id": "B6xVmMcaSspB"
      }
    },
    {
      "cell_type": "markdown",
      "source": [
        "**4. From a Match item, how do you get the actual strings that match the pattern?**\n",
        "\n",
        "For Matched items group() methods returns actual strings that match the pattern"
      ],
      "metadata": {
        "id": "zThoemXa-6MR"
      }
    },
    {
      "cell_type": "markdown",
      "source": [
        "**5. In the regex which created from the r&#39;(\\d\\d\\d)-(\\d\\d\\d-\\d\\d\\d\\d)&#39;, what does group zero cover? Group 2? Group 1?** \n",
        "\n",
        "In the Regex r'(\\d\\d\\d)-(\\d\\d\\d-\\d\\d\\d\\d)' the zero group covers the entire pattern match where as the first group cover (\\d\\d\\d) and the second group cover (\\d\\d\\d-\\d\\d\\d\\d)\n"
      ],
      "metadata": {
        "id": "9NNuYpgjSvGx"
      }
    },
    {
      "cell_type": "markdown",
      "source": [
        "**6. In standard expression syntax, parentheses and intervals have distinct meanings. How can you tell a regex that you want it to fit real parentheses and periods?**\n",
        "\n",
        "The \\. \\( and \\) escape characters in the raw string passed to re.compile() will match actual parenthesis characters.\n"
      ],
      "metadata": {
        "id": "NRYr1_8c_Lb_"
      }
    },
    {
      "cell_type": "markdown",
      "source": [
        "**7. The findall() method returns a string list or a list of string tuples. What causes it to return one of the two options?**\n",
        "\n",
        " If the regex pattern has no groups, a list of strings matched is returned. if the regex pattern has groups, a list of tuple of strings is returned.\n"
      ],
      "metadata": {
        "id": "y05X3Cmh_R7n"
      }
    },
    {
      "cell_type": "markdown",
      "source": [
        "**8. In standard expressions, what does the | character mean?**  \n",
        "In Standard Expressions | means OR operator.\n"
      ],
      "metadata": {
        "id": "jT8jEril_Tmn"
      }
    },
    {
      "cell_type": "markdown",
      "source": [
        "**9. In regular expressions, what does ? the character stand for?**     \n",
        "In regular Expressions, ? characters represents zero or one match of the preceeding group.\n",
        "\n"
      ],
      "metadata": {
        "id": "V2_06mPf_U33"
      }
    },
    {
      "cell_type": "markdown",
      "source": [
        "**10. **In regular expressions, what is the difference between the + and * characters?     \n",
        "  \n",
        "In Regular Expressions, * Represents Zero ore more occurances of the preceeding group, whereas + represents one or more occurances of the preceeding group."
      ],
      "metadata": {
        "id": "G5hqPmD7_WMY"
      }
    },
    {
      "cell_type": "markdown",
      "source": [
        "**11. What is the difference between {4} and {4,5} in regular expression?**\n",
        "\n",
        "{4} means that its preceeding group should repeat 4 times. where as {4,5} means that its preceeding group should repeat mininum 4 times and maximum 5 times inclusively\n"
      ],
      "metadata": {
        "id": "0owy764XBhgx"
      }
    },
    {
      "cell_type": "markdown",
      "source": [
        "**12. What do you mean by the \\d, \\w, and \\s shorthand character classes signify in regular expressions?**\n",
        "\n",
        " \\d, \\w and \\s are special sequences in regular expresssions in python:\n",
        "\n",
        "\\w – Matches a word character equivalent to [a-zA-Z0-9_]\n",
        "\n",
        "\\d – Matches digit character equivalent to [0-9]\n",
        "\n",
        "\\s – Matches whitespace character (space, tab, newline, etc.)\n"
      ],
      "metadata": {
        "id": "mXy39eAXBjPW"
      }
    },
    {
      "cell_type": "markdown",
      "source": [
        "**13. What do means by \\D, \\W, and \\S shorthand character classes signify in regular expressions?**\n",
        "\n",
        "\\D, \\W and \\S are special sequences in regular expresssions in python:\n",
        "\n",
        "\\W – Matches any non-alphanumeric character equivalent to [^a-zA-Z0-9_]\n",
        "\n",
        "\\D – Matches any non-digit character, this is equivalent to the set class [^0-9]\n",
        "\n",
        "\\S – Matches any non-whitespace character\n"
      ],
      "metadata": {
        "id": "_ssYh0OfBkY3"
      }
    },
    {
      "cell_type": "markdown",
      "source": [
        "**14. What is the difference between** `.*? and .*`\n"
      ],
      "metadata": {
        "id": "ate9cwioBl0O"
      }
    },
    {
      "cell_type": "markdown",
      "source": [
        "`.* `is a Greedy mode, which returns the longest string that meets the condition. Whereas` .*? `is a non greedy mode which returns the shortest string that meets the condition."
      ],
      "metadata": {
        "id": "-wn1MSZxHHJa"
      }
    },
    {
      "cell_type": "markdown",
      "source": [
        "**15. What is the syntax for matching both numbers and lowercase letters with a character class?**\n",
        "\n",
        "The Synatax is Either [a-z0-9] or [0-9a-z]\n"
      ],
      "metadata": {
        "id": "Gk-H43TsDibH"
      }
    },
    {
      "cell_type": "markdown",
      "source": [
        "**16. What is the procedure for making a normal expression in regax case insensitive?**\n",
        "\n",
        "We can pass` re.IGNORECASE` as a flag to make a noraml expression case insensitive"
      ],
      "metadata": {
        "id": "PphiaQCdDujA"
      }
    },
    {
      "cell_type": "markdown",
      "source": [
        "**17. What does the . character normally match? What does it match if re.DOTALL is passed as 2nd argument in re.compile()?**\n"
      ],
      "metadata": {
        "id": "IR1UkMgiDv1v"
      }
    },
    {
      "cell_type": "markdown",
      "source": [
        "`. character `matches everything in input except newline character .. By passing `re.DOTALL` as a flag to` re.compile()`, you can make the dot character match all characters, including the newline character."
      ],
      "metadata": {
        "id": "Iy0nctHhD0JO"
      }
    },
    {
      "cell_type": "markdown",
      "source": [
        "**18. If numReg = re.compile(r'\\d+'), what will numRegex.sub('X', '11 drummers, 10 pipers, five rings, 4 hen') return?**\n",
        "\n",
        "The Ouput will be 'X drummers, X pipers, five rings, X hen'\n"
      ],
      "metadata": {
        "id": "3iyPQ-JTDxC-"
      }
    },
    {
      "cell_type": "markdown",
      "source": [
        "**19. What does passing re.VERBOSE as the 2nd argument to re.compile() allow to do?**\n",
        "\n",
        "`re.VERBOSE` will allow to add whitespace and comments to string passed to `re.compile().`"
      ],
      "metadata": {
        "id": "KrRfZPiiDyvO"
      }
    },
    {
      "cell_type": "markdown",
      "source": [
        "**20. How would you write a regex that match a number with comma for every three digits? It must match the given following:**     \n",
        "'42'     \n",
        "'1,234'     \n",
        "'6,368,745'     \n",
        "but not the following:     \n",
        "'12,34,567' (which has only two digits between the commas)     \n",
        "'1234' (which lacks commas)\n"
      ],
      "metadata": {
        "id": "U-v0z0IqD33m"
      }
    },
    {
      "cell_type": "code",
      "source": [
        "import re\n",
        "pattern = r'^\\d{1,3}(,\\d{3})*$'\n",
        "pagex = re.compile(pattern)\n",
        "for ele in ['42','1,234', '6,368,745','12,34,567','1234']:\n",
        "    print('Output:',ele, '->', pagex.search(ele))"
      ],
      "metadata": {
        "colab": {
          "base_uri": "https://localhost:8080/"
        },
        "id": "775XjyQxI9N9",
        "outputId": "a04de25b-299e-45fa-ce5b-1757011f1d86"
      },
      "execution_count": null,
      "outputs": [
        {
          "output_type": "stream",
          "name": "stdout",
          "text": [
            "Output: 42 -> <re.Match object; span=(0, 2), match='42'>\n",
            "Output: 1,234 -> <re.Match object; span=(0, 5), match='1,234'>\n",
            "Output: 6,368,745 -> <re.Match object; span=(0, 9), match='6,368,745'>\n",
            "Output: 12,34,567 -> None\n",
            "Output: 1234 -> None\n"
          ]
        }
      ]
    },
    {
      "cell_type": "markdown",
      "source": [
        "**21. How would you write a regex that matches the full name of someone whose last name is Watanabe? You can assume that the first name that comes before it will always be one word that begins with a capital letter. The regex must match the following:**     \n",
        "'Haruto Watanabe'     \n",
        "'Alice Watanabe'     \n",
        "'RoboCop Watanabe'     \n",
        "but not the following:     \n",
        "'haruto Watanabe' (where the first name is not capitalized)     \n",
        "'Mr. Watanabe' (where the preceding word has a nonletter character)     \n",
        "'Watanabe' (which has no first name)     \n",
        "'Haruto watanabe' (where Watanabe is not capitalized)\n"
      ],
      "metadata": {
        "id": "nxmuRBzfED3P"
      }
    },
    {
      "cell_type": "code",
      "source": [
        "\n",
        "import re\n",
        "pattern = r'[A-Z]{1}[a-z]*\\sWatanabe'\n",
        "namex = re.compile(pattern)\n",
        "for name in ['Haruto Watanabe','Alice Watanabe','RoboCop Watanabe','haruto Watanabe','Mr. Watanabe','Watanabe','Haruto watanabe']:\n",
        "    print('Output: ',name,'->',namex.search(name))"
      ],
      "metadata": {
        "colab": {
          "base_uri": "https://localhost:8080/"
        },
        "id": "X7oLCPrkJC2W",
        "outputId": "d4ecefd1-df6f-4c27-b57d-f06d44b310a5"
      },
      "execution_count": null,
      "outputs": [
        {
          "output_type": "stream",
          "name": "stdout",
          "text": [
            "Output:  Haruto Watanabe -> <re.Match object; span=(0, 15), match='Haruto Watanabe'>\n",
            "Output:  Alice Watanabe -> <re.Match object; span=(0, 14), match='Alice Watanabe'>\n",
            "Output:  RoboCop Watanabe -> <re.Match object; span=(4, 16), match='Cop Watanabe'>\n",
            "Output:  haruto Watanabe -> None\n",
            "Output:  Mr. Watanabe -> None\n",
            "Output:  Watanabe -> None\n",
            "Output:  Haruto watanabe -> None\n"
          ]
        }
      ]
    },
    {
      "cell_type": "markdown",
      "source": [
        "**22. How would you write a regex that matches a sentence where the first word is either Alice, Bob, or Carol; the second word is either eats, pets, or throws; the third word is apples, cats, or baseballs; and the sentence ends with a period? This regex should be case-insensitive. It must match the following:**     \n",
        "'Alice eats apples.     '\n",
        "'Bob pets cats.'     \n",
        "'Carol throws baseballs.'     \n",
        "'Alice throws Apples.'     \n",
        "'BOB EATS CATS.'     \n",
        "but not the following:     \n",
        "'RoboCop eats apples.'     \n",
        "'ALICE THROWS FOOTBALLS.'     \n",
        "'Carol eats 7 cats.'\n",
        "\n"
      ],
      "metadata": {
        "id": "mmxPvSEJEPRF"
      }
    },
    {
      "cell_type": "code",
      "source": [
        "\n",
        "import re\n",
        "pattern = r'(Alice|Bob|Carol)\\s(eats|pets|throws)\\s(apples|cats|baseballs)\\.'\n",
        "casex = re.compile(pattern,re.IGNORECASE)\n",
        "for ele in ['Alice eats apples.','Bob pets cats.','Carol throws baseballs.','Alice throws Apples.','BOB EATS CATS.','RoboCop eats apples.'\n",
        ",'ALICE THROWS FOOTBALLS.','Carol eats 7 cats.']:\n",
        "    print('Output: ',ele,'->',casex.search(ele))"
      ],
      "metadata": {
        "colab": {
          "base_uri": "https://localhost:8080/"
        },
        "id": "2QVuDaM7JI_V",
        "outputId": "23c6f8a6-15b0-42ec-fc43-787685ff6195"
      },
      "execution_count": null,
      "outputs": [
        {
          "output_type": "stream",
          "name": "stdout",
          "text": [
            "Output:  Alice eats apples. -> <re.Match object; span=(0, 18), match='Alice eats apples.'>\n",
            "Output:  Bob pets cats. -> <re.Match object; span=(0, 14), match='Bob pets cats.'>\n",
            "Output:  Carol throws baseballs. -> <re.Match object; span=(0, 23), match='Carol throws baseballs.'>\n",
            "Output:  Alice throws Apples. -> <re.Match object; span=(0, 20), match='Alice throws Apples.'>\n",
            "Output:  BOB EATS CATS. -> <re.Match object; span=(0, 14), match='BOB EATS CATS.'>\n",
            "Output:  RoboCop eats apples. -> None\n",
            "Output:  ALICE THROWS FOOTBALLS. -> None\n",
            "Output:  Carol eats 7 cats. -> None\n"
          ]
        }
      ]
    }
  ]
}
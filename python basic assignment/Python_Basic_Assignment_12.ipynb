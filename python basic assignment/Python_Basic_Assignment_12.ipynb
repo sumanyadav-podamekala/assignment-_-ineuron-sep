{
  "nbformat": 4,
  "nbformat_minor": 0,
  "metadata": {
    "colab": {
      "provenance": []
    },
    "kernelspec": {
      "name": "python3",
      "display_name": "Python 3"
    },
    "language_info": {
      "name": "python"
    }
  },
  "cells": [
    {
      "cell_type": "markdown",
      "source": [
        "**1. In what modes should the PdfFileReader() and PdfFileWriter() File objects will be opened?**\n",
        "\n",
        "**PdfFileReader()** needs to be opened in read-binary mode by passing `'rb'` as the second argument to open(). Likewise, the File object passed to PyPDF2. **PdfFileWriter()** needs to be opened in write-binary mode with `'wb'`.\n"
      ],
      "metadata": {
        "id": "vO_BK_UhzPuO"
      }
    },
    {
      "cell_type": "markdown",
      "source": [
        "**2. From a PdfFileReader object, how do you get a Page object for page 5?**\n",
        "\n",
        "PdfFileReader class provides a method called getPage(page_no) to get a page object."
      ],
      "metadata": {
        "id": "DClm9XWIzRW9"
      }
    },
    {
      "cell_type": "markdown",
      "source": [
        "**3. What PdfFileReader variable stores the number of pages in the PDF document?**\n",
        "\n",
        "getNumPages() method of PdfFileReader class stores the no pages in a PDF document"
      ],
      "metadata": {
        "id": "Gc4Infd_zS3k"
      }
    },
    {
      "cell_type": "markdown",
      "source": [
        "**4. If a PdfFileReader object’s PDF is encrypted with the password swordfish, what must you do before you can obtain Page objects from it?**"
      ],
      "metadata": {
        "id": "XpRJwarYzUj1"
      }
    },
    {
      "cell_type": "markdown",
      "source": [
        " If a PdfFileReader object’s PDF is encrypted with the password swordfish and you're not aware of it. first read the Pdf using the PdfFileReader Class. PdfFileReader class provides a attribute called isEncrypted to check whether a pdf is encrypted or not. the method returns true if a pdf is encrypted and vice versa.\n",
        "if pdf is encrypted use the decrypt() method provided by PdfFileReader class first then try to read the contents/pages of the pdf, else PyPDF2 will raise the following error PyPDF2.utils.PdfReadError: file has not been decrypted"
      ],
      "metadata": {
        "id": "eQiaaAwH82YC"
      }
    },
    {
      "cell_type": "code",
      "source": [
        "pip install python-docx"
      ],
      "metadata": {
        "colab": {
          "base_uri": "https://localhost:8080/"
        },
        "id": "HnXoHUeO9gjo",
        "outputId": "7f659d41-8df2-468e-f48e-f51307c2b73d"
      },
      "execution_count": 11,
      "outputs": [
        {
          "output_type": "stream",
          "name": "stdout",
          "text": [
            "Looking in indexes: https://pypi.org/simple, https://us-python.pkg.dev/colab-wheels/public/simple/\n",
            "Requirement already satisfied: python-docx in /usr/local/lib/python3.8/dist-packages (0.8.11)\n",
            "Requirement already satisfied: lxml>=2.3.2 in /usr/local/lib/python3.8/dist-packages (from python-docx) (4.9.1)\n"
          ]
        }
      ]
    },
    {
      "cell_type": "markdown",
      "source": [
        "\n",
        "**5. What methods do you use to rotate a page?**\n"
      ],
      "metadata": {
        "id": "bgKd91nBzV-t"
      }
    },
    {
      "cell_type": "markdown",
      "source": [
        "PyPDF2 Package provides 2 methods to rotate a page:\n",
        "\n",
        "rotateClockWise() -> For Clockwise rotation\n",
        "rotateCounterClockWise() -> For Counter Clockwise rotation\n",
        "The PyPDF2 package only allows you to rotate a page in increments of 90 degrees. You will receive an AssertionError otherwise."
      ],
      "metadata": {
        "id": "qQUuOlMf5XO8"
      }
    },
    {
      "cell_type": "markdown",
      "source": [
        "**6. What is the difference between a Run object and a Paragraph object?**"
      ],
      "metadata": {
        "id": "P3euh8XYzc0V"
      }
    },
    {
      "cell_type": "markdown",
      "source": [
        "The structure of a document is represented by three different data types in python-Docx. At the highest level, a Document object represents the entire document. The Document object contains a list of Paragraph objects for the paragraphs in the document. (A new paragraph begins whenever the user presses ENTER or RETURN while typing in a Word document.) Each of these Paragraph objects contains a list of one or more Run objects.\n",
        "\n",
        "The text in a Word document is more than just a string. It has font, size, color, and other styling information associated with it. A style in Word is a collection of these attributes. A Run object is a contiguous run of text with the same style. A new Run object is needed whenever the text style changes."
      ],
      "metadata": {
        "id": "HHW0X10589Dr"
      }
    },
    {
      "cell_type": "markdown",
      "source": [
        "**7. How do you obtain a list of Paragraph objects for a Document object that’s stored in a variable named doc?**\n",
        "\n",
        "\n",
        "\n"
      ],
      "metadata": {
        "id": "xqullszk59va"
      }
    },
    {
      "cell_type": "code",
      "source": [
        "from docx import Document\n",
        "doc = Document(\"doubts.docx\") \n",
        "print(doc.paragraphs) \n",
        "for paragraph in doc.paragraphs:\n",
        "  print(paragraph.text)\n"
      ],
      "metadata": {
        "colab": {
          "base_uri": "https://localhost:8080/"
        },
        "id": "IKzbPv4w-ayz",
        "outputId": "a9e0314f-9672-4453-b2fe-c4c5070d74b7"
      },
      "execution_count": 15,
      "outputs": [
        {
          "output_type": "stream",
          "name": "stdout",
          "text": [
            "[<docx.text.paragraph.Paragraph object at 0x7f2a85d14d60>, <docx.text.paragraph.Paragraph object at 0x7f2a85d149a0>, <docx.text.paragraph.Paragraph object at 0x7f2a85d14280>, <docx.text.paragraph.Paragraph object at 0x7f2a85d144f0>, <docx.text.paragraph.Paragraph object at 0x7f2a85d14640>, <docx.text.paragraph.Paragraph object at 0x7f2a85d14a60>, <docx.text.paragraph.Paragraph object at 0x7f2a85b31d30>, <docx.text.paragraph.Paragraph object at 0x7f2a85b31ca0>, <docx.text.paragraph.Paragraph object at 0x7f2a85b31b20>, <docx.text.paragraph.Paragraph object at 0x7f2a85b31a00>, <docx.text.paragraph.Paragraph object at 0x7f2a85b31be0>, <docx.text.paragraph.Paragraph object at 0x7f2a85b31af0>, <docx.text.paragraph.Paragraph object at 0x7f2a85b30c70>, <docx.text.paragraph.Paragraph object at 0x7f2a85afefa0>, <docx.text.paragraph.Paragraph object at 0x7f2a85afe8b0>, <docx.text.paragraph.Paragraph object at 0x7f2a85afed30>, <docx.text.paragraph.Paragraph object at 0x7f2a85afee80>, <docx.text.paragraph.Paragraph object at 0x7f2a85afe850>, <docx.text.paragraph.Paragraph object at 0x7f2a85b30d90>, <docx.text.paragraph.Paragraph object at 0x7f2a85b300d0>, <docx.text.paragraph.Paragraph object at 0x7f2a85b30160>]\n",
            "if __name__ == '__main__':\n",
            "    a = int(input())\n",
            "    b = int(input())\n",
            "c=a//b\n",
            "d=a/b\n",
            "print(\"%d\\n %f\"%(c,d))\n",
            "\n",
            "case study how we give input a=b?\n",
            "\n",
            "\n",
            "    a = int(input()) ………………………………………………………?\n",
            "n\n",
            "\n",
            "\n",
            "<script src=\"https://platform.linkedin.com/badges/js/profile.js\" async defer type=\"text/javascript\"></script>\n",
            "\n",
            "<div class=\"badge-base LI-profile-badge\" data-locale=\"en_US\" data-size=\"medium\" data-theme=\"dark\" data-type=\"VERTICAL\" data-vanity=\"sumanyadav-podamekala\" data-version=\"v1\"><a class=\"badge-base__link LI-simple-link\" href=\"https://in.linkedin.com/in/sumanyadav-podamekala?trk=profile-badge\">suman yadav Podamekala</a></div>\n",
            "\n",
            "GRANDMA-PROOF Self Help Artilce\n",
            "\n",
            "              \n"
          ]
        }
      ]
    },
    {
      "cell_type": "markdown",
      "source": [
        "**8. What type of object has bold, underline, italic, strike, and outline variables?**\n",
        "\n",
        "Run object has bold, underline, italic, strike, and outline variables. The text in a Word document is more than just a string. It has font, size, color, and other styling information associated with it.\n",
        "\n",
        "A style in Word is a collection of these attributes. A Run object is a contiguous run of text with the same style. A new Run object is needed whenever the text style changes.:\n",
        "\n"
      ],
      "metadata": {
        "id": "1hfltoOl6CEE"
      }
    },
    {
      "cell_type": "markdown",
      "source": [
        "**9. What is the difference between False, True, and None for the bold variable?**\n",
        "\n",
        "bold = True  # Style Set to Bold     \n",
        "bold = False # Style Not Set to Bold   \n",
        "bold = None # Style is Not Applicable   \n"
      ],
      "metadata": {
        "id": "9_uC6GJO6GYU"
      }
    },
    {
      "cell_type": "markdown",
      "source": [
        "**10. How do you create a Document object for a new Word document?**\n"
      ],
      "metadata": {
        "id": "C8U8bF_46KIz"
      }
    },
    {
      "cell_type": "code",
      "source": [
        "from docx import Document\n",
        "doc = Document()\n",
        "doc.add_paragraph(\"Course\")\n",
        "doc.save('mydocument.docx')"
      ],
      "metadata": {
        "id": "IJCs16rz891i"
      },
      "execution_count": 13,
      "outputs": []
    },
    {
      "cell_type": "code",
      "source": [
        "ls"
      ],
      "metadata": {
        "colab": {
          "base_uri": "https://localhost:8080/"
        },
        "id": "iXxa1-pm_Uu0",
        "outputId": "40a4dca9-55da-46a9-c6d5-9971868e7dc5"
      },
      "execution_count": 16,
      "outputs": [
        {
          "output_type": "stream",
          "name": "stdout",
          "text": [
            "doubts.docx  mydocument.docx              \u001b[0m\u001b[01;34msample_data\u001b[0m/\n",
            "hello.docx   partsavatar_assignment.docx\n"
          ]
        }
      ]
    },
    {
      "cell_type": "markdown",
      "source": [
        "**11. How do you add a paragraph with the text 'Hello, there!' to a Document object stored in a variable named doc?**\n"
      ],
      "metadata": {
        "id": "ky6lzeBj6OtD"
      }
    },
    {
      "cell_type": "code",
      "source": [
        "from docx import Document\n",
        "doc = Document()\n",
        "doc.add_paragraph('Hello, there!')\n",
        "doc.save('hello.docx')"
      ],
      "metadata": {
        "id": "sZSu6yIO8jzr"
      },
      "execution_count": 14,
      "outputs": []
    },
    {
      "cell_type": "markdown",
      "source": [
        "**12. What integers represent the levels of headings available in Word documents?**\n",
        "\n",
        "The levels for a heading in a word document can be specified by using the level attribute inside the add_heading method. There are a total of 5 levels statring for 0 t0 4. where level 0 makes a headline with the horizontal line below the text, whereas the heading level 1 is the main heading. Similarly, the other headings are sub-heading with their's font-sizes in decreasing order."
      ],
      "metadata": {
        "id": "pvdnm5qu6Q1P"
      }
    },
    {
      "cell_type": "code",
      "source": [],
      "metadata": {
        "id": "a2VcwPWq9lJ_"
      },
      "execution_count": null,
      "outputs": []
    }
  ]
}
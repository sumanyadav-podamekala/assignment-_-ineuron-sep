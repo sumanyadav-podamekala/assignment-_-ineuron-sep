{
  "nbformat": 4,
  "nbformat_minor": 0,
  "metadata": {
    "colab": {
      "provenance": []
    },
    "kernelspec": {
      "name": "python3",
      "display_name": "Python 3"
    },
    "language_info": {
      "name": "python"
    }
  },
  "cells": [
    {
      "cell_type": "markdown",
      "source": [
        "# Assignment Questions 2\n",
        "\n",
        "<aside>\n",
        "💡 **Question 1**\n",
        "Given an integer array nums of 2n integers, group these integers into n pairs (a1, b1), (a2, b2),..., (an, bn) such that the sum of min(ai, bi) for all i is maximized. Return the maximized sum.\n",
        "\n",
        "**Example 1:**\n",
        "Input: nums = [1,4,3,2]\n",
        "Output: 4\n",
        "\n",
        "**Explanation:** All possible pairings (ignoring the ordering of elements) are:\n",
        "\n",
        "1. (1, 4), (2, 3) -> min(1, 4) + min(2, 3) = 1 + 2 = 3\n",
        "2. (1, 3), (2, 4) -> min(1, 3) + min(2, 4) = 1 + 2 = 3\n",
        "3. (1, 2), (3, 4) -> min(1, 2) + min(3, 4) = 1 + 3 = 4\n",
        "So the maximum possible sum is 4\n",
        "</aside>\n",
        "\n"
      ],
      "metadata": {
        "id": "po2bAalcQtcz"
      }
    },
    {
      "cell_type": "code",
      "source": [
        "class Solution:\n",
        "    def arrayPairSum(self, nums):\n",
        "        nums.sort()  # Sort the array in ascending order\n",
        "        result = 0\n",
        "        \n",
        "        # Iterate over the array in pairs using enumerate\n",
        "        for i, num in enumerate(nums):\n",
        "            # Increment the result by the minimum value of each pair (every second element)\n",
        "            if i % 2 == 0:\n",
        "                result += num\n",
        "        \n",
        "        return result"
      ],
      "metadata": {
        "id": "rmHCn7aVRpVz"
      },
      "execution_count": null,
      "outputs": []
    },
    {
      "cell_type": "markdown",
      "source": [
        "<aside>\n",
        "💡 **Question 2**\n",
        "Alice has n candies, where the ith candy is of type candyType[i]. Alice noticed that she started to gain weight, so she visited a doctor. \n",
        "\n",
        "The doctor advised Alice to only eat n / 2 of the candies she has (n is always even). Alice likes her candies very much, and she wants to eat the maximum number of different types of candies while still following the doctor's advice. \n",
        "\n",
        "Given the integer array candyType of length n, return the maximum number of different types of candies she can eat if she only eats n / 2 of them.\n",
        "\n",
        "**Example 1:**\n",
        "Input: candyType = [1,1,2,2,3,3]\n",
        "Output: 3\n",
        "\n",
        "**Explanation**: Alice can only eat 6 / 2 = 3 candies. Since there are only 3 types, she can eat one of each type.\n",
        "\n",
        "</aside>\n",
        "\n"
      ],
      "metadata": {
        "id": "YsBeZ8VHRA5o"
      }
    },
    {
      "cell_type": "code",
      "source": [
        "\n",
        "class Solution:\n",
        "    def distributeCandies(self, candyType):\n",
        "        unique_types = set(candyType)  \n",
        "        max_candies = len(candyType) // 2 \n",
        "        \n",
        "        return min(max_candies, len(unique_types))  "
      ],
      "metadata": {
        "id": "gYptskAnXzhu"
      },
      "execution_count": null,
      "outputs": []
    },
    {
      "cell_type": "markdown",
      "source": [
        "\n",
        "<aside>\n",
        "Question 3\n",
        "We define a harmonious array as an array where the difference between its maximum value\n",
        "and its minimum value is exactly 1.\n",
        "\n",
        "Given an integer array nums, return the length of its longest harmonious subsequence\n",
        "among all its possible subsequences.\n",
        "\n",
        "A subsequence of an array is a sequence that can be derived from the array by deleting some or no elements without changing the order of the remaining elements.\n",
        "\n",
        "Example 1:\n",
        "Input: nums = [1,3,2,2,5,2,3,7]\n",
        "Output: 5\n",
        "\n",
        "Explanation: The longest harmonious subsequence is [3,2,2,2,3].\n",
        "\n",
        "</aside>"
      ],
      "metadata": {
        "id": "p_q2dLKSRIdo"
      }
    },
    {
      "cell_type": "code",
      "source": [
        "from collections import Counter\n",
        "\n",
        "class Solution:\n",
        "    def findLHS(self, nums):\n",
        "        num_counts = Counter(nums)  # Count occurrences of each number\n",
        "        \n",
        "        max_length = 0\n",
        "        \n",
        "        for num in num_counts:\n",
        "            if num + 1 in num_counts:  # Check if adjacent number exists\n",
        "                current_length = num_counts[num] + num_counts[num + 1]  # Calculate length of harmonious subsequence\n",
        "                max_length = max(max_length, current_length)\n",
        "        \n",
        "        return max_length"
      ],
      "metadata": {
        "id": "OUY0yaH5RrNG"
      },
      "execution_count": null,
      "outputs": []
    },
    {
      "cell_type": "markdown",
      "source": [
        "Question 4\n",
        "You have a long flowerbed in which some of the plots are planted, and some are not.\n",
        "However, flowers cannot be planted in adjacent plots.\n",
        "Given an integer array flowerbed containing 0's and 1's, where 0 means empty and 1 means not empty, and an integer n, return true if n new flowers can be planted in the flowerbed without violating the no-adjacent-flowers rule and false otherwise.\n",
        "\n",
        "Example 1:\n",
        "Input: flowerbed = [1,0,0,0,1], n = 1\n",
        "Output: true"
      ],
      "metadata": {
        "id": "2nCSuMcgRQpo"
      }
    },
    {
      "cell_type": "code",
      "source": [
        "class Solution:\n",
        "    def canPlaceFlowers(self, flowerbed, n):\n",
        "        count = 0\n",
        "        i = 0\n",
        "        while i < len(flowerbed):\n",
        "            if flowerbed[i] == 0 and (i == 0 or flowerbed[i - 1] == 0) and (i == len(flowerbed) - 1 or flowerbed[i + 1] == 0):\n",
        "                flowerbed[i] = 1\n",
        "                count += 1\n",
        "            i += 1\n",
        "        return count >= n"
      ],
      "metadata": {
        "id": "ERjTqfZDRsIW"
      },
      "execution_count": null,
      "outputs": []
    },
    {
      "cell_type": "markdown",
      "source": [
        "Question 5\n",
        "Given an integer array nums, find three numbers whose product is maximum and return the maximum product.\n",
        "\n",
        "Example 1:\n",
        "Input: nums = [1,2,3]\n",
        "Output: 6"
      ],
      "metadata": {
        "id": "qWoOKoOvQrAb"
      }
    },
    {
      "cell_type": "code",
      "source": [
        "class Solution:\n",
        "    def maximumProduct(self, nums):\n",
        "        nums.sort()  # Sort the numbers in ascending order\n",
        "        n = len(nums)\n",
        "        \n",
        "        # Calculate the product of the three largest numbers\n",
        "        max_product = nums[n - 1] * nums[n - 2] * nums[n - 3]\n",
        "        \n",
        "        # Calculate the product of the two smallest numbers and the largest number\n",
        "        min_product = nums[0] * nums[1] * nums[n - 1]\n",
        "        \n",
        "        # Return the maximum of max_product and min_product\n",
        "        return max(max_product, min_product)\n"
      ],
      "metadata": {
        "id": "lr-Wqnz1Rs87"
      },
      "execution_count": null,
      "outputs": []
    },
    {
      "cell_type": "markdown",
      "source": [
        "Question 6\n",
        "Given an array of integers nums which is sorted in ascending order, and an integer target,\n",
        "write a function to search target in nums. If target exists, then return its index. Otherwise,\n",
        "return -1.\n",
        "\n",
        "You must write an algorithm with O(log n) runtime complexity.\n",
        "\n",
        "Input: nums = [-1,0,3,5,9,12], target = 9\n",
        "Output: 4\n",
        "\n",
        "Explanation: 9 exists in nums and its index is 4"
      ],
      "metadata": {
        "id": "vMWni4qGRXyp"
      }
    },
    {
      "cell_type": "code",
      "source": [
        "class Solution:\n",
        "    def search(self, nums, target):\n",
        "        left = 0\n",
        "        right = len(nums) - 1\n",
        "        \n",
        "        while left <= right:\n",
        "            mid = left + (right - left) // 2\n",
        "            \n",
        "            if nums[mid] == target:\n",
        "                return mid\n",
        "            elif nums[mid] < target:\n",
        "                left = mid + 1\n",
        "            else:\n",
        "                right = mid - 1\n",
        "        \n",
        "        return -1"
      ],
      "metadata": {
        "id": "W38c5FTnRtrY"
      },
      "execution_count": 16,
      "outputs": []
    },
    {
      "cell_type": "markdown",
      "source": [
        "Question 7\n",
        "An array is monotonic if it is either monotone increasing or monotone decreasing.\n",
        "\n",
        "An array nums is monotone increasing if for all i <= j, nums[i] <= nums[j]. An array nums is\n",
        "monotone decreasing if for all i <= j, nums[i] >= nums[j].\n",
        "\n",
        "Given an integer array nums, return true if the given array is monotonic, or false otherwise.\n",
        "\n",
        "Example 1:\n",
        "Input: nums = [1,2,2,3]\n",
        "Output: true"
      ],
      "metadata": {
        "id": "ycPCd5iBRa6I"
      }
    },
    {
      "cell_type": "code",
      "source": [
        "class Solution:\n",
        "    def isMonotonic(self, nums):\n",
        "        increasing = decreasing = True\n",
        "        \n",
        "        for i in range(1, len(nums)):\n",
        "            if nums[i] > nums[i - 1]:\n",
        "                decreasing = False\n",
        "            if nums[i] < nums[i - 1]:\n",
        "                increasing = False\n",
        "        \n",
        "        return increasing or decreasing"
      ],
      "metadata": {
        "id": "rbilmi2aRew3"
      },
      "execution_count": null,
      "outputs": []
    },
    {
      "cell_type": "markdown",
      "source": [
        "Question 8\n",
        "You are given an integer array nums and an integer k.\n",
        "\n",
        "In one operation, you can choose any index i where 0 <= i < nums.length and change nums[i] to nums[i] + x where x is an integer from the range [-k, k]. You can apply this operation at most once for each index i.\n",
        "\n",
        "The score of nums is the difference between the maximum and minimum elements in nums.\n",
        "\n",
        "Return the minimum score of nums after applying the mentioned operation at most once for each index in it.\n",
        "\n",
        "Example 1:\n",
        "Input: nums = [1], k = 0\n",
        "Output: 0\n",
        "\n",
        "Explanation: The score is max(nums) - min(nums) = 1 - 1 = 0."
      ],
      "metadata": {
        "id": "Vzfl_1-jRfKE"
      }
    },
    {
      "cell_type": "code",
      "source": [
        "class Solution:\n",
        "    def smallestRangeI(self, nums, k):\n",
        "        min_num = min(nums)\n",
        "        max_num = max(nums)\n",
        "        \n",
        "        diff = max_num - min_num\n",
        "        diff -= 2 * k\n",
        "        \n",
        "        if diff < 0:\n",
        "            return 0\n",
        "        else:\n",
        "            return diff\n"
      ],
      "metadata": {
        "id": "kUh9CJO03e2H"
      },
      "execution_count": 17,
      "outputs": []
    }
  ]
}
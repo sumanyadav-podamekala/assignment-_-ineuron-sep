{
 "cells": [
  {
   "attachments": {},
   "cell_type": "markdown",
   "metadata": {},
   "source": [
    "<aside>\n",
    "💡 **Q1.** Given an array of integers nums and an integer target, return indices of the two numbers such that they add up to target.\n",
    "\n",
    "You may assume that each input would have exactly one solution, and you may not use the same element twice.\n",
    "\n",
    "You can return the answer in any order.\n",
    "\n",
    "**Example:**\n",
    "Input: nums = [2,7,11,15], target = 9\n",
    "Output0 [0,1]\n",
    "\n",
    "**Explanation:** Because nums[0] + nums[1] == 9, we return [0, 1]\n",
    "\n",
    "</aside>"
   ]
  },
  {
   "cell_type": "code",
   "execution_count": null,
   "metadata": {},
   "outputs": [],
   "source": [
    "class Solution:\n",
    "    def twoSum(self, nums, target):\n",
    "        # Create a dictionary to store the complement of each number and its index\n",
    "        complement_dict = {}\n",
    "        # Iterate through the input list\n",
    "        for i, num in enumerate(nums):\n",
    "            # Check if the complement of the current number exists in the dictionary\n",
    "            complement = target - num\n",
    "            if complement in complement_dict:\n",
    "                # If complement exists, return the indices of the two numbers\n",
    "                return [complement_dict[complement], i]\n",
    "            # If complement doesn't exist, add the current number to the dictionary\n",
    "            complement_dict[num] = i\n",
    "        # If no solution is found, return an empty list\n",
    "        return []\n",
    "\n",
    "\n"
   ]
  }
 ],
 "metadata": {
  "language_info": {
   "name": "python"
  },
  "orig_nbformat": 4
 },
 "nbformat": 4,
 "nbformat_minor": 2
}

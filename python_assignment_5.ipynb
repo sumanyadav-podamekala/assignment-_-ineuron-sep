{
  "nbformat": 4,
  "nbformat_minor": 0,
  "metadata": {
    "colab": {
      "provenance": [],
      "collapsed_sections": []
    },
    "kernelspec": {
      "name": "python3",
      "display_name": "Python 3"
    },
    "language_info": {
      "name": "python"
    }
  },
  "cells": [
    {
      "cell_type": "markdown",
      "source": [
        "1. What does an empty dictionary's code look like?\n",
        "\n",
        "empty dictionary's code look like this {}."
      ],
      "metadata": {
        "id": "HZrDwREJ9i9E"
      }
    },
    {
      "cell_type": "code",
      "source": [
        "d={}\n",
        "type(d)"
      ],
      "metadata": {
        "colab": {
          "base_uri": "https://localhost:8080/"
        },
        "id": "LMZVEAdf9v4I",
        "outputId": "2340819b-45a9-48a1-b8e4-1ea10f219e35"
      },
      "execution_count": 1,
      "outputs": [
        {
          "output_type": "execute_result",
          "data": {
            "text/plain": [
              "dict"
            ]
          },
          "metadata": {},
          "execution_count": 1
        }
      ]
    },
    {
      "cell_type": "markdown",
      "source": [
        "2. What is the value of a dictionary value with the key 'foo' and the value 42?"
      ],
      "metadata": {
        "id": "6LrVNjBe9jIr"
      }
    },
    {
      "cell_type": "code",
      "source": [
        "k= {'foo':42}\n",
        "k"
      ],
      "metadata": {
        "colab": {
          "base_uri": "https://localhost:8080/"
        },
        "id": "zr1JDtnl97L7",
        "outputId": "05fd19f0-f992-4844-a368-30f66d064c17"
      },
      "execution_count": 2,
      "outputs": [
        {
          "output_type": "execute_result",
          "data": {
            "text/plain": [
              "{'foo': 42}"
            ]
          },
          "metadata": {},
          "execution_count": 2
        }
      ]
    },
    {
      "cell_type": "markdown",
      "source": [
        "3. What is the most significant distinction between a dictionary and a list?\n",
        "\n",
        "List:\n",
        "\n",
        "The elements are accessed via indices  \n",
        "The order of the elements entered are maintained  \n",
        "Lists are mutable in nature  \n",
        "Placing all the elements inside square brackets [] and separated by commas(,).\n",
        "\n",
        "\n",
        "Dictionary:\n",
        "\n",
        "The elements are accessed via key-values  \n",
        "No guarantee of maintaining the order  \n",
        "Dictionaries are mutable, but keys do not allow duplicates  \n",
        "Placing all key-value pairs inside curly brackets{} and separated by a comma. Also, each key and pair is separated by a semi-colon (:)\n",
        "```\n",
        "spam={\"cat\":1, \"bat\": 2}\n",
        "```\n"
      ],
      "metadata": {
        "id": "y8gX5xZs_BE8"
      }
    },
    {
      "cell_type": "markdown",
      "source": [
        "4. What happens if you try to access spam['foo'] if spam is {'bar': 100}?    \n",
        "ans) gives a  key error."
      ],
      "metadata": {
        "id": "rGR8jx2mAkLc"
      }
    },
    {
      "cell_type": "code",
      "source": [
        "spam = {'bar': 100}\n",
        "spam['foo']"
      ],
      "metadata": {
        "colab": {
          "base_uri": "https://localhost:8080/",
          "height": 187
        },
        "id": "_JdA8Ytu_LVW",
        "outputId": "cefaf3cf-8e5a-4a35-86c3-d3bcc02d2a1f"
      },
      "execution_count": 6,
      "outputs": [
        {
          "output_type": "error",
          "ename": "KeyError",
          "evalue": "ignored",
          "traceback": [
            "\u001b[0;31m---------------------------------------------------------------------------\u001b[0m",
            "\u001b[0;31mKeyError\u001b[0m                                  Traceback (most recent call last)",
            "\u001b[0;32m<ipython-input-6-56a8e50c7ff8>\u001b[0m in \u001b[0;36m<module>\u001b[0;34m\u001b[0m\n\u001b[1;32m      1\u001b[0m \u001b[0mspam\u001b[0m \u001b[0;34m=\u001b[0m \u001b[0;34m{\u001b[0m\u001b[0;34m'bar'\u001b[0m\u001b[0;34m:\u001b[0m \u001b[0;36m100\u001b[0m\u001b[0;34m}\u001b[0m\u001b[0;34m\u001b[0m\u001b[0;34m\u001b[0m\u001b[0m\n\u001b[0;32m----> 2\u001b[0;31m \u001b[0mspam\u001b[0m\u001b[0;34m[\u001b[0m\u001b[0;34m'foo'\u001b[0m\u001b[0;34m]\u001b[0m\u001b[0;34m\u001b[0m\u001b[0;34m\u001b[0m\u001b[0m\n\u001b[0m",
            "\u001b[0;31mKeyError\u001b[0m: 'foo'"
          ]
        }
      ]
    },
    {
      "cell_type": "markdown",
      "source": [
        "5. If a dictionary is stored in spam, what is the difference between the expressions 'cat' in spam and 'cat' in spam.keys()?    \n",
        "A) No difference"
      ],
      "metadata": {
        "id": "g07lQ4hmBG60"
      }
    },
    {
      "cell_type": "code",
      "source": [
        "spam={\"cat\":1, \"bat\": 2}\n",
        "\"cat\" in spam"
      ],
      "metadata": {
        "colab": {
          "base_uri": "https://localhost:8080/"
        },
        "id": "N2o1NpRxAup7",
        "outputId": "ca4628c0-3088-450b-cd4f-8e2deef02edc"
      },
      "execution_count": 8,
      "outputs": [
        {
          "output_type": "execute_result",
          "data": {
            "text/plain": [
              "True"
            ]
          },
          "metadata": {},
          "execution_count": 8
        }
      ]
    },
    {
      "cell_type": "code",
      "source": [
        "spam.keys()"
      ],
      "metadata": {
        "colab": {
          "base_uri": "https://localhost:8080/"
        },
        "id": "mArK2IWXBwgZ",
        "outputId": "422f5843-f718-4922-85ef-72628e43c5d6"
      },
      "execution_count": 9,
      "outputs": [
        {
          "output_type": "execute_result",
          "data": {
            "text/plain": [
              "dict_keys(['cat', 'bat'])"
            ]
          },
          "metadata": {},
          "execution_count": 9
        }
      ]
    },
    {
      "cell_type": "code",
      "source": [
        "\"cat\"in spam.keys()"
      ],
      "metadata": {
        "colab": {
          "base_uri": "https://localhost:8080/"
        },
        "id": "lyL8jfsaB1c1",
        "outputId": "ddbf8fca-57b4-46de-afd9-76899d518779"
      },
      "execution_count": 12,
      "outputs": [
        {
          "output_type": "execute_result",
          "data": {
            "text/plain": [
              "True"
            ]
          },
          "metadata": {},
          "execution_count": 12
        }
      ]
    },
    {
      "cell_type": "markdown",
      "source": [
        "7. What is a shortcut for the following code?\n",
        "```\n",
        "if 'color' not in spam:\n",
        "    spam['color'] = 'black'\n",
        "\n",
        "```\n",
        "\n"
      ],
      "metadata": {
        "id": "1IdzT8pgCTRz"
      }
    },
    {
      "cell_type": "code",
      "source": [
        "spam = {'part': 'head', 'sub part': \"hair\"}\n",
        "if 'color' not in spam:\n",
        "    spam['color'] = 'black'\n",
        "spam"
      ],
      "metadata": {
        "colab": {
          "base_uri": "https://localhost:8080/"
        },
        "id": "6TqgzcjXEpJm",
        "outputId": "7b86d791-cf57-46fa-faf6-a8c9ce87f44b"
      },
      "execution_count": 14,
      "outputs": [
        {
          "output_type": "execute_result",
          "data": {
            "text/plain": [
              "{'part': 'head', 'sub part': 'hair', 'color': 'black'}"
            ]
          },
          "metadata": {},
          "execution_count": 14
        }
      ]
    },
    {
      "cell_type": "code",
      "source": [
        "spam = {'part': 'head', 'sub part': \"hair\"}\n",
        "spam.setdefault('color', 'black')\n",
        "spam"
      ],
      "metadata": {
        "colab": {
          "base_uri": "https://localhost:8080/"
        },
        "id": "HB2tg0YNE_Ph",
        "outputId": "e973ac1b-dd0b-42b8-f3cd-ac929824ae59"
      },
      "execution_count": 16,
      "outputs": [
        {
          "output_type": "execute_result",
          "data": {
            "text/plain": [
              "{'part': 'head', 'sub part': 'hair', 'color': 'black'}"
            ]
          },
          "metadata": {},
          "execution_count": 16
        }
      ]
    },
    {
      "cell_type": "markdown",
      "source": [
        "8. How do you \"pretty print\" dictionary values using which module and function?\n",
        "\n",
        "moddule is pprint  \n",
        "function is pprint \n",
        "gives the ouput which is easily to read"
      ],
      "metadata": {
        "id": "wyspxL3qDWuL"
      }
    },
    {
      "cell_type": "code",
      "source": [
        "import pprint\n",
        "dict =  {\"1\": {\"1\":\"head\", \"2\": \"eyes\" ,\"3\":\"ears\"}, \"2\":{\"1\":\"legs\", \"2\": \"knee\" ,\"3\":\"fingers\"}}\n",
        "pprint.pprint(dict)"
      ],
      "metadata": {
        "colab": {
          "base_uri": "https://localhost:8080/"
        },
        "id": "Dvn0wIUWE89J",
        "outputId": "7b549f06-970f-4966-c9c9-680393feb9ea"
      },
      "execution_count": 30,
      "outputs": [
        {
          "output_type": "stream",
          "name": "stdout",
          "text": [
            "{'1': {'1': 'head', '2': 'eyes', '3': 'ears'},\n",
            " '2': {'1': 'legs', '2': 'knee', '3': 'fingers'}}\n"
          ]
        }
      ]
    },
    {
      "cell_type": "code",
      "source": [
        "sample_dict = {'name': 'Nik', 'age': 31, 'gender': 'male', 'books': ['Harry Potter', 'Lord of the Rings']}"
      ],
      "metadata": {
        "id": "g98X7J1dB59h"
      },
      "execution_count": 26,
      "outputs": []
    },
    {
      "cell_type": "code",
      "source": [
        "pprint.pprint(sample_dict)"
      ],
      "metadata": {
        "colab": {
          "base_uri": "https://localhost:8080/"
        },
        "id": "E_7c3H0VCTAD",
        "outputId": "b95482f4-58bc-4a06-d6a7-7d02385c0669"
      },
      "execution_count": 27,
      "outputs": [
        {
          "output_type": "stream",
          "name": "stdout",
          "text": [
            "{'age': 31,\n",
            " 'books': ['Harry Potter', 'Lord of the Rings'],\n",
            " 'gender': 'male',\n",
            " 'name': 'Nik'}\n"
          ]
        }
      ]
    }
  ]
}
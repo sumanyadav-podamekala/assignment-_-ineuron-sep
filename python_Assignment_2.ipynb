{
  "nbformat": 4,
  "nbformat_minor": 0,
  "metadata": {
    "colab": {
      "provenance": [],
      "collapsed_sections": []
    },
    "kernelspec": {
      "name": "python3",
      "display_name": "Python 3"
    },
    "language_info": {
      "name": "python"
    }
  },
  "cells": [
    {
      "cell_type": "markdown",
      "source": [
        "1. What are the two values of the Boolean data type? How do you write them?\n",
        "\n",
        "The Python Boolean type has only two possible values: True, False.\n",
        "\n",
        "\n",
        "2. What are the three different types of Boolean operators?\n",
        "\n",
        "\n",
        "The three basic boolean operators are: AND, OR, and NOT.\n",
        "\n",
        "\n",
        "3. Make a list of each Boolean operator's truth tables (i.e. every possible combination of Boolean values for the operator and what it evaluate ).\n",
        "\n",
        "\n",
        "a)\tAND\n",
        "\n",
        "a\t|b|\ta AND b\n",
        "-|-|-\n",
        "True|\tTrue|\tTrue\n",
        "True|\tFalse\t|False\n",
        "False|\tTrue\t|False\n",
        "False\t|False\t|False\n",
        "\n",
        "b)\tOR\n",
        "\n",
        "a\t|b|\ta OR b\n",
        "-|-|-\n",
        "True|\tTrue|\tTrue\n",
        "True|\tFalse\t|False\n",
        "False|\tTrue\t|False\n",
        "False\t|False\t|False\n",
        "\n",
        " \n",
        "\n",
        "c)\tNOT\n",
        "\n",
        "b\t|NOT b\n",
        "-|-\n",
        "True|\tFalse\t|False\n",
        "False|\tTrue\n",
        "\n",
        "\n",
        "4. What are the values of the following expressions?\n",
        "\n",
        "(5 > 4) and (3 == 5)------ -----------------False\n",
        "\n",
        "not (5 > 4)----------------------------------- False\n",
        "\n",
        "(5 > 4) or (3 == 5)------------------------ True\n",
        "\n",
        "not ((5 > 4) or (3 == 5))----------------- False\n",
        "\n",
        "(True and True) and (True == False)- False\n",
        "\n",
        "(not False) or (not True)----------------- - True\n",
        "\n"
      ],
      "metadata": {
        "id": "02QtoyL2MQKX"
      }
    },
    {
      "cell_type": "markdown",
      "source": [
        "4. What are the values of the following expressions?\n",
        "\n",
        "(5 > 4) and (3 == 5)\n",
        "\n",
        "not (5 > 4)\n",
        "\n",
        "(5 > 4) or (3 == 5)\n",
        "\n",
        "not ((5 > 4) or (3 == 5))\n",
        "\n",
        "(True and True) and (True == False)\n",
        "\n",
        "(not False) or (not True)\n"
      ],
      "metadata": {
        "id": "YwD5DQlrRc-d"
      }
    },
    {
      "cell_type": "code",
      "source": [
        "print((5 > 4) and (3 == 5))\n",
        "print(not (5 > 4))\n",
        "print((5 > 4) or (3 == 5))\n",
        "print(not ((5 > 4) or (3 == 5)))\n",
        "print((True and True) and (True == False))\n",
        "print((not False) or (not True))\n"
      ],
      "metadata": {
        "id": "h8A4Sq2wMWMN",
        "colab": {
          "base_uri": "https://localhost:8080/"
        },
        "outputId": "be5a0803-c8bc-4f25-9b58-ad672f41ebb6"
      },
      "execution_count": null,
      "outputs": [
        {
          "output_type": "stream",
          "name": "stdout",
          "text": [
            "False\n",
            "False\n",
            "True\n",
            "False\n",
            "False\n",
            "True\n"
          ]
        }
      ]
    },
    {
      "cell_type": "markdown",
      "source": [
        "5. What are the six comparison operators?\n",
        "\n",
        "==\n",
        "# >=\n",
        "\n",
        "<=\n",
        "\n",
        "<\n",
        "\n",
        ">\n",
        "\n",
        "!=\n"
      ],
      "metadata": {
        "id": "WOVemJewR715"
      }
    },
    {
      "cell_type": "markdown",
      "source": [
        "\n",
        "6. How do you tell the difference between the equal to and assignment operators?Describe a condition and when you would use one.\n"
      ],
      "metadata": {
        "id": "d_RZ0jNGSSFT"
      }
    },
    {
      "cell_type": "markdown",
      "source": [
        "The == is one of the comparative operator(equal) that compares the value of two objects, whether the two given operands are equal or not. If so, it returns true.\n",
        "The “=” is an assignment operator is to assign the value  variable.eg\n"
      ],
      "metadata": {
        "id": "vlO2Mo6LWlBE"
      }
    },
    {
      "cell_type": "code",
      "source": [
        "j= 5 #assignment operator\n",
        "k=5\n",
        "j==k #equal to\n",
        "if j==k:\n",
        "  print(\" j is eual to k\")\n",
        "else:\n",
        "  print(\" j is not equal to j\")"
      ],
      "metadata": {
        "colab": {
          "base_uri": "https://localhost:8080/"
        },
        "id": "1MrZfW5iW6aF",
        "outputId": "9b4b0632-185f-4897-eb90-dc26aac8ce3c"
      },
      "execution_count": 6,
      "outputs": [
        {
          "output_type": "stream",
          "name": "stdout",
          "text": [
            " j is eual to k\n"
          ]
        }
      ]
    },
    {
      "cell_type": "markdown",
      "source": [
        "7. Identify the three blocks in this code:"
      ],
      "metadata": {
        "id": "wART5ld_ZhLb"
      }
    },
    {
      "cell_type": "code",
      "source": [
        "spam = 0\n",
        "if spam == 10: #1st block\n",
        " print('eggs') #1st block\n",
        "if spam > 5:              #2nd block\n",
        " print('bacon')           #2nd block\n",
        "else:\n",
        " print('ham')   #3rd block\n",
        " print('spam')     #3rd block\n",
        " print('spam')      #3rd block\n"
      ],
      "metadata": {
        "colab": {
          "base_uri": "https://localhost:8080/"
        },
        "id": "ReGnFtB3Ya8f",
        "outputId": "cf9614d2-39e6-46bd-87cb-8227932b35b4"
      },
      "execution_count": 10,
      "outputs": [
        {
          "output_type": "stream",
          "name": "stdout",
          "text": [
            "ham\n",
            "spam\n",
            "spam\n"
          ]
        }
      ]
    },
    {
      "cell_type": "markdown",
      "source": [
        "8. Write code that prints Hello if 1 is stored in spam, prints Howdy if 2 is stored in spam, and prints Greetings! if anything else is stored in spam."
      ],
      "metadata": {
        "id": "ifPJ1DtIamxI"
      }
    },
    {
      "cell_type": "code",
      "source": [
        "spam =int(input(\"Enter the number: \"))\n",
        "if spam == 1: \n",
        " print('Hello')\n",
        "if spam==2:              \n",
        " print('Howdy')           \n",
        "if spam!=2 and spam !=1:\n",
        "  print('Greetings! ')  "
      ],
      "metadata": {
        "colab": {
          "base_uri": "https://localhost:8080/"
        },
        "id": "YtXmAgLsan8V",
        "outputId": "414c73df-103d-44a0-9b75-4cbd1882ffea"
      },
      "execution_count": 32,
      "outputs": [
        {
          "output_type": "stream",
          "name": "stdout",
          "text": [
            "Enter the number: 3\n",
            "Greetings! \n"
          ]
        }
      ]
    },
    {
      "cell_type": "markdown",
      "source": [
        "9. If your programme is stuck in an endless loop, what keys you’ll press?\n",
        "\n",
        "ans) You can stop an endless loop with CTRL + C ."
      ],
      "metadata": {
        "id": "nRzyaIwvioBa"
      }
    },
    {
      "cell_type": "markdown",
      "source": [
        "10. How can you tell the difference between break and continue?\n",
        "\n",
        "ans) break is used to exit a for loop or a while loop,\n",
        "\n",
        " whereas continue is used to skip the current block, and return to the \"for\" or \"while\" statement. "
      ],
      "metadata": {
        "id": "KFHfi3K2jMaZ"
      }
    },
    {
      "cell_type": "code",
      "source": [
        "c=0   ## Prints out 0,1,2,3,4\n",
        "while True:\n",
        "  print(c)\n",
        "  c=c+1\n",
        "  if c>=5:\n",
        "    break"
      ],
      "metadata": {
        "colab": {
          "base_uri": "https://localhost:8080/"
        },
        "id": "s_PdYh8HmDbm",
        "outputId": "743a6ead-0568-428a-8897-692da53f7078"
      },
      "execution_count": 36,
      "outputs": [
        {
          "output_type": "stream",
          "name": "stdout",
          "text": [
            "0\n",
            "1\n",
            "2\n",
            "3\n",
            "4\n"
          ]
        }
      ]
    },
    {
      "cell_type": "code",
      "source": [
        "for x in range(10):   # Prints out only odd numbers - 1,3,5,7,9\n",
        "    if x % 2 == 0:\n",
        "        continue\n",
        "    print(x)"
      ],
      "metadata": {
        "colab": {
          "base_uri": "https://localhost:8080/"
        },
        "id": "WvXzP8-5mnOr",
        "outputId": "d8fbb82b-4a59-493f-b081-ff267f3f74f0"
      },
      "execution_count": 39,
      "outputs": [
        {
          "output_type": "stream",
          "name": "stdout",
          "text": [
            "1\n",
            "3\n",
            "5\n",
            "7\n",
            "9\n"
          ]
        }
      ]
    },
    {
      "cell_type": "markdown",
      "source": [
        "11. In a for loop, what is the difference between range(10), range(0, 10), and range(0, 10, 1)?\n",
        "\n",
        "ans) same"
      ],
      "metadata": {
        "id": "N9LkEWR3nWR9"
      }
    },
    {
      "cell_type": "code",
      "source": [
        "for x in range(10):\n",
        "  print(x)\n",
        "\n"
      ],
      "metadata": {
        "colab": {
          "base_uri": "https://localhost:8080/"
        },
        "id": "CYluil48mPbK",
        "outputId": "d7a44f7b-b93b-4175-a639-ecf5be12f4cb"
      },
      "execution_count": 42,
      "outputs": [
        {
          "output_type": "stream",
          "name": "stdout",
          "text": [
            "0\n",
            "1\n",
            "2\n",
            "3\n",
            "4\n",
            "5\n",
            "6\n",
            "7\n",
            "8\n",
            "9\n"
          ]
        }
      ]
    },
    {
      "cell_type": "code",
      "source": [
        "for y in range(0, 10):\n",
        "  print(y)"
      ],
      "metadata": {
        "colab": {
          "base_uri": "https://localhost:8080/"
        },
        "id": "X0fJZhAGnhnW",
        "outputId": "d5a5f367-37d0-497e-c853-bf7fb07bba5b"
      },
      "execution_count": 43,
      "outputs": [
        {
          "output_type": "stream",
          "name": "stdout",
          "text": [
            "0\n",
            "1\n",
            "2\n",
            "3\n",
            "4\n",
            "5\n",
            "6\n",
            "7\n",
            "8\n",
            "9\n"
          ]
        }
      ]
    },
    {
      "cell_type": "code",
      "source": [
        "for z in range(0, 10, 1):\n",
        "  print(z)"
      ],
      "metadata": {
        "colab": {
          "base_uri": "https://localhost:8080/"
        },
        "id": "rN7NRItBn2O0",
        "outputId": "3a6981bc-0277-4f38-91b7-1b03be01ce8a"
      },
      "execution_count": 45,
      "outputs": [
        {
          "output_type": "stream",
          "name": "stdout",
          "text": [
            "0\n",
            "1\n",
            "2\n",
            "3\n",
            "4\n",
            "5\n",
            "6\n",
            "7\n",
            "8\n",
            "9\n"
          ]
        }
      ]
    },
    {
      "cell_type": "markdown",
      "source": [
        "12. Write a short program that prints the numbers 1 to 10 using a for loop. Then write an equivalent program that prints the numbers 1 to 10 using a while loop."
      ],
      "metadata": {
        "id": "slwDmJeiosJc"
      }
    },
    {
      "cell_type": "code",
      "source": [
        "for x in range(1, 10):\n",
        "  print(x)\n"
      ],
      "metadata": {
        "colab": {
          "base_uri": "https://localhost:8080/"
        },
        "id": "GKfv8RthouTc",
        "outputId": "ef3d60ab-b2c7-49be-b9e0-2f70538dee1e"
      },
      "execution_count": 49,
      "outputs": [
        {
          "output_type": "stream",
          "name": "stdout",
          "text": [
            "1\n",
            "2\n",
            "3\n",
            "4\n",
            "5\n",
            "6\n",
            "7\n",
            "8\n",
            "9\n"
          ]
        }
      ]
    },
    {
      "cell_type": "code",
      "source": [
        "c=1 ## Prints out 0,1,2,3,4,5,6,7,8,9\n",
        "while True:\n",
        "  print(c)\n",
        "  c=c+1\n",
        "  if c>=10:\n",
        "    break"
      ],
      "metadata": {
        "colab": {
          "base_uri": "https://localhost:8080/"
        },
        "id": "8jXC2GvrpOXF",
        "outputId": "e88d2365-2d75-4204-8be4-ed0c995b7790"
      },
      "execution_count": 50,
      "outputs": [
        {
          "output_type": "stream",
          "name": "stdout",
          "text": [
            "1\n",
            "2\n",
            "3\n",
            "4\n",
            "5\n",
            "6\n",
            "7\n",
            "8\n",
            "9\n"
          ]
        }
      ]
    },
    {
      "cell_type": "markdown",
      "source": [
        "13. If you had a function named bacon() inside a module named spam, how would you call it after importing spam?\n",
        "\n",
        " ans) after importing spam, we call the fuction by spam.bacon()"
      ],
      "metadata": {
        "id": "U0vJw0rgpmCd"
      }
    }
  ]
}
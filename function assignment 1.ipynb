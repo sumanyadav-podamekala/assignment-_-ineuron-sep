{
 "cells": [
  {
   "cell_type": "markdown",
   "id": "d75878c1",
   "metadata": {},
   "source": [
    "live class and you have to send a solution at mail id - query@ineuron.ai\n",
    "submit your git link to mail "
   ]
  },
  {
   "cell_type": "markdown",
   "id": "e2aa3667",
   "metadata": {},
   "source": [
    "1. write a function which will try to find out len of a string without using an inbuilt len function "
   ]
  },
  {
   "cell_type": "code",
   "execution_count": 51,
   "id": "cdcde3ea",
   "metadata": {},
   "outputs": [],
   "source": [
    "def length(l):\n",
    "    \"\"\" function the give length of string or list\"\"\"\n",
    "    m=0\n",
    "    for i in l:\n",
    "        m=m+1\n",
    "    return m"
   ]
  },
  {
   "cell_type": "code",
   "execution_count": 52,
   "id": "5cc56913",
   "metadata": {},
   "outputs": [],
   "source": [
    "l2=[\"fsdf\", \"fhjghsdf\", \"abc\", 456.56]"
   ]
  },
  {
   "cell_type": "code",
   "execution_count": 53,
   "id": "7afe102b",
   "metadata": {},
   "outputs": [
    {
     "data": {
      "text/plain": [
       "4"
      ]
     },
     "execution_count": 53,
     "metadata": {},
     "output_type": "execute_result"
    }
   ],
   "source": [
    "length(l2)"
   ]
  },
  {
   "cell_type": "markdown",
   "id": "cbc52ee6",
   "metadata": {},
   "source": [
    "2. write a function which  will be able to print an index of list element without using an index function"
   ]
  },
  {
   "cell_type": "code",
   "execution_count": 54,
   "id": "d016ea15",
   "metadata": {},
   "outputs": [],
   "source": [
    "def indexoflist(l):\n",
    "    \"\"\" function the o print an index of list element \"\"\"\n",
    "    m=-1\n",
    "    for i in l:\n",
    "        m=m+1\n",
    "        print(f\"{i}, index of {i}: {m}\")"
   ]
  },
  {
   "cell_type": "code",
   "execution_count": 55,
   "id": "012f6db7",
   "metadata": {},
   "outputs": [
    {
     "name": "stdout",
     "output_type": "stream",
     "text": [
      "fsdf, index of fsdf: 0\n",
      "fhjghsdf, index of fhjghsdf: 1\n",
      "abc, index of abc: 2\n",
      "456.56, index of 456.56: 3\n"
     ]
    }
   ],
   "source": [
    "indexoflist(l2)"
   ]
  },
  {
   "cell_type": "markdown",
   "id": "3dcecde5",
   "metadata": {},
   "source": [
    "3. write a function which will be able to print an ip address of your system"
   ]
  },
  {
   "cell_type": "code",
   "execution_count": 62,
   "id": "197aacf9",
   "metadata": {},
   "outputs": [],
   "source": [
    "def printipaddress():  \n",
    "    import socket\n",
    "    systemname = socket.gethostname()\n",
    "    systemipaddress = socket.gethostbyname(systemname)\n",
    "    print(\"System Name :\" , systemname)\n",
    "    print(\"System IP Address:\" , systemipaddress)"
   ]
  },
  {
   "cell_type": "code",
   "execution_count": 63,
   "id": "c3f41857",
   "metadata": {},
   "outputs": [
    {
     "name": "stdout",
     "output_type": "stream",
     "text": [
      "System Name : suman\n",
      "System IP Address: 192.168.1.6\n"
     ]
    }
   ],
   "source": [
    "printipaddress()"
   ]
  },
  {
   "cell_type": "markdown",
   "id": "e4a0da57",
   "metadata": {},
   "source": [
    "4. write a function which will shutdown your system"
   ]
  },
  {
   "cell_type": "code",
   "execution_count": 64,
   "id": "666fbed4",
   "metadata": {},
   "outputs": [],
   "source": [
    "def shutdown():\n",
    "    import os\n",
    "    os.system(\"shutdown /s\")\n",
    "    "
   ]
  },
  {
   "cell_type": "code",
   "execution_count": null,
   "id": "d84d2b05",
   "metadata": {},
   "outputs": [],
   "source": [
    "shutdown()"
   ]
  },
  {
   "cell_type": "code",
   "execution_count": 68,
   "id": "d7e1e88e",
   "metadata": {},
   "outputs": [],
   "source": [
    "def shutdown2(): \n",
    "    import os\n",
    "    os.system(\"shutdown /s /t 0\")"
   ]
  },
  {
   "cell_type": "code",
   "execution_count": null,
   "id": "a0a360cb",
   "metadata": {},
   "outputs": [],
   "source": [
    "shutdown2()"
   ]
  },
  {
   "cell_type": "markdown",
   "id": "487f205c",
   "metadata": {},
   "source": [
    "5. write a function which will take input as a list with any kind of numeric value and give an out as a multiplication of \n",
    "all the numeric data l = [3.5, 6.56, 4,5,\"sudh\" , \"ineuron\" , 'fsda bootcamp 2.0']"
   ]
  },
  {
   "cell_type": "code",
   "execution_count": 65,
   "id": "03c04e3f",
   "metadata": {},
   "outputs": [],
   "source": [
    "def multiply(l):\n",
    "    \"\"\"function that give multiplication of all the numeric element in a list\"\"\"\n",
    "    m=1\n",
    "    for i in l:\n",
    "        if type(i)==int or type(i)==float:\n",
    "            m=m*i\n",
    "    return m"
   ]
  },
  {
   "cell_type": "code",
   "execution_count": 66,
   "id": "403dbd48",
   "metadata": {},
   "outputs": [],
   "source": [
    "l = [3.5, 6.56, 4,5,\"sudh\" , \"ineuron\" , 'fsda bootcamp 2.0']"
   ]
  },
  {
   "cell_type": "code",
   "execution_count": 67,
   "id": "c4e48157",
   "metadata": {},
   "outputs": [
    {
     "data": {
      "text/plain": [
       "459.19999999999993"
      ]
     },
     "execution_count": 67,
     "metadata": {},
     "output_type": "execute_result"
    }
   ],
   "source": [
    "multiply(l)"
   ]
  },
  {
   "cell_type": "markdown",
   "id": "fa9be610",
   "metadata": {},
   "source": [
    "6. write a function which will be able to read all the mails "
   ]
  },
  {
   "cell_type": "code",
   "execution_count": null,
   "id": "c4c758de",
   "metadata": {},
   "outputs": [],
   "source": []
  },
  {
   "cell_type": "markdown",
   "id": "7df4a7ff",
   "metadata": {},
   "source": [
    "7 . write a function which will be able to send a mail to anyone "
   ]
  },
  {
   "cell_type": "code",
   "execution_count": null,
   "id": "0e02f838",
   "metadata": {},
   "outputs": [],
   "source": []
  },
  {
   "cell_type": "markdown",
   "id": "2d514cd3",
   "metadata": {},
   "source": [
    "8. write a function which will be able to read a doc/word file from your system \n"
   ]
  },
  {
   "cell_type": "code",
   "execution_count": 47,
   "id": "e19c9b46",
   "metadata": {},
   "outputs": [],
   "source": [
    "def readwordfile():\n",
    "    \"\"\"function which will be able to read a doc/word file from your system \"\"\"\n",
    "    import docx\n",
    "    import os\n",
    "    filepath= input(\" enter the file path:\")\n",
    "    os.chdir(filepath)\n",
    "    filename=input(\"enter the filename: \")\n",
    "    doc= docx.Document(filename)\n",
    "    text=[]\n",
    "    for i in doc.paragraphs:\n",
    "        text.append(i.text)\n",
    "    return '\\n' .join(text)\n",
    "\n",
    "    "
   ]
  },
  {
   "cell_type": "code",
   "execution_count": 50,
   "id": "461c22c7",
   "metadata": {},
   "outputs": [
    {
     "name": "stdout",
     "output_type": "stream",
     "text": [
      " enter the file path:G:\\\\files\n",
      "enter the filename: file2.docx\n",
      "Hi this my test word file My first doc fileS\n"
     ]
    }
   ],
   "source": [
    "print(readwordfile())"
   ]
  },
  {
   "cell_type": "code",
   "execution_count": null,
   "id": "6f71786b",
   "metadata": {},
   "outputs": [],
   "source": []
  }
 ],
 "metadata": {
  "kernelspec": {
   "display_name": "Python 3 (ipykernel)",
   "language": "python",
   "name": "python3"
  },
  "language_info": {
   "codemirror_mode": {
    "name": "ipython",
    "version": 3
   },
   "file_extension": ".py",
   "mimetype": "text/x-python",
   "name": "python",
   "nbconvert_exporter": "python",
   "pygments_lexer": "ipython3",
   "version": "3.9.12"
  }
 },
 "nbformat": 4,
 "nbformat_minor": 5
}

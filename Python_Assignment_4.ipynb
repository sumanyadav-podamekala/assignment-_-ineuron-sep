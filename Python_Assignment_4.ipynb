{
  "nbformat": 4,
  "nbformat_minor": 0,
  "metadata": {
    "colab": {
      "provenance": [],
      "collapsed_sections": []
    },
    "kernelspec": {
      "name": "python3",
      "display_name": "Python 3"
    },
    "language_info": {
      "name": "python"
    }
  },
  "cells": [
    {
      "cell_type": "markdown",
      "source": [
        "1. What exactly is []?\n",
        "\n",
        "[]- it is a list which contains zero elements."
      ],
      "metadata": {
        "id": "lcwMoggyYwXl"
      }
    },
    {
      "cell_type": "code",
      "source": [
        "n=[] # n is a list with zero element\n",
        "k=[1,2,3,4]\n",
        "for i in k:\n",
        "  n.append(i+1)\n",
        "n"
      ],
      "metadata": {
        "colab": {
          "base_uri": "https://localhost:8080/"
        },
        "id": "pMYc6T5FZI89",
        "outputId": "3212f171-03ab-4ca9-9b59-3b215f3c2961"
      },
      "execution_count": 3,
      "outputs": [
        {
          "output_type": "execute_result",
          "data": {
            "text/plain": [
              "[2, 3, 4, 5]"
            ]
          },
          "metadata": {},
          "execution_count": 3
        }
      ]
    },
    {
      "cell_type": "markdown",
      "source": [
        "2. In a list of values stored in a variable called spam, how would you assign the value 'hello' as the third value? (Assume [2, 4, 6, 8, 10] are in spam.)"
      ],
      "metadata": {
        "id": "22qWOn3tZt0M"
      }
    },
    {
      "cell_type": "code",
      "source": [
        "spam=[2, 4, 6, 8, 10]\n",
        "spam[2]=\"hello\" #assigm a value to second index of spam\n",
        "spam"
      ],
      "metadata": {
        "colab": {
          "base_uri": "https://localhost:8080/"
        },
        "id": "yjQDlIqFaEcN",
        "outputId": "633db510-6041-4a96-d211-5b2dbd1ce277"
      },
      "execution_count": 4,
      "outputs": [
        {
          "output_type": "execute_result",
          "data": {
            "text/plain": [
              "[2, 4, 'hello', 8, 10]"
            ]
          },
          "metadata": {},
          "execution_count": 4
        }
      ]
    },
    {
      "cell_type": "code",
      "source": [
        "## Let's pretend the spam includes the list ['a', 'b', 'c', 'd'] for the next three queries."
      ],
      "metadata": {
        "id": "z-F5Axb6aZhY"
      },
      "execution_count": null,
      "outputs": []
    },
    {
      "cell_type": "code",
      "source": [
        "spam=['a', 'b', 'c', 'd']"
      ],
      "metadata": {
        "id": "mFCAUOD-a0BD"
      },
      "execution_count": 5,
      "outputs": []
    },
    {
      "cell_type": "markdown",
      "source": [
        "3. What is the value of spam[int(int('3' * 2) / 11)]?"
      ],
      "metadata": {
        "id": "msy3q-D0a79E"
      }
    },
    {
      "cell_type": "code",
      "source": [
        "spam[int(int('3' * 2) / 11)]"
      ],
      "metadata": {
        "colab": {
          "base_uri": "https://localhost:8080/",
          "height": 36
        },
        "id": "LfdjKUd4bHIr",
        "outputId": "51192c6c-f4d2-4795-ed82-28c8b183f693"
      },
      "execution_count": 6,
      "outputs": [
        {
          "output_type": "execute_result",
          "data": {
            "text/plain": [
              "'d'"
            ],
            "application/vnd.google.colaboratory.intrinsic+json": {
              "type": "string"
            }
          },
          "metadata": {},
          "execution_count": 6
        }
      ]
    },
    {
      "cell_type": "markdown",
      "source": [
        "4. What is the value of spam[-1]?\n",
        "\n",
        "'d\""
      ],
      "metadata": {
        "id": "eNuF8R3Ea8AT"
      }
    },
    {
      "cell_type": "code",
      "source": [
        "spam[-1]"
      ],
      "metadata": {
        "colab": {
          "base_uri": "https://localhost:8080/",
          "height": 36
        },
        "id": "A7AvhpisbcAk",
        "outputId": "3f73489b-e3dc-42e5-aa51-3224f766959f"
      },
      "execution_count": 7,
      "outputs": [
        {
          "output_type": "execute_result",
          "data": {
            "text/plain": [
              "'d'"
            ],
            "application/vnd.google.colaboratory.intrinsic+json": {
              "type": "string"
            }
          },
          "metadata": {},
          "execution_count": 7
        }
      ]
    },
    {
      "cell_type": "markdown",
      "source": [
        "5. What is the value of spam[:2]?\n",
        "\n",
        "['a', 'b']"
      ],
      "metadata": {
        "id": "6j7bMMY6a8EJ"
      }
    },
    {
      "cell_type": "code",
      "source": [
        "spam[:2] # spam[0:2:1] its is same as spam[:2]"
      ],
      "metadata": {
        "colab": {
          "base_uri": "https://localhost:8080/"
        },
        "id": "Fj-Mrm_abyFe",
        "outputId": "c4aa7a22-1851-4c39-e7c6-fad899427319"
      },
      "execution_count": 8,
      "outputs": [
        {
          "output_type": "execute_result",
          "data": {
            "text/plain": [
              "['a', 'b']"
            ]
          },
          "metadata": {},
          "execution_count": 8
        }
      ]
    },
    {
      "cell_type": "code",
      "source": [
        "spam[0:2:1]"
      ],
      "metadata": {
        "colab": {
          "base_uri": "https://localhost:8080/"
        },
        "id": "jLJaJhKQb0Pr",
        "outputId": "d4af8fa1-b713-4fb5-e049-96cce7a4bc0d"
      },
      "execution_count": 11,
      "outputs": [
        {
          "output_type": "execute_result",
          "data": {
            "text/plain": [
              "['a', 'b']"
            ]
          },
          "metadata": {},
          "execution_count": 11
        }
      ]
    },
    {
      "cell_type": "markdown",
      "source": [
        "Let's pretend bacon has the list [3.14, 'cat,' 11, 'cat,' True] for the next three questions."
      ],
      "metadata": {
        "id": "S7wfLOu5ceAP"
      }
    },
    {
      "cell_type": "code",
      "source": [
        "bacon = [3.14, 'cat', 11, 'cat', True]"
      ],
      "metadata": {
        "id": "WAJK4NwmcCIG"
      },
      "execution_count": 69,
      "outputs": []
    },
    {
      "cell_type": "markdown",
      "source": [
        "6. What is the value of bacon.index('cat')?\n",
        "\n",
        "1"
      ],
      "metadata": {
        "id": "VEFN1Omickiy"
      }
    },
    {
      "cell_type": "code",
      "source": [
        "bacon.index('cat')"
      ],
      "metadata": {
        "colab": {
          "base_uri": "https://localhost:8080/"
        },
        "id": "9RB4yQKMcppj",
        "outputId": "d1ea65c7-e52c-4eef-de77-85bf2030576d"
      },
      "execution_count": 13,
      "outputs": [
        {
          "output_type": "execute_result",
          "data": {
            "text/plain": [
              "1"
            ]
          },
          "metadata": {},
          "execution_count": 13
        }
      ]
    },
    {
      "cell_type": "markdown",
      "source": [
        "7. How does bacon.append(99) change the look of the list value in bacon?\n",
        "\n",
        "\n",
        "bacon.append(99)- add a element  99 at end of the list bacon\n",
        "\n",
        "value in bacon\n",
        "\n",
        "[3.14, 'cat', 11, 'cat', True, 99]\n"
      ],
      "metadata": {
        "id": "uyRnwg9pckl7"
      }
    },
    {
      "cell_type": "code",
      "source": [
        " bacon.append(99)\n",
        " bacon"
      ],
      "metadata": {
        "colab": {
          "base_uri": "https://localhost:8080/"
        },
        "id": "Tb0E8ps5c2ML",
        "outputId": "fa08cd19-1ba1-48d6-d5a8-3ecbd3e43b94"
      },
      "execution_count": 68,
      "outputs": [
        {
          "output_type": "execute_result",
          "data": {
            "text/plain": [
              "[3.14, 'cat', 11, 'cat', True, 99]"
            ]
          },
          "metadata": {},
          "execution_count": 68
        }
      ]
    },
    {
      "cell_type": "markdown",
      "source": [
        "8. How does bacon.remove('cat') change the look of the list in bacon?\n",
        "\n",
        "after bacon.remove('cat') - remove the \"cat\" elements  that comes first in the list\n",
        "\n",
        "bacon\n",
        "\n",
        "[3.14, 11, True, 99]"
      ],
      "metadata": {
        "id": "tz9cGyvIckzj"
      }
    },
    {
      "cell_type": "code",
      "source": [
        "bacon.remove('cat')\n",
        "bacon\n"
      ],
      "metadata": {
        "colab": {
          "base_uri": "https://localhost:8080/"
        },
        "id": "a-B52dFVcjLX",
        "outputId": "02123700-61b0-4454-b6b6-438ade67bccb"
      },
      "execution_count": 70,
      "outputs": [
        {
          "output_type": "execute_result",
          "data": {
            "text/plain": [
              "[3.14, 11, 'cat', True]"
            ]
          },
          "metadata": {},
          "execution_count": 70
        }
      ]
    },
    {
      "cell_type": "markdown",
      "source": [
        "9. What are the list concatenation and list replication operators?\n",
        "\n",
        "The operator for list concatenation is +, while the operator for replication is *."
      ],
      "metadata": {
        "id": "_HZafswSd6Sl"
      }
    },
    {
      "cell_type": "code",
      "source": [
        "l=[1,2,3]\n",
        "l1=[4,5,6]\n",
        "l2=l1+l\n",
        "l2"
      ],
      "metadata": {
        "colab": {
          "base_uri": "https://localhost:8080/"
        },
        "id": "FVjTX-vJdXpa",
        "outputId": "d908c96c-2925-4ba4-d8aa-0d9461dc0efb"
      },
      "execution_count": 20,
      "outputs": [
        {
          "output_type": "execute_result",
          "data": {
            "text/plain": [
              "[4, 5, 6, 1, 2, 3]"
            ]
          },
          "metadata": {},
          "execution_count": 20
        }
      ]
    },
    {
      "cell_type": "code",
      "source": [
        "l3=l2*2\n",
        "l3"
      ],
      "metadata": {
        "colab": {
          "base_uri": "https://localhost:8080/"
        },
        "id": "rNVusxyrlHR1",
        "outputId": "ef12c316-1aa9-4f85-e466-edd06bbeecfc"
      },
      "execution_count": 22,
      "outputs": [
        {
          "output_type": "execute_result",
          "data": {
            "text/plain": [
              "[4, 5, 6, 1, 2, 3, 4, 5, 6, 1, 2, 3]"
            ]
          },
          "metadata": {},
          "execution_count": 22
        }
      ]
    },
    {
      "cell_type": "markdown",
      "source": [
        "10. What is difference between the list methods append() and insert()?\n",
        "\n",
        "list method append()  allows us to add the element  in the end of the list\n",
        "\n",
        "insert()- insert function allows us to add a specific element at a specified index of the list\n",
        "\n"
      ],
      "metadata": {
        "id": "q0zDeip3lvRC"
      }
    },
    {
      "cell_type": "code",
      "source": [
        "l=[1,2,3]\n",
        "l1=[4,5,6]\n",
        "l.append(l1)\n",
        "l"
      ],
      "metadata": {
        "colab": {
          "base_uri": "https://localhost:8080/"
        },
        "id": "yRXZzH8ylNhz",
        "outputId": "5e59ff96-9832-44bd-dc33-4e523f98d114"
      },
      "execution_count": 24,
      "outputs": [
        {
          "output_type": "execute_result",
          "data": {
            "text/plain": [
              "[1, 2, 3, [4, 5, 6]]"
            ]
          },
          "metadata": {},
          "execution_count": 24
        }
      ]
    },
    {
      "cell_type": "code",
      "source": [
        "l=[1,2,3]\n",
        "l1=[4,5,6]\n",
        "l.insert(1, l1)\n",
        "l"
      ],
      "metadata": {
        "colab": {
          "base_uri": "https://localhost:8080/"
        },
        "id": "TKG9FyYlnApH",
        "outputId": "135b343a-8065-4c42-df3a-368ee5d2cda5"
      },
      "execution_count": 26,
      "outputs": [
        {
          "output_type": "execute_result",
          "data": {
            "text/plain": [
              "[1, [4, 5, 6], 2, 3]"
            ]
          },
          "metadata": {},
          "execution_count": 26
        }
      ]
    },
    {
      "cell_type": "markdown",
      "source": [
        "11. What are the two methods for removing items from a list?\n",
        "\n",
        "The methods are \n",
        "\n",
        "remove()-\tIt helps to remove the very first given element matching from the list.\n",
        "\n",
        "pop()\tmethod- removes an element from the list based on the given index.\n",
        "\n",
        "clear() method- will remove all the elements present in the list."
      ],
      "metadata": {
        "id": "R7LeAS1GnjSr"
      }
    },
    {
      "cell_type": "code",
      "source": [
        "l=[1,2,3,3,3]\n",
        "l.remove(3) #permanent change\n",
        "l\n"
      ],
      "metadata": {
        "colab": {
          "base_uri": "https://localhost:8080/"
        },
        "id": "lyHi_pK7nZ3D",
        "outputId": "0f4ebbe9-01b0-4b9f-ac61-1983c8bf5f83"
      },
      "execution_count": 28,
      "outputs": [
        {
          "output_type": "execute_result",
          "data": {
            "text/plain": [
              "[1, 2, 3, 3]"
            ]
          },
          "metadata": {},
          "execution_count": 28
        }
      ]
    },
    {
      "cell_type": "code",
      "source": [
        "l=[1,2,3,2,5]\n",
        "l.pop(2)\n",
        "l\n"
      ],
      "metadata": {
        "colab": {
          "base_uri": "https://localhost:8080/"
        },
        "id": "RKZAr42Oo2eL",
        "outputId": "71847f91-a0a6-4356-c7b7-287acfc5c61c"
      },
      "execution_count": 29,
      "outputs": [
        {
          "output_type": "execute_result",
          "data": {
            "text/plain": [
              "[1, 2, 2, 5]"
            ]
          },
          "metadata": {},
          "execution_count": 29
        }
      ]
    },
    {
      "cell_type": "code",
      "source": [
        "l=[1,2,3]\n",
        "l.clear()\n",
        "l"
      ],
      "metadata": {
        "colab": {
          "base_uri": "https://localhost:8080/"
        },
        "id": "49Dg9gDEo2qy",
        "outputId": "d52db890-870a-446c-8dc0-b0a0c9ee5d89"
      },
      "execution_count": 30,
      "outputs": [
        {
          "output_type": "execute_result",
          "data": {
            "text/plain": [
              "[]"
            ]
          },
          "metadata": {},
          "execution_count": 30
        }
      ]
    },
    {
      "cell_type": "code",
      "source": [
        "l=[1,2,3]\n",
        "del l[0]\n",
        "l"
      ],
      "metadata": {
        "colab": {
          "base_uri": "https://localhost:8080/"
        },
        "id": "-YCEaTjzpZnM",
        "outputId": "849313a3-1150-4bc2-8243-02c4498bd667"
      },
      "execution_count": 31,
      "outputs": [
        {
          "output_type": "execute_result",
          "data": {
            "text/plain": [
              "[2, 3]"
            ]
          },
          "metadata": {},
          "execution_count": 31
        }
      ]
    },
    {
      "cell_type": "markdown",
      "source": [
        "12. Describe how list values and string values are identical.\n",
        "\n",
        "we can do slicing , concatenation and index operation in list and string"
      ],
      "metadata": {
        "id": "dh-KqKjDqBGY"
      }
    },
    {
      "cell_type": "markdown",
      "source": [
        "13. What's the difference between tuples and lists?\n",
        "\n",
        "Main difference mutability\n",
        "\n",
        "list are mutable they can have values added, removed, or changed.while lists use the square brackets, [ ].\n",
        "\n",
        "Tuples are immutable they cannot be changed at all. Also, tuples are written using parentheses, (), "
      ],
      "metadata": {
        "id": "YfUJ4E2qrgdE"
      }
    },
    {
      "cell_type": "markdown",
      "source": [
        "14. How do you type a tuple value that only contains the integer 42?"
      ],
      "metadata": {
        "id": "xWMgJwg_s5Y9"
      }
    },
    {
      "cell_type": "code",
      "source": [
        "t=(42)\n",
        "t"
      ],
      "metadata": {
        "colab": {
          "base_uri": "https://localhost:8080/"
        },
        "id": "jrKIwU8Ep_CH",
        "outputId": "5c4a4c19-477b-4225-d390-6f63a1122beb"
      },
      "execution_count": 32,
      "outputs": [
        {
          "output_type": "execute_result",
          "data": {
            "text/plain": [
              "42"
            ]
          },
          "metadata": {},
          "execution_count": 32
        }
      ]
    },
    {
      "cell_type": "markdown",
      "source": [
        "15. How do you get a list value's tuple form? How do you get a tuple value's list form?"
      ],
      "metadata": {
        "id": "SkGSkTIsuaZL"
      }
    },
    {
      "cell_type": "code",
      "source": [
        "l=[1,2,3]\n",
        "tupleform=tuple(l)\n",
        "tupleform"
      ],
      "metadata": {
        "colab": {
          "base_uri": "https://localhost:8080/"
        },
        "id": "bV3-_3-fuxeE",
        "outputId": "d215280e-165f-47ad-ce9f-2f28bb11b6eb"
      },
      "execution_count": 34,
      "outputs": [
        {
          "output_type": "execute_result",
          "data": {
            "text/plain": [
              "(1, 2, 3)"
            ]
          },
          "metadata": {},
          "execution_count": 34
        }
      ]
    },
    {
      "cell_type": "code",
      "source": [
        "t=(1,2)\n",
        "listform= list(t)\n",
        "listform"
      ],
      "metadata": {
        "colab": {
          "base_uri": "https://localhost:8080/"
        },
        "id": "RhASflMus4yW",
        "outputId": "4614e620-dd3d-4b83-88f6-aaec40f5d7ab"
      },
      "execution_count": 33,
      "outputs": [
        {
          "output_type": "execute_result",
          "data": {
            "text/plain": [
              "[1, 2]"
            ]
          },
          "metadata": {},
          "execution_count": 33
        }
      ]
    },
    {
      "cell_type": "markdown",
      "source": [
        "16. Variables that \"contain\" list values are not necessarily lists themselves. Instead, what do they contain?\n",
        "\n",
        "They contain references to a specific list values\n",
        "\n"
      ],
      "metadata": {
        "id": "2g1aEcwOvFT6"
      }
    },
    {
      "cell_type": "code",
      "source": [
        "k=[1,2,3,4]\n",
        "t=(1,2,k[1:2],3)\n",
        "t  #t contain references to list values of list k"
      ],
      "metadata": {
        "colab": {
          "base_uri": "https://localhost:8080/"
        },
        "id": "14HLiUesvuCD",
        "outputId": "b84206a2-2eda-4ff6-9efe-3539836d5b3a"
      },
      "execution_count": 39,
      "outputs": [
        {
          "output_type": "execute_result",
          "data": {
            "text/plain": [
              "(1, 2, [2], 3)"
            ]
          },
          "metadata": {},
          "execution_count": 39
        }
      ]
    },
    {
      "cell_type": "markdown",
      "source": [
        "17. How do you distinguish between copy.copy() and copy.deepcopy()?\n",
        "\n",
        "Main difference is that that both have the same value but have different IDs.\n",
        "\n",
        "**copy.copy(x)**\n",
        "\n",
        "Return a shallow copy of x.\n",
        "\n",
        "A shallow copy constructs a new compound object and then (to the extent possible) inserts references into it to the objects found in the original.  **ids is different to original**\n",
        "\n",
        "**copy.deepcopy(x)**\n",
        "Return a deep copy of x.\n",
        "\n",
        "A deep copy constructs a new compound object and then, recursively, inserts copies into it of the objects found in the original. **id is same as origional**\n",
        "\n",
        "the difference between shallow and deep copying is only relevant for compound objects (objects that contain other objects, like lists or class instances):\n",
        "\n"
      ],
      "metadata": {
        "id": "NWf1v5prw-1e"
      }
    },
    {
      "cell_type": "code",
      "source": [
        "import copy\n",
        "lst=[1,2,3,4,5]\n",
        "b=copy.copy(lst) \n",
        "a=copy.deepcopy(lst)"
      ],
      "metadata": {
        "id": "fvLvTMg0v1GE"
      },
      "execution_count": 58,
      "outputs": []
    },
    {
      "cell_type": "markdown",
      "source": [],
      "metadata": {
        "id": "aTlIuPl70z5u"
      }
    },
    {
      "cell_type": "code",
      "source": [
        "print(b)\n",
        "print(lst)\n",
        "print(id(b), id(lst))\n",
        "lst is b ##See here id of b and id of lst is not same so its called shallow copy and even boolean answer is false although output looks same.\n"
      ],
      "metadata": {
        "colab": {
          "base_uri": "https://localhost:8080/"
        },
        "id": "lqX4JBMOy7sj",
        "outputId": "3d4c70dc-d2ac-4584-bc97-48888a097b6f"
      },
      "execution_count": 54,
      "outputs": [
        {
          "output_type": "stream",
          "name": "stdout",
          "text": [
            "[1, 2, 3, 4, 5]\n",
            "[1, 2, 3, 4, 5]\n",
            "140118158924448 140118159500304\n"
          ]
        },
        {
          "output_type": "execute_result",
          "data": {
            "text/plain": [
              "False"
            ]
          },
          "metadata": {},
          "execution_count": 54
        }
      ]
    },
    {
      "cell_type": "code",
      "source": [
        "lst=[1,2,3,4,5]\n",
        "a=lst\n",
        "print(lst)\n",
        "print(a)\n",
        "print(id(a), id(lst))\n",
        "lst is a #See here id of a and id of lst is same so its called deep copy and even boolean answer is true"
      ],
      "metadata": {
        "colab": {
          "base_uri": "https://localhost:8080/"
        },
        "id": "lAamaZoczSMD",
        "outputId": "43a53599-0055-4f15-baa3-e70308d4def0"
      },
      "execution_count": 55,
      "outputs": [
        {
          "output_type": "stream",
          "name": "stdout",
          "text": [
            "[1, 2, 3, 4, 5]\n",
            "[1, 2, 3, 4, 5]\n",
            "140118158947664 140118158947664\n"
          ]
        },
        {
          "output_type": "execute_result",
          "data": {
            "text/plain": [
              "True"
            ]
          },
          "metadata": {},
          "execution_count": 55
        }
      ]
    },
    {
      "cell_type": "code",
      "source": [],
      "metadata": {
        "id": "l2FCV5Lc3278"
      },
      "execution_count": null,
      "outputs": []
    }
  ]
}
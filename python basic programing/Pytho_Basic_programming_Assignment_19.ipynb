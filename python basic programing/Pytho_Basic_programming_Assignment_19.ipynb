{
  "nbformat": 4,
  "nbformat_minor": 0,
  "metadata": {
    "colab": {
      "provenance": []
    },
    "kernelspec": {
      "name": "python3",
      "display_name": "Python 3"
    },
    "language_info": {
      "name": "python"
    }
  },
  "cells": [
    {
      "cell_type": "markdown",
      "source": [
        "**Question1**\n",
        "\n",
        "**Create a function that takes a string and returns a string in which each character is repeated once.**  \n",
        "Examples    \n",
        "double_char(&quot;String&quot;) ➞ &quot;SSttrriinngg&quot;   \n",
        "double_char(&quot;Hello World!&quot;) ➞ &quot;HHeelllloo WWoorrlldd!!&quot;   \n",
        "double_char(&quot;1234!_ &quot;) ➞ &quot;11223344!!__ &quot;"
      ],
      "metadata": {
        "id": "w6v1fQPaNixU"
      }
    },
    {
      "cell_type": "code",
      "source": [
        "def double_char(a):\n",
        "  k=''\n",
        "  for i in a:\n",
        "    k=k+i*2\n",
        "  return k"
      ],
      "metadata": {
        "id": "EnCnNuPlOBa9"
      },
      "execution_count": 19,
      "outputs": []
    },
    {
      "cell_type": "code",
      "execution_count": 20,
      "metadata": {
        "colab": {
          "base_uri": "https://localhost:8080/",
          "height": 35
        },
        "id": "liOk6kRBNglz",
        "outputId": "0bad889e-a2bc-4003-99db-681a3c2ade99"
      },
      "outputs": [
        {
          "output_type": "execute_result",
          "data": {
            "text/plain": [
              "'SSttrriinngg'"
            ],
            "application/vnd.google.colaboratory.intrinsic+json": {
              "type": "string"
            }
          },
          "metadata": {},
          "execution_count": 20
        }
      ],
      "source": [
        "double_char(\"String\")"
      ]
    },
    {
      "cell_type": "code",
      "source": [
        "double_char(\"Hello World!\") "
      ],
      "metadata": {
        "colab": {
          "base_uri": "https://localhost:8080/",
          "height": 35
        },
        "id": "cHLBgfE-PL8c",
        "outputId": "d73cd988-53ed-4a25-9c23-1de2d9c6f18d"
      },
      "execution_count": 21,
      "outputs": [
        {
          "output_type": "execute_result",
          "data": {
            "text/plain": [
              "'HHeelllloo  WWoorrlldd!!'"
            ],
            "application/vnd.google.colaboratory.intrinsic+json": {
              "type": "string"
            }
          },
          "metadata": {},
          "execution_count": 21
        }
      ]
    },
    {
      "cell_type": "code",
      "source": [
        "double_char(\"1234!_ \")"
      ],
      "metadata": {
        "colab": {
          "base_uri": "https://localhost:8080/",
          "height": 35
        },
        "id": "fU1cbJUWR3-r",
        "outputId": "4ad602df-fa96-4c96-b1f3-ef73396930c5"
      },
      "execution_count": 22,
      "outputs": [
        {
          "output_type": "execute_result",
          "data": {
            "text/plain": [
              "'11223344!!__  '"
            ],
            "application/vnd.google.colaboratory.intrinsic+json": {
              "type": "string"
            }
          },
          "metadata": {},
          "execution_count": 22
        }
      ]
    },
    {
      "cell_type": "markdown",
      "source": [
        "**Question2**  \n",
        "**Create a function that reverses a boolean value and returns the string &quot;boolean expected&quot; if another variable type is given.**     \n",
        "Examples     \n",
        "reverse(True) ➞ False    \n",
        "reverse(False) ➞ True     \n",
        "reverse(0) ➞ &quot;boolean expected&quot;     \n",
        "reverse(None) ➞ &quot;boolean expected&quot;"
      ],
      "metadata": {
        "id": "WKo_OBVKSI-h"
      }
    },
    {
      "cell_type": "code",
      "source": [
        "def reverse(a):\n",
        "  if type(a)==bool:\n",
        "    return   not a\n",
        "  else:\n",
        "    return \"boolean expected\""
      ],
      "metadata": {
        "id": "E--rkIW2SYFS"
      },
      "execution_count": 23,
      "outputs": []
    },
    {
      "cell_type": "code",
      "source": [
        "reverse(True) "
      ],
      "metadata": {
        "colab": {
          "base_uri": "https://localhost:8080/"
        },
        "id": "d51nd2LKS6j6",
        "outputId": "3368d740-dfd4-477a-981f-7ccdfbaa9f45"
      },
      "execution_count": 24,
      "outputs": [
        {
          "output_type": "execute_result",
          "data": {
            "text/plain": [
              "False"
            ]
          },
          "metadata": {},
          "execution_count": 24
        }
      ]
    },
    {
      "cell_type": "code",
      "source": [
        "reverse(False)"
      ],
      "metadata": {
        "colab": {
          "base_uri": "https://localhost:8080/"
        },
        "id": "JzRCCN_RS-IL",
        "outputId": "2b567da5-0d73-4086-d9bc-ef483ea55b0d"
      },
      "execution_count": 25,
      "outputs": [
        {
          "output_type": "execute_result",
          "data": {
            "text/plain": [
              "True"
            ]
          },
          "metadata": {},
          "execution_count": 25
        }
      ]
    },
    {
      "cell_type": "code",
      "source": [
        "reverse(0)"
      ],
      "metadata": {
        "colab": {
          "base_uri": "https://localhost:8080/",
          "height": 35
        },
        "id": "ntsd5AhAS-LM",
        "outputId": "602268fc-ef3c-45e8-dcec-5105ecb5a41d"
      },
      "execution_count": 26,
      "outputs": [
        {
          "output_type": "execute_result",
          "data": {
            "text/plain": [
              "'boolean expected'"
            ],
            "application/vnd.google.colaboratory.intrinsic+json": {
              "type": "string"
            }
          },
          "metadata": {},
          "execution_count": 26
        }
      ]
    },
    {
      "cell_type": "code",
      "source": [
        "reverse(None)"
      ],
      "metadata": {
        "colab": {
          "base_uri": "https://localhost:8080/",
          "height": 35
        },
        "id": "-AddCDQcTD1K",
        "outputId": "bba3aee1-b7af-4d9b-9c07-273ed492b3f6"
      },
      "execution_count": 27,
      "outputs": [
        {
          "output_type": "execute_result",
          "data": {
            "text/plain": [
              "'boolean expected'"
            ],
            "application/vnd.google.colaboratory.intrinsic+json": {
              "type": "string"
            }
          },
          "metadata": {},
          "execution_count": 27
        }
      ]
    },
    {
      "cell_type": "markdown",
      "source": [
        "**Question3**\n",
        "**Create a function that returns the thickness (in meters) of a piece of paper after folding it n number of times. The paper starts off with a thickness of 0.5mm.**    \n",
        "Examples   \n",
        "num_layers(1) ➞ &quot;0.001m&quot;   \n",
        "Paper folded once is 1mm (equal to 0.001m)   \n",
        "num_layers(4) ➞ &quot;0.008m&quot;   \n",
        "Paper folded 4 times is 8mm (equal to 0.008m)   \n",
        "num_layers(21) ➞ &quot;1048.576m&quot;   \n",
        " Paper folded 21 times is 1048576mm (equal to 1048.576m)   "
      ],
      "metadata": {
        "id": "CtRhHjYSTIzx"
      }
    },
    {
      "cell_type": "code",
      "source": [
        "def  num_layers(a):\n",
        "  w=.5\n",
        "  for ele in range(a):\n",
        "    w*= 2\n",
        "  return w/1000\n",
        "      "
      ],
      "metadata": {
        "id": "6cjEKoJ-TZHp"
      },
      "execution_count": 56,
      "outputs": []
    },
    {
      "cell_type": "code",
      "source": [
        "num_layers(1)"
      ],
      "metadata": {
        "colab": {
          "base_uri": "https://localhost:8080/"
        },
        "id": "cpj35yWJUMrJ",
        "outputId": "83064650-363e-4572-a4c8-f15f8d346175"
      },
      "execution_count": 57,
      "outputs": [
        {
          "output_type": "execute_result",
          "data": {
            "text/plain": [
              "0.001"
            ]
          },
          "metadata": {},
          "execution_count": 57
        }
      ]
    },
    {
      "cell_type": "code",
      "source": [
        "num_layers(4)"
      ],
      "metadata": {
        "colab": {
          "base_uri": "https://localhost:8080/"
        },
        "id": "iIg0zIWbUYwB",
        "outputId": "d52f716a-3c0f-402c-8a2c-b5e478eb8edd"
      },
      "execution_count": 58,
      "outputs": [
        {
          "output_type": "execute_result",
          "data": {
            "text/plain": [
              "0.008"
            ]
          },
          "metadata": {},
          "execution_count": 58
        }
      ]
    },
    {
      "cell_type": "code",
      "source": [
        "num_layers(21) "
      ],
      "metadata": {
        "colab": {
          "base_uri": "https://localhost:8080/"
        },
        "id": "8Vwq30BgUnCZ",
        "outputId": "5afc277e-27d2-46fc-b5b4-d8834fc3db9e"
      },
      "execution_count": 59,
      "outputs": [
        {
          "output_type": "execute_result",
          "data": {
            "text/plain": [
              "1048.576"
            ]
          },
          "metadata": {},
          "execution_count": 59
        }
      ]
    },
    {
      "cell_type": "code",
      "source": [],
      "metadata": {
        "id": "-J7puXrJWR3S"
      },
      "execution_count": null,
      "outputs": []
    },
    {
      "cell_type": "markdown",
      "source": [
        "**Question4**   \n",
        "**Create a function that takes a single string as argument and returns an ordered list containing the indices of all capital letters in the string.**   \n",
        "Examples   \n",
        "index_of_caps(&quot;eDaBiT&quot;) ➞ [1, 3, 5]   \n",
        "index_of_caps(&quot;eQuINoX&quot;) ➞ [1, 3, 4, 6]   \n",
        "index_of_caps(&quot;determine&quot;) ➞ []   \n",
        "index_of_caps(&quot;STRIKE&quot;) ➞ [0, 1, 2, 3, 4, 5]   \n",
        "index_of_caps(&quot;sUn&quot;) ➞ [1]"
      ],
      "metadata": {
        "id": "GtcrYgctXoDl"
      }
    },
    {
      "cell_type": "code",
      "source": [
        "def index_of_caps(a):\n",
        "  return [a.index(i) for i in a if i.isupper()==True]"
      ],
      "metadata": {
        "id": "WBdz9uRYX45i"
      },
      "execution_count": 61,
      "outputs": []
    },
    {
      "cell_type": "code",
      "source": [
        "index_of_caps(\"eDaBiT\")"
      ],
      "metadata": {
        "colab": {
          "base_uri": "https://localhost:8080/"
        },
        "id": "3o_igZDdYXf3",
        "outputId": "9961727b-1c20-4c72-9092-4ed586af1642"
      },
      "execution_count": 62,
      "outputs": [
        {
          "output_type": "execute_result",
          "data": {
            "text/plain": [
              "[1, 3, 5]"
            ]
          },
          "metadata": {},
          "execution_count": 62
        }
      ]
    },
    {
      "cell_type": "code",
      "source": [
        "index_of_caps(\"eQuINoX\")"
      ],
      "metadata": {
        "colab": {
          "base_uri": "https://localhost:8080/"
        },
        "id": "8ThLZoLiYaCw",
        "outputId": "442d73d1-a99e-44cc-d614-93bea2e30802"
      },
      "execution_count": 63,
      "outputs": [
        {
          "output_type": "execute_result",
          "data": {
            "text/plain": [
              "[1, 3, 4, 6]"
            ]
          },
          "metadata": {},
          "execution_count": 63
        }
      ]
    },
    {
      "cell_type": "code",
      "source": [
        "index_of_caps(\"determine\")"
      ],
      "metadata": {
        "colab": {
          "base_uri": "https://localhost:8080/"
        },
        "id": "M-XetSwZYduI",
        "outputId": "e7997a00-ad46-4245-e998-3221ecd1418a"
      },
      "execution_count": 64,
      "outputs": [
        {
          "output_type": "execute_result",
          "data": {
            "text/plain": [
              "[]"
            ]
          },
          "metadata": {},
          "execution_count": 64
        }
      ]
    },
    {
      "cell_type": "code",
      "source": [
        "index_of_caps(\"STRIKE\")"
      ],
      "metadata": {
        "colab": {
          "base_uri": "https://localhost:8080/"
        },
        "id": "OO1rqLp-YhRI",
        "outputId": "f4fbbb2b-aaae-40e3-f856-81074009fe6b"
      },
      "execution_count": 65,
      "outputs": [
        {
          "output_type": "execute_result",
          "data": {
            "text/plain": [
              "[0, 1, 2, 3, 4, 5]"
            ]
          },
          "metadata": {},
          "execution_count": 65
        }
      ]
    },
    {
      "cell_type": "code",
      "source": [
        "index_of_caps(\"sUn\") "
      ],
      "metadata": {
        "colab": {
          "base_uri": "https://localhost:8080/"
        },
        "id": "djTrg9vqYkng",
        "outputId": "759010d7-5583-4c1c-c612-6994d63d24c4"
      },
      "execution_count": 66,
      "outputs": [
        {
          "output_type": "execute_result",
          "data": {
            "text/plain": [
              "[1]"
            ]
          },
          "metadata": {},
          "execution_count": 66
        }
      ]
    },
    {
      "cell_type": "markdown",
      "source": [
        "**Question5**\n",
        "**Using list comprehensions, create a function that finds all even numbers from 1 to the given number.**\n",
        "Examples   \n",
        "find_even_nums(8) ➞ [2, 4, 6, 8]   \n",
        "find_even_nums(4) ➞ [2, 4]   \n",
        "find_even_nums(2) ➞ [2]   "
      ],
      "metadata": {
        "id": "AILUXLjwYvrR"
      }
    },
    {
      "cell_type": "code",
      "source": [
        "def find_even_nums(a):\n",
        "  return [ i for i in range(1, a+1) if i%2==0]"
      ],
      "metadata": {
        "id": "nCuYU_EIZD7k"
      },
      "execution_count": 76,
      "outputs": []
    },
    {
      "cell_type": "code",
      "source": [
        "find_even_nums(8)"
      ],
      "metadata": {
        "colab": {
          "base_uri": "https://localhost:8080/"
        },
        "id": "AEGPwq_jZTuA",
        "outputId": "33195dec-3e1f-45cb-a6a9-7f3a91fce150"
      },
      "execution_count": 77,
      "outputs": [
        {
          "output_type": "execute_result",
          "data": {
            "text/plain": [
              "[2, 4, 6, 8]"
            ]
          },
          "metadata": {},
          "execution_count": 77
        }
      ]
    },
    {
      "cell_type": "code",
      "source": [
        "find_even_nums(4)"
      ],
      "metadata": {
        "colab": {
          "base_uri": "https://localhost:8080/"
        },
        "id": "JbAVL-x0ZTwq",
        "outputId": "0bcc4a55-5201-4ea5-d6d5-49535dd9e6b8"
      },
      "execution_count": 78,
      "outputs": [
        {
          "output_type": "execute_result",
          "data": {
            "text/plain": [
              "[2, 4]"
            ]
          },
          "metadata": {},
          "execution_count": 78
        }
      ]
    },
    {
      "cell_type": "code",
      "source": [
        "find_even_nums(2)"
      ],
      "metadata": {
        "colab": {
          "base_uri": "https://localhost:8080/"
        },
        "id": "IDWBg2zmZTzO",
        "outputId": "a4074730-8413-420c-9949-949656a753ab"
      },
      "execution_count": 79,
      "outputs": [
        {
          "output_type": "execute_result",
          "data": {
            "text/plain": [
              "[2]"
            ]
          },
          "metadata": {},
          "execution_count": 79
        }
      ]
    }
  ]
}
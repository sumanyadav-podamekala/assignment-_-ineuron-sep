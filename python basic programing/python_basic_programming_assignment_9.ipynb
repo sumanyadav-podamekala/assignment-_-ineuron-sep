{
  "nbformat": 4,
  "nbformat_minor": 0,
  "metadata": {
    "colab": {
      "provenance": []
    },
    "kernelspec": {
      "name": "python3",
      "display_name": "Python 3"
    },
    "language_info": {
      "name": "python"
    }
  },
  "cells": [
    {
      "cell_type": "markdown",
      "source": [
        "1. Write a Python program to check if the given number is a Disarium Number?\n"
      ],
      "metadata": {
        "id": "VlndplWM3a78"
      }
    },
    {
      "cell_type": "code",
      "source": [
        "a=int(input(\" enter the number \"))\n",
        "k=[(int(i))**((str(a).index(i))+1) for i in str(a)]\n",
        "m= sum(k)\n",
        "if m==a:\n",
        "  print( f\" {a} is a disarium number\")\n",
        "else:\n",
        "  print( f\" {a} is a  NOT disarium number\")"
      ],
      "metadata": {
        "colab": {
          "base_uri": "https://localhost:8080/"
        },
        "id": "V4oH_DeF9PSK",
        "outputId": "19c5ea6a-5846-456a-ac48-b70c2655bd34"
      },
      "execution_count": 38,
      "outputs": [
        {
          "output_type": "stream",
          "name": "stdout",
          "text": [
            " enter the number 175\n",
            " 175 is a disarium number\n"
          ]
        }
      ]
    },
    {
      "cell_type": "markdown",
      "source": [
        "2. Write a Python program to print all disarium numbers between 1 to 100?\n"
      ],
      "metadata": {
        "id": "wd4122NM3x0k"
      }
    },
    {
      "cell_type": "code",
      "source": [
        "def printDisariumNumbers(a,b):\n",
        "    output_num = []\n",
        "    for i in range(a,b+1):\n",
        "        sum = 0\n",
        "        for item in range(len(str(i))):\n",
        "            sum = sum + int(str(i)[item])**(item+1)\n",
        "        if sum == i:\n",
        "            output_num.append(i)\n",
        "    return output_num"
      ],
      "metadata": {
        "id": "PF6NXP1b-XjC"
      },
      "execution_count": 49,
      "outputs": []
    },
    {
      "cell_type": "code",
      "source": [
        "printDisariumNumbers(1,100)\n",
        "    "
      ],
      "metadata": {
        "colab": {
          "base_uri": "https://localhost:8080/"
        },
        "id": "9355iKVt-ciZ",
        "outputId": "39b69bbd-b3fd-44db-94bc-a61889a6ac05"
      },
      "execution_count": 50,
      "outputs": [
        {
          "output_type": "execute_result",
          "data": {
            "text/plain": [
              "[1, 2, 3, 4, 5, 6, 7, 8, 9, 89]"
            ]
          },
          "metadata": {},
          "execution_count": 50
        }
      ]
    },
    {
      "cell_type": "markdown",
      "source": [
        "3. Write a Python program to check if the given number is Happy Number?\n"
      ],
      "metadata": {
        "id": "3uqb8HRL3z2S"
      }
    },
    {
      "cell_type": "code",
      "source": [
        "def checkhappynumber():\n",
        "    a=input('Enter a Number: ')\n",
        "    a_duplicate = a\n",
        "    b = set()   \n",
        "    while True:\n",
        "        if a != '1' and str(a) not in b:\n",
        "            b.add(a)\n",
        "            sum = 0\n",
        "            for i in range(len((a))):\n",
        "                sum = sum + int(a[i])**2\n",
        "            a = str(sum)\n",
        "        elif str(a) in b:\n",
        "            print(f'{a_duplicate} is not a Happy Number')\n",
        "            break\n",
        "        else:\n",
        "            print(f'{a_duplicate} is a Happy Number')\n",
        "            break"
      ],
      "metadata": {
        "id": "lzUGT5QJ_PDC"
      },
      "execution_count": 56,
      "outputs": []
    },
    {
      "cell_type": "code",
      "source": [
        "checkhappynumber()\n"
      ],
      "metadata": {
        "colab": {
          "base_uri": "https://localhost:8080/"
        },
        "id": "hOQ8oNUd_UUJ",
        "outputId": "cc40b131-ba4e-48fb-eb8a-5625bf8bccba"
      },
      "execution_count": 57,
      "outputs": [
        {
          "output_type": "stream",
          "name": "stdout",
          "text": [
            "Enter a Number: 1\n",
            "1 is a Happy Number\n"
          ]
        }
      ]
    },
    {
      "cell_type": "code",
      "source": [
        "checkhappynumber()\n"
      ],
      "metadata": {
        "colab": {
          "base_uri": "https://localhost:8080/"
        },
        "id": "Yx2zXlVGAq2S",
        "outputId": "96eaf491-068e-4532-d6e2-9dc6d684cf4d"
      },
      "execution_count": 58,
      "outputs": [
        {
          "output_type": "stream",
          "name": "stdout",
          "text": [
            "Enter a Number: 7\n",
            "7 is a Happy Number\n"
          ]
        }
      ]
    },
    {
      "cell_type": "markdown",
      "source": [
        "4. Write a Python program to print all happy numbers between 1 and 100?\n"
      ],
      "metadata": {
        "id": "yJTE_11D31Wb"
      }
    },
    {
      "cell_type": "code",
      "source": [
        "def checkhappynumber(a,b):\n",
        "    happyNumbersList = []\n",
        "    for i in range(a,b+1):\n",
        "        i = str(i)\n",
        "        inum_holder = i\n",
        "        k = set()   \n",
        "        while True:\n",
        "            if i != '1' and str(i) not in k:\n",
        "                k.add(i)\n",
        "                sum = 0\n",
        "                for ele in range(len((i))):\n",
        "                    sum = sum + int(i[ele])**2\n",
        "                i = str(sum)\n",
        "            elif str(i) in k:\n",
        "                break\n",
        "            else:\n",
        "                happyNumbersList.append(int(inum_holder))\n",
        "                break\n",
        "    print(f'The Happy Numbers between {a} and {b} are {happyNumbersList}')"
      ],
      "metadata": {
        "id": "eqfOXosGA1uE"
      },
      "execution_count": 59,
      "outputs": []
    },
    {
      "cell_type": "code",
      "source": [
        "checkhappynumber(1,100)"
      ],
      "metadata": {
        "colab": {
          "base_uri": "https://localhost:8080/"
        },
        "id": "C9NVoMVIEms6",
        "outputId": "cc99b0ba-21f9-42a1-f8e7-19af5c89ab23"
      },
      "execution_count": 60,
      "outputs": [
        {
          "output_type": "stream",
          "name": "stdout",
          "text": [
            "The Happy Numbers between 1 and 100 are [1, 7, 10, 13, 19, 23, 28, 31, 32, 44, 49, 68, 70, 79, 82, 86, 91, 94, 97, 100]\n"
          ]
        }
      ]
    },
    {
      "cell_type": "markdown",
      "source": [
        "5. Write a Python program to determine whether the given number is a Harshad Number?\n"
      ],
      "metadata": {
        "id": "EC7r-Xm_32m7"
      }
    },
    {
      "cell_type": "code",
      "source": [
        "def checkHarshadNumber():\n",
        "    in_num = input('Enter a Number: ')\n",
        "    sum = 0\n",
        "    for item in range(len(in_num)):\n",
        "        sum = sum + int(in_num[item])\n",
        "    if int(in_num)%sum == 0:\n",
        "        print(f'{in_num} is a Harshad Number')\n",
        "    else:\n",
        "        print(f'{in_num} is a Not Harshad Number')\n",
        "        \n"
      ],
      "metadata": {
        "id": "Vo4M_VELFBzp"
      },
      "execution_count": null,
      "outputs": []
    },
    {
      "cell_type": "code",
      "source": [
        "checkHarshadNumber()\n"
      ],
      "metadata": {
        "colab": {
          "base_uri": "https://localhost:8080/"
        },
        "id": "QWi6gR4rFIuS",
        "outputId": "87282eb2-18f0-457a-ebdb-30adb7363238"
      },
      "execution_count": 62,
      "outputs": [
        {
          "output_type": "stream",
          "name": "stdout",
          "text": [
            "Enter a Number: 10\n",
            "10 is a Harshad Number\n"
          ]
        }
      ]
    },
    {
      "cell_type": "code",
      "source": [
        "\n",
        "checkHarshadNumber()"
      ],
      "metadata": {
        "colab": {
          "base_uri": "https://localhost:8080/"
        },
        "id": "sJpbqRU6FLjo",
        "outputId": "8e07fb98-7bf3-43fc-9408-64fc5644c8a7"
      },
      "execution_count": 63,
      "outputs": [
        {
          "output_type": "stream",
          "name": "stdout",
          "text": [
            "Enter a Number: 20\n",
            "20 is a Harshad Number\n"
          ]
        }
      ]
    },
    {
      "cell_type": "markdown",
      "source": [
        "6. Write a Python program to print all pronic numbers between 1 and 100?"
      ],
      "metadata": {
        "id": "ZbYPobbNFWeo"
      }
    },
    {
      "cell_type": "code",
      "source": [
        "def printPronicNumbers(start=0,end=100):\n",
        "    outputList = []\n",
        "    for ele in range(start,end+1):\n",
        "        outputList.append((ele)*(ele+1))\n",
        "    print(outputList)\n",
        "                   \n",
        "printPronicNumbers()"
      ],
      "metadata": {
        "colab": {
          "base_uri": "https://localhost:8080/"
        },
        "id": "kMm-gXhRFTmp",
        "outputId": "f591c14e-e6f6-4443-8b57-adc22667a1a6"
      },
      "execution_count": 66,
      "outputs": [
        {
          "output_type": "stream",
          "name": "stdout",
          "text": [
            "[0, 2, 6, 12, 20, 30, 42, 56, 72, 90, 110, 132, 156, 182, 210, 240, 272, 306, 342, 380, 420, 462, 506, 552, 600, 650, 702, 756, 812, 870, 930, 992, 1056, 1122, 1190, 1260, 1332, 1406, 1482, 1560, 1640, 1722, 1806, 1892, 1980, 2070, 2162, 2256, 2352, 2450, 2550, 2652, 2756, 2862, 2970, 3080, 3192, 3306, 3422, 3540, 3660, 3782, 3906, 4032, 4160, 4290, 4422, 4556, 4692, 4830, 4970, 5112, 5256, 5402, 5550, 5700, 5852, 6006, 6162, 6320, 6480, 6642, 6806, 6972, 7140, 7310, 7482, 7656, 7832, 8010, 8190, 8372, 8556, 8742, 8930, 9120, 9312, 9506, 9702, 9900, 10100]\n"
          ]
        }
      ]
    }
  ]
}
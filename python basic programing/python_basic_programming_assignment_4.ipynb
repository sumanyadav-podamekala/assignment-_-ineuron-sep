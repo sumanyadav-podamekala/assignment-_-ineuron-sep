{
  "nbformat": 4,
  "nbformat_minor": 0,
  "metadata": {
    "colab": {
      "provenance": [],
      "collapsed_sections": []
    },
    "kernelspec": {
      "name": "python3",
      "display_name": "Python 3"
    },
    "language_info": {
      "name": "python"
    }
  },
  "cells": [
    {
      "cell_type": "markdown",
      "source": [
        "1. Write a Python Program to Find the Factorial of a \n",
        "Number?\n"
      ],
      "metadata": {
        "id": "3uFAVskujSOS"
      }
    },
    {
      "cell_type": "code",
      "source": [
        "n= int(input('enter the number: '))\n",
        "k=1\n",
        "if n< 0:\n",
        "   print(\"factorial does not exist for {n}, negative numbers\")\n",
        "elif n==0:\n",
        "   print(f\"factorial of {n} is 1\")\n",
        "else:\n",
        "  if n>0:\n",
        "    for i in range(1,n+1):\n",
        "       k=k*i\n",
        "print(f\"factorial of {n} is {k}\")"
      ],
      "metadata": {
        "colab": {
          "base_uri": "https://localhost:8080/"
        },
        "id": "Jg-n2rT3jjtg",
        "outputId": "42e7677e-b5a6-4626-deac-12c47eea0052"
      },
      "execution_count": 111,
      "outputs": [
        {
          "output_type": "stream",
          "name": "stdout",
          "text": [
            "enter the number: 3\n",
            "factorial of 3 is 6\n"
          ]
        }
      ]
    },
    {
      "cell_type": "code",
      "source": [
        "n= int(input('enter the number: '))\n",
        "k=1\n",
        "if n< 0:\n",
        "   print(f\"factorial does not exist for {n}, negative numbers\")\n",
        "elif n==0:\n",
        "   print(f\"factorial of {n} is 1\")\n",
        "else:\n",
        "  for i in range(1,n+1):\n",
        "    k=k*i\n",
        "print(f\"factorial of {n} is {k}\")"
      ],
      "metadata": {
        "colab": {
          "base_uri": "https://localhost:8080/"
        },
        "id": "5bq4Wh0imqzw",
        "outputId": "61c2717b-36da-4705-903b-f3f26ab26edf"
      },
      "execution_count": 113,
      "outputs": [
        {
          "output_type": "stream",
          "name": "stdout",
          "text": [
            "enter the number: 3\n",
            "factorial of 3 is 6\n"
          ]
        }
      ]
    },
    {
      "cell_type": "markdown",
      "source": [
        "2. Write a Python Program to Display the multiplication Table?\n",
        "\n",
        "\n",
        "---\n",
        "\n"
      ],
      "metadata": {
        "id": "j1gQvZv1jWcS"
      }
    },
    {
      "cell_type": "code",
      "source": [
        "n=int(input(\" enter a postive number: \"))\n",
        "for i in range(1, 11):\n",
        "  print(f\" {n}x{i}   \"  \"=\", f\"{i*n}\")\n"
      ],
      "metadata": {
        "colab": {
          "base_uri": "https://localhost:8080/"
        },
        "id": "F85-LiS8oFmA",
        "outputId": "87c32c7f-a3c0-432d-b800-3bdf64b743f3"
      },
      "execution_count": 114,
      "outputs": [
        {
          "output_type": "stream",
          "name": "stdout",
          "text": [
            " enter a postive number: 9\n",
            " 9x1   = 9\n",
            " 9x2   = 18\n",
            " 9x3   = 27\n",
            " 9x4   = 36\n",
            " 9x5   = 45\n",
            " 9x6   = 54\n",
            " 9x7   = 63\n",
            " 9x8   = 72\n",
            " 9x9   = 81\n",
            " 9x10   = 90\n"
          ]
        }
      ]
    },
    {
      "cell_type": "markdown",
      "source": [
        "3. Write a Python Program to Print the Fibonacci sequence?\n"
      ],
      "metadata": {
        "id": "7E5f-VZWjXpZ"
      }
    },
    {
      "cell_type": "code",
      "source": [
        "n= int(input(\" enter the lenght of Fibonacci sequence: \" ))\n",
        "k=[0,1]\n",
        "if n < 0:\n",
        "\tprint(\"Incorrect input\")\n",
        "elif n >= 0 and n <= 2:\n",
        "\tprint(k)\n",
        "else:\n",
        "  for i in range(n):\n",
        "    if i>=2:\n",
        "      k.append(k[i-1]+k[i-2])\n",
        "  print(k)\n",
        "      "
      ],
      "metadata": {
        "colab": {
          "base_uri": "https://localhost:8080/"
        },
        "id": "mrgsDtBlM6f_",
        "outputId": "2420c8bc-563e-4695-8468-a9828f58600d"
      },
      "execution_count": 115,
      "outputs": [
        {
          "output_type": "stream",
          "name": "stdout",
          "text": [
            " enter the lenght of Fibonacci sequence: 7\n",
            "[0, 1, 1, 2, 3, 5, 8]\n"
          ]
        }
      ]
    },
    {
      "cell_type": "markdown",
      "source": [
        "4. Write a Python Program to Check Armstrong Number?\n"
      ],
      "metadata": {
        "id": "1rjXk7WfjY6T"
      }
    },
    {
      "cell_type": "code",
      "source": [
        "n=int(input(\" enter a number: \"))\n",
        "m= str(n)\n",
        "power=len(str(m))\n",
        "sum=0\n",
        "if n>0:\n",
        "  for i in m:\n",
        "    sum= sum+ (int(i))**power\n",
        "  if n==sum:\n",
        "    print(n,\"is amstrong number\")\n",
        "  else:\n",
        "    print(n,\"is not a amstrong number\")\n",
        "else:\n",
        "  print(\"enter a postive number\")"
      ],
      "metadata": {
        "colab": {
          "base_uri": "https://localhost:8080/"
        },
        "id": "48TtPDnw6Dne",
        "outputId": "13983f8d-ad96-4180-c388-c74ced5fbcbc"
      },
      "execution_count": 72,
      "outputs": [
        {
          "output_type": "stream",
          "name": "stdout",
          "text": [
            " enter a number: 407\n",
            "407 is amstrong number\n"
          ]
        }
      ]
    },
    {
      "cell_type": "markdown",
      "source": [
        "5. Write a Python Program to Find Armstrong Number in an Interval?:\n"
      ],
      "metadata": {
        "id": "HPSEFxU0jacx"
      }
    },
    {
      "cell_type": "code",
      "source": [
        "lowerlimit= int(input(\"enter a lowerlimit number: \"))\n",
        "upperlimit=int(input(\"enter a upperlimit number: \"))\n",
        "print(\"      \")\n",
        "print(\"the amstrong number in that interval:\")\n",
        "for n in range( lowerlimit, upperlimit+1):\n",
        "  m= str(n)\n",
        "  power=len(str(m))\n",
        "  sum=0\n",
        "  if n>0:\n",
        "    for i in m:\n",
        "      sum= sum+ (int(i))**power\n",
        "    if n==sum:\n",
        "       print(n,\"is amstrong number\")\n",
        "  else:\n",
        "    print(\" there is zero amstrong number in that interval\")"
      ],
      "metadata": {
        "colab": {
          "base_uri": "https://localhost:8080/"
        },
        "id": "JICvVx7k9rqy",
        "outputId": "31b4b7be-69f3-4d27-9be2-21ef5740a6be"
      },
      "execution_count": 69,
      "outputs": [
        {
          "output_type": "stream",
          "name": "stdout",
          "text": [
            "enter a lowerlimit number: 100\n",
            "enter a upperlimit number: 100000\n",
            "      \n",
            "the amstrong number in that interval:\n",
            "153 is amstrong number\n",
            "370 is amstrong number\n",
            "371 is amstrong number\n",
            "407 is amstrong number\n",
            "1634 is amstrong number\n",
            "8208 is amstrong number\n",
            "9474 is amstrong number\n",
            "54748 is amstrong number\n",
            "92727 is amstrong number\n",
            "93084 is amstrong number\n"
          ]
        }
      ]
    },
    {
      "cell_type": "markdown",
      "source": [
        "6. Write a Python Program to Find the Sum of Natural Numbers?"
      ],
      "metadata": {
        "id": "QNPZqe7fjbjx"
      }
    },
    {
      "cell_type": "code",
      "source": [
        "n= int(input( 'enter the postive number: '))\n",
        "sum_of_Natural_number=.5*n*(n+1)\n",
        "print(sum_of_Natural_number)"
      ],
      "metadata": {
        "colab": {
          "base_uri": "https://localhost:8080/"
        },
        "id": "FNS_CnlT3LJV",
        "outputId": "f383f41a-9e9e-4062-d110-bc975598fed2"
      },
      "execution_count": 70,
      "outputs": [
        {
          "output_type": "stream",
          "name": "stdout",
          "text": [
            "enter the postive number: 10\n",
            "55.0\n"
          ]
        }
      ]
    },
    {
      "cell_type": "code",
      "source": [
        "n= int(input( 'enter the postive number: '))\n",
        "sum_of_Natural_number=0\n",
        "for i in range(1,n+1):\n",
        "  sum_of_Natural_number=sum_of_Natural_number+i\n",
        "print(sum_of_Natural_number)\n"
      ],
      "metadata": {
        "colab": {
          "base_uri": "https://localhost:8080/"
        },
        "id": "hOZ8yS_v3--0",
        "outputId": "0119731c-6457-4d76-dd92-9f65e687aaa0"
      },
      "execution_count": 71,
      "outputs": [
        {
          "output_type": "stream",
          "name": "stdout",
          "text": [
            "enter the postive number: 10\n",
            "55\n"
          ]
        }
      ]
    }
  ]
}
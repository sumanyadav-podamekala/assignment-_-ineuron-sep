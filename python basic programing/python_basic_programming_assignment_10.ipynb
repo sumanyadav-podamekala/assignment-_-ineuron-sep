{
  "nbformat": 4,
  "nbformat_minor": 0,
  "metadata": {
    "colab": {
      "provenance": [],
      "collapsed_sections": []
    },
    "kernelspec": {
      "name": "python3",
      "display_name": "Python 3"
    },
    "language_info": {
      "name": "python"
    }
  },
  "cells": [
    {
      "cell_type": "markdown",
      "source": [
        "1. Write a Python program to find sum of elements in list?\n"
      ],
      "metadata": {
        "id": "3Qt24VARr7d-"
      }
    },
    {
      "cell_type": "code",
      "source": [
        "def sumlist(a):  # enter a varible as list\n",
        "  k=[i for i in a if type(i)== int] # i written code such a way if some elements are not interger we can find sum of int in the given list\n",
        "  m=sum(k)\n",
        "  return m\n"
      ],
      "metadata": {
        "id": "Q2FPDNk0sSLf"
      },
      "execution_count": 1,
      "outputs": []
    },
    {
      "cell_type": "code",
      "source": [
        "sumlist([1,2,3,4,5])"
      ],
      "metadata": {
        "colab": {
          "base_uri": "https://localhost:8080/"
        },
        "id": "NJNeg2B5svWm",
        "outputId": "bca259fa-782f-480b-f576-453691ddfa6b"
      },
      "execution_count": 2,
      "outputs": [
        {
          "output_type": "execute_result",
          "data": {
            "text/plain": [
              "15"
            ]
          },
          "metadata": {},
          "execution_count": 2
        }
      ]
    },
    {
      "cell_type": "code",
      "source": [
        "sumlist([1,2,3,\"sandy\", \"suman\", 4,5])"
      ],
      "metadata": {
        "colab": {
          "base_uri": "https://localhost:8080/"
        },
        "id": "U3aT65lKs3tE",
        "outputId": "d1de7635-b30c-4808-b712-093905f49faa"
      },
      "execution_count": 3,
      "outputs": [
        {
          "output_type": "execute_result",
          "data": {
            "text/plain": [
              "15"
            ]
          },
          "metadata": {},
          "execution_count": 3
        }
      ]
    },
    {
      "cell_type": "markdown",
      "source": [
        "2. Write a Python program to Multiply all numbers in the list?\n"
      ],
      "metadata": {
        "id": "03_t9O7cr_Ym"
      }
    },
    {
      "cell_type": "code",
      "source": [
        "def multiplylist(a): # enter a varible as list\n",
        "\n",
        "  k=[i for i in a if type(i)== int]\n",
        "  m=1\n",
        "  for i in k:\n",
        "    m=m*i\n",
        "  return m"
      ],
      "metadata": {
        "id": "KpNUvwlFt87W"
      },
      "execution_count": 6,
      "outputs": []
    },
    {
      "cell_type": "code",
      "source": [],
      "metadata": {
        "id": "ce-Ijpc5uzTX"
      },
      "execution_count": null,
      "outputs": []
    },
    {
      "cell_type": "code",
      "source": [
        "multiplylist([1,2,3,4,5])"
      ],
      "metadata": {
        "colab": {
          "base_uri": "https://localhost:8080/"
        },
        "id": "YTceQXsaukhn",
        "outputId": "cc3c8931-5bc0-45a3-ad2d-79029de24a2e"
      },
      "execution_count": 7,
      "outputs": [
        {
          "output_type": "execute_result",
          "data": {
            "text/plain": [
              "120"
            ]
          },
          "metadata": {},
          "execution_count": 7
        }
      ]
    },
    {
      "cell_type": "code",
      "source": [
        "multiplylist([1,2,3,\"sandy\", \"suman\", 4,5])"
      ],
      "metadata": {
        "colab": {
          "base_uri": "https://localhost:8080/"
        },
        "id": "kvseMpu0sCy5",
        "outputId": "9e339c76-ff1a-459c-a250-714ee47e925a"
      },
      "execution_count": 8,
      "outputs": [
        {
          "output_type": "execute_result",
          "data": {
            "text/plain": [
              "120"
            ]
          },
          "metadata": {},
          "execution_count": 8
        }
      ]
    },
    {
      "cell_type": "markdown",
      "source": [
        "3. Write a Python program to find smallest number in a list?\n"
      ],
      "metadata": {
        "id": "VkYOpWq1sBUu"
      }
    },
    {
      "cell_type": "code",
      "source": [
        "def smallestnumberlist(a):\n",
        "  k=[i for i in a if type(i)== int]\n",
        "  m=sorted(k)\n",
        "  return m[0]\n"
      ],
      "metadata": {
        "id": "rYPBfmWEsDZO"
      },
      "execution_count": 9,
      "outputs": []
    },
    {
      "cell_type": "code",
      "source": [
        "smallestnumberlist([2,3,4,5,1])"
      ],
      "metadata": {
        "colab": {
          "base_uri": "https://localhost:8080/"
        },
        "id": "waqQy40ivf2g",
        "outputId": "9fd945f1-79e0-4121-d339-d9a5fd82046d"
      },
      "execution_count": 10,
      "outputs": [
        {
          "output_type": "execute_result",
          "data": {
            "text/plain": [
              "1"
            ]
          },
          "metadata": {},
          "execution_count": 10
        }
      ]
    },
    {
      "cell_type": "code",
      "source": [
        "smallestnumberlist([1,2,3,4,5,1,1])"
      ],
      "metadata": {
        "colab": {
          "base_uri": "https://localhost:8080/"
        },
        "id": "dKrLYse8wBXI",
        "outputId": "ff24f701-c354-43d9-cb07-9d586ad7ccf3"
      },
      "execution_count": 13,
      "outputs": [
        {
          "output_type": "execute_result",
          "data": {
            "text/plain": [
              "1"
            ]
          },
          "metadata": {},
          "execution_count": 13
        }
      ]
    },
    {
      "cell_type": "markdown",
      "source": [
        "4. Write a Python program to find largest number in a list?\n"
      ],
      "metadata": {
        "id": "IckmWkgTsDxu"
      }
    },
    {
      "cell_type": "code",
      "source": [
        "def largestnumberlist(a):\n",
        "  k=[i for i in a if type(i)== int]\n",
        "  m=sorted(k)\n",
        "  return m[len(m)-1]"
      ],
      "metadata": {
        "id": "9eBk-JiFwV_P"
      },
      "execution_count": 14,
      "outputs": []
    },
    {
      "cell_type": "code",
      "source": [],
      "metadata": {
        "id": "CXTkoMpwwnQW"
      },
      "execution_count": null,
      "outputs": []
    },
    {
      "cell_type": "code",
      "source": [
        "largestnumberlist([2,3,4,5,1])"
      ],
      "metadata": {
        "colab": {
          "base_uri": "https://localhost:8080/"
        },
        "id": "fF2QAf5jwhAd",
        "outputId": "d2396d2a-a372-4922-eedd-5b53fbc0cb12"
      },
      "execution_count": 15,
      "outputs": [
        {
          "output_type": "execute_result",
          "data": {
            "text/plain": [
              "5"
            ]
          },
          "metadata": {},
          "execution_count": 15
        }
      ]
    },
    {
      "cell_type": "code",
      "source": [
        "largestnumberlist([1,2,3,4,5,1,1])"
      ],
      "metadata": {
        "colab": {
          "base_uri": "https://localhost:8080/"
        },
        "id": "5KaN09WZwwGt",
        "outputId": "3e76e0f3-a4fc-4854-d357-1a4ed9018e9c"
      },
      "execution_count": 16,
      "outputs": [
        {
          "output_type": "execute_result",
          "data": {
            "text/plain": [
              "5"
            ]
          },
          "metadata": {},
          "execution_count": 16
        }
      ]
    },
    {
      "cell_type": "markdown",
      "source": [
        "5. Write a Python program to find second largest number in a list?\n"
      ],
      "metadata": {
        "id": "lmaeuirmsF_2"
      }
    },
    {
      "cell_type": "code",
      "source": [
        "def secondlargestnumberlist(a):\n",
        "  k=[i for i in a if type(i)== int]\n",
        "  m=sorted(k)\n",
        "  return m[len(m)-2]"
      ],
      "metadata": {
        "id": "hM1jiSomxKUt"
      },
      "execution_count": 17,
      "outputs": []
    },
    {
      "cell_type": "code",
      "source": [
        "secondlargestnumberlist([2,3,4,5,1])"
      ],
      "metadata": {
        "colab": {
          "base_uri": "https://localhost:8080/"
        },
        "id": "tlHA2k2jxT__",
        "outputId": "fbdcd6f6-1da2-4ee5-d0cf-9da1398b468c"
      },
      "execution_count": 18,
      "outputs": [
        {
          "output_type": "execute_result",
          "data": {
            "text/plain": [
              "4"
            ]
          },
          "metadata": {},
          "execution_count": 18
        }
      ]
    },
    {
      "cell_type": "code",
      "source": [
        "secondlargestnumberlist([1,2,3,4,5,1,1])"
      ],
      "metadata": {
        "colab": {
          "base_uri": "https://localhost:8080/"
        },
        "id": "UALJgCo3xUG5",
        "outputId": "00a32142-0e1c-402c-eb38-bba350ab3e6d"
      },
      "execution_count": 19,
      "outputs": [
        {
          "output_type": "execute_result",
          "data": {
            "text/plain": [
              "4"
            ]
          },
          "metadata": {},
          "execution_count": 19
        }
      ]
    },
    {
      "cell_type": "markdown",
      "source": [
        "6. Write a Python program to find N largest elements from a list?\n"
      ],
      "metadata": {
        "id": "4WHqfJr1sITv"
      }
    },
    {
      "cell_type": "code",
      "source": [
        "def Nlargestnumberlist(a, n ):  # here a is list , n- N largest elements(INTEGER)\n",
        "  k=[i for i in a if type(i)== int]\n",
        "  m=sorted(k)\n",
        "  return m[len(m)-n]"
      ],
      "metadata": {
        "id": "vS6LZ9eextht"
      },
      "execution_count": 21,
      "outputs": []
    },
    {
      "cell_type": "code",
      "source": [
        "Nlargestnumberlist([2,3,4,5,1], 3)"
      ],
      "metadata": {
        "colab": {
          "base_uri": "https://localhost:8080/"
        },
        "id": "EVNpaSE8yCwG",
        "outputId": "abc9d5cb-b16d-4991-ee5c-088398380460"
      },
      "execution_count": 22,
      "outputs": [
        {
          "output_type": "execute_result",
          "data": {
            "text/plain": [
              "3"
            ]
          },
          "metadata": {},
          "execution_count": 22
        }
      ]
    },
    {
      "cell_type": "code",
      "source": [
        "Nlargestnumberlist([1,2,3,4,5,1,1], 3)"
      ],
      "metadata": {
        "colab": {
          "base_uri": "https://localhost:8080/"
        },
        "id": "GHIhyMB3yC61",
        "outputId": "5c6262ce-f472-4e41-9f74-de745fd82eb9"
      },
      "execution_count": 24,
      "outputs": [
        {
          "output_type": "execute_result",
          "data": {
            "text/plain": [
              "3"
            ]
          },
          "metadata": {},
          "execution_count": 24
        }
      ]
    },
    {
      "cell_type": "markdown",
      "source": [
        "7. Write a Python program to print even numbers in a list?\n"
      ],
      "metadata": {
        "id": "fxXJKhphsJXn"
      }
    },
    {
      "cell_type": "code",
      "source": [
        "def printevennumbers(a):\n",
        "  k=[i for i in a if type(i)== int]\n",
        "  m=[ i for  i in k if i%2==0]\n",
        "  print(f\" all the even number in the list {a}  are {(list(set(m)))}\")\n"
      ],
      "metadata": {
        "id": "rDIafd5eyY7d"
      },
      "execution_count": 51,
      "outputs": []
    },
    {
      "cell_type": "code",
      "source": [
        "printevennumbers([2,3,4,5,1])"
      ],
      "metadata": {
        "colab": {
          "base_uri": "https://localhost:8080/"
        },
        "id": "6Paz8q9TzBMF",
        "outputId": "7ee8cc7f-5a51-4ce1-d168-a9f50f717c66"
      },
      "execution_count": 52,
      "outputs": [
        {
          "output_type": "stream",
          "name": "stdout",
          "text": [
            " all the even number in the list [2, 3, 4, 5, 1]  are [2, 4]\n"
          ]
        }
      ]
    },
    {
      "cell_type": "code",
      "source": [
        "printevennumbers([1,2,3,4,5,1,1])"
      ],
      "metadata": {
        "colab": {
          "base_uri": "https://localhost:8080/"
        },
        "id": "nylQ6m8qzcLH",
        "outputId": "cc3f158d-9327-4e62-8b90-b82cbba76c91"
      },
      "execution_count": 53,
      "outputs": [
        {
          "output_type": "stream",
          "name": "stdout",
          "text": [
            " all the even number in the list [1, 2, 3, 4, 5, 1, 1]  are [2, 4]\n"
          ]
        }
      ]
    },
    {
      "cell_type": "markdown",
      "source": [
        "8. Write a Python program to print odd numbers in a List?\n"
      ],
      "metadata": {
        "id": "mMyjPQmxsKoG"
      }
    },
    {
      "cell_type": "code",
      "source": [
        "def printoddnumbers(a):\n",
        "  k=[i for i in a if type(i)== int]\n",
        "  m=[ i for  i in k if i%2==1]\n",
        "  print(f\" all the odd number in the list {a}  are {(list(set(m)))}\")"
      ],
      "metadata": {
        "id": "NhKcMlzAzoPl"
      },
      "execution_count": 47,
      "outputs": []
    },
    {
      "cell_type": "code",
      "source": [
        "printoddnumbers([2, 3, 4, 5, 1])"
      ],
      "metadata": {
        "colab": {
          "base_uri": "https://localhost:8080/"
        },
        "id": "L546w15AzupV",
        "outputId": "91ed525d-e3c0-4e31-e897-56aa9451a937"
      },
      "execution_count": 48,
      "outputs": [
        {
          "output_type": "stream",
          "name": "stdout",
          "text": [
            " all the odd number in the list [2, 3, 4, 5, 1]  are [1, 3, 5]\n"
          ]
        }
      ]
    },
    {
      "cell_type": "code",
      "source": [
        "printoddnumbers([1, 2, 3, 4, 5, 1, 1])"
      ],
      "metadata": {
        "colab": {
          "base_uri": "https://localhost:8080/"
        },
        "id": "m5LjOIjyzuyd",
        "outputId": "8bf09b97-6c75-4c38-99df-0bf745a3ab55"
      },
      "execution_count": 49,
      "outputs": [
        {
          "output_type": "stream",
          "name": "stdout",
          "text": [
            " all the odd number in the list [1, 2, 3, 4, 5, 1, 1]  are [1, 3, 5]\n"
          ]
        }
      ]
    },
    {
      "cell_type": "markdown",
      "source": [
        "9. Write a Python program to Remove empty List from List?\n"
      ],
      "metadata": {
        "id": "y-Cjj5sZsLym"
      }
    },
    {
      "cell_type": "code",
      "source": [
        "def removeemptylist(a):\n",
        "  k=[i for i in a if i!=[]]\n",
        "  return k\n"
      ],
      "metadata": {
        "id": "N-41weSmeN_a"
      },
      "execution_count": 1,
      "outputs": []
    },
    {
      "cell_type": "code",
      "source": [
        "removeemptylist([1, 2, 3, 4, 5,[], 1, 1])"
      ],
      "metadata": {
        "colab": {
          "base_uri": "https://localhost:8080/"
        },
        "id": "ZDqrfoz7ex1L",
        "outputId": "130eabf9-426a-4c41-a5fb-ee5eeb204b74"
      },
      "execution_count": 2,
      "outputs": [
        {
          "output_type": "execute_result",
          "data": {
            "text/plain": [
              "[1, 2, 3, 4, 5, 1, 1]"
            ]
          },
          "metadata": {},
          "execution_count": 2
        }
      ]
    },
    {
      "cell_type": "markdown",
      "source": [
        "10. Write a Python program to Cloning or Copying a list?\n"
      ],
      "metadata": {
        "id": "evCt9xrfsM6a"
      }
    },
    {
      "cell_type": "code",
      "source": [
        "def Cloning(li):\n",
        "    li_copy = [i for i in li]\n",
        "    print(F\"{li} {id(li)}\")\n",
        "    print(F\"{li_copy} {id(li_copy)}\")"
      ],
      "metadata": {
        "id": "ae3fcOJWeNEC"
      },
      "execution_count": 7,
      "outputs": []
    },
    {
      "cell_type": "code",
      "source": [
        "li=[1, 2, 3, 4, 5,[], 1, 1]\n",
        "Cloning(li)\n"
      ],
      "metadata": {
        "colab": {
          "base_uri": "https://localhost:8080/"
        },
        "id": "aPTIaz89hnTb",
        "outputId": "362a9e7c-d229-4361-98f4-e3f3001d20d5"
      },
      "execution_count": 8,
      "outputs": [
        {
          "output_type": "stream",
          "name": "stdout",
          "text": [
            "[1, 2, 3, 4, 5, [], 1, 1] 139750186205344\n",
            "[1, 2, 3, 4, 5, [], 1, 1] 139750051788432\n"
          ]
        }
      ]
    },
    {
      "cell_type": "markdown",
      "source": [
        "11. Write a Python program to Count occurrences of an element in a list?"
      ],
      "metadata": {
        "id": "9UXbyhaZsOHW"
      }
    },
    {
      "cell_type": "code",
      "source": [
        "def countoccurrenceofelement(a, e): # ais list e is element\n",
        "  k= a.count(e)\n",
        "  print(F\" no of times {e} ocurred in {a} is {k}\")\n"
      ],
      "metadata": {
        "id": "SHTc0ewgiVy5"
      },
      "execution_count": 10,
      "outputs": []
    },
    {
      "cell_type": "code",
      "source": [
        "countoccurrenceofelement([1, 2, 3, 4, 5,[], 1, 1], 1)"
      ],
      "metadata": {
        "colab": {
          "base_uri": "https://localhost:8080/"
        },
        "id": "2SpHO5QCjh9L",
        "outputId": "9e981aa7-bf53-4406-990f-889806484d75"
      },
      "execution_count": 11,
      "outputs": [
        {
          "output_type": "stream",
          "name": "stdout",
          "text": [
            " no of times 1 ocurred in [1, 2, 3, 4, 5, [], 1, 1] is 3\n"
          ]
        }
      ]
    }
  ]
}
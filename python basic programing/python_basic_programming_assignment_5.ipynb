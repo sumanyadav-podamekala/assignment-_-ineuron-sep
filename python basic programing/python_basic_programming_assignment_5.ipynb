{
  "nbformat": 4,
  "nbformat_minor": 0,
  "metadata": {
    "colab": {
      "provenance": [],
      "collapsed_sections": []
    },
    "kernelspec": {
      "name": "python3",
      "display_name": "Python 3"
    },
    "language_info": {
      "name": "python"
    }
  },
  "cells": [
    {
      "cell_type": "markdown",
      "source": [
        "1. Write a Python Program to Find LCM?\n"
      ],
      "metadata": {
        "id": "taYvAVMibz6e"
      }
    },
    {
      "cell_type": "code",
      "source": [
        "a= int(input(\"Enter  number: \"))  \n",
        "b = int(input(\"Enter number: \")) \n",
        "if a > b:  \n",
        "    k = b \n",
        "else:  \n",
        "    k= a\n",
        "for i in range(1, k+ 1):  \n",
        "  if((a % i == 0) and (b % i == 0)):  \n",
        "    HCF = i\n",
        "LCM=a*b/HCF\n",
        "print(f\"The LCM. of {a} and {b},is\", LCM) "
      ],
      "metadata": {
        "colab": {
          "base_uri": "https://localhost:8080/"
        },
        "id": "JhEA0RyhgNZ2",
        "outputId": "ab7af4e9-3875-484a-90b0-d151a80249cb"
      },
      "execution_count": 15,
      "outputs": [
        {
          "output_type": "stream",
          "name": "stdout",
          "text": [
            "Enter  number: 10\n",
            "Enter number: 20\n",
            "The LCM. of 10 and 20,is 20.0\n"
          ]
        }
      ]
    },
    {
      "cell_type": "markdown",
      "source": [
        "2. Write a Python Program to Find HCF?\n",
        "\n"
      ],
      "metadata": {
        "id": "BuzwjO0Fb2gM"
      }
    },
    {
      "cell_type": "code",
      "source": [
        "a= int(input(\"Enter the number: \"))  \n",
        "b = int(input(\"Enter the number: \")) \n",
        "if a > b:  \n",
        "    k = b \n",
        "else:  \n",
        "    k= a\n",
        "for i in range(1, k+ 1):  \n",
        "  if((a % i == 0) and (b % i == 0)):  \n",
        "    hcf = i  \n",
        "\n",
        "print(f\"The H.C.F. of {a} and {b},is\", hcf)  "
      ],
      "metadata": {
        "colab": {
          "base_uri": "https://localhost:8080/"
        },
        "id": "hd2inDg1hS3D",
        "outputId": "7d5a8cc2-6ae7-4017-fd5f-c3d574856293"
      },
      "execution_count": 16,
      "outputs": [
        {
          "output_type": "stream",
          "name": "stdout",
          "text": [
            "Enter the number: 10\n",
            "Enter the number: 20\n",
            "The H.C.F. of 10 and 20,is 10\n"
          ]
        }
      ]
    },
    {
      "cell_type": "markdown",
      "source": [
        "3. Write a Python Program to Convert Decimal to Binary, Octal and Hexadecimal?\n"
      ],
      "metadata": {
        "id": "zjURUodtb5W1"
      }
    },
    {
      "cell_type": "code",
      "source": [
        "a= int(input(\"Enter the DECIMAL number: \"))  \n",
        "print(bin(a))\n",
        "print(oct(a))\n",
        "print(hex(a))"
      ],
      "metadata": {
        "colab": {
          "base_uri": "https://localhost:8080/"
        },
        "id": "2zSMlIsekWFG",
        "outputId": "6570bc7e-3604-4dc5-a9ac-5aff8b3aa32f"
      },
      "execution_count": 17,
      "outputs": [
        {
          "output_type": "stream",
          "name": "stdout",
          "text": [
            "Enter the DECIMAL number: 40\n",
            "0b101000\n",
            "0o50\n",
            "0x28\n"
          ]
        }
      ]
    },
    {
      "cell_type": "markdown",
      "source": [
        "4. Write a Python Program To Find ASCII value of a \n",
        "character?\n"
      ],
      "metadata": {
        "id": "Q4dvxrNOb6vw"
      }
    },
    {
      "cell_type": "code",
      "source": [
        "a=input('enter the character from alphabets: ')\n",
        "print(ord(a))"
      ],
      "metadata": {
        "colab": {
          "base_uri": "https://localhost:8080/"
        },
        "id": "n97vYPtylXKx",
        "outputId": "04b1ec07-245d-4d0d-b8dc-983dbaf74d6c"
      },
      "execution_count": 19,
      "outputs": [
        {
          "output_type": "stream",
          "name": "stdout",
          "text": [
            "enter the character from alphabets: s\n",
            "115\n"
          ]
        }
      ]
    },
    {
      "cell_type": "markdown",
      "source": [
        "5. Write a Python Program to Make a Simple Calculator with 4 basic mathematical operations?"
      ],
      "metadata": {
        "id": "Z94fFd7cb7_t"
      }
    },
    {
      "cell_type": "code",
      "source": [
        "\n",
        "def add(a, b):\n",
        "\treturn a + b\n",
        "def subtract(a, b):\n",
        "\treturn a - b\n",
        "def multiply(a, b):\n",
        "\treturn a * b\n",
        "def divide(a, b):\n",
        "\treturn a / b\n",
        "print(\"Please select operation -\\n\" \\\n",
        "\t\t\"1. Add\\n\" \\\n",
        "\t\t\"2. Subtract\\n\" \\\n",
        "\t\t\"3. Multiply\\n\" \\\n",
        "\t\t\"4. Divide\\n\")\n",
        "\n",
        "select = int(input(\"Select operations form 1, 2, 3, 4 :\"))\n",
        "c = int(input(\"Enter first number: \"))\n",
        "d = int(input(\"Enter second number: \"))\n",
        "if select == 1:\n",
        "  print(f\"{c} + {d }=\",add(c, d))\n",
        "elif select == 2:\n",
        "  print(f\"{c} - {d }=\",subtract(c, d))\n",
        "elif select == 3:\n",
        "  print(f\"{c} * {d }=\",multiply(c, d))\n",
        "elif select == 4:\n",
        "  print(f\"{c} / {d }=\",divide(c, d))\n",
        "else:\n",
        "  print(\"Invalid input\")"
      ],
      "metadata": {
        "colab": {
          "base_uri": "https://localhost:8080/"
        },
        "id": "seq9-a0tsCQs",
        "outputId": "99b8147d-cbbc-4537-9e8f-70d5cadc33f1"
      },
      "execution_count": 14,
      "outputs": [
        {
          "output_type": "stream",
          "name": "stdout",
          "text": [
            "Please select operation -\n",
            "1. Add\n",
            "2. Subtract\n",
            "3. Multiply\n",
            "4. Divide\n",
            "\n",
            "Select operations form 1, 2, 3, 4 :1\n",
            "Enter first number: 1\n",
            "Enter second number: 1\n",
            "1 + 1 = 2\n"
          ]
        }
      ]
    }
  ]
}
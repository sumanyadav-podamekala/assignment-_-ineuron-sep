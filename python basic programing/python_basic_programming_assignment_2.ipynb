{
  "nbformat": 4,
  "nbformat_minor": 0,
  "metadata": {
    "colab": {
      "provenance": []
    },
    "kernelspec": {
      "name": "python3",
      "display_name": "Python 3"
    },
    "language_info": {
      "name": "python"
    }
  },
  "cells": [
    {
      "cell_type": "markdown",
      "source": [
        "1. Write a Python program to convert kilometers to miles?"
      ],
      "metadata": {
        "id": "DZci1MCJ4IWK"
      }
    },
    {
      "cell_type": "code",
      "source": [
        "kilometer=float(input( \"enter no of kilometer: \" ))\n",
        "miles =0.62137119 *kilometer\n",
        "print(kilometer,  \"km is equl to\", miles,\"miles\")\n"
      ],
      "metadata": {
        "colab": {
          "base_uri": "https://localhost:8080/"
        },
        "id": "ZpbuLm0T5u59",
        "outputId": "4269c566-2369-4370-aa43-c513329dc95d"
      },
      "execution_count": 4,
      "outputs": [
        {
          "output_type": "stream",
          "name": "stdout",
          "text": [
            "enter no of kilometer: 11.9\n",
            "11.9 km is equl to 7.394317161 miles\n"
          ]
        }
      ]
    },
    {
      "cell_type": "markdown",
      "source": [
        "2. Write a Python program to convert Celsius to Fahrenheit?"
      ],
      "metadata": {
        "id": "u_Zf5yTM4IZA"
      }
    },
    {
      "cell_type": "code",
      "source": [
        "Celsius=float(input( \"enter temperature in Celsius: \" ))\n",
        "Fahrenheit=32+1.8*Celsius\n",
        "print(\"temperature in Fahrenheit\", Fahrenheit)\n",
        "print(f\"{Celsius} degree Celsius is equal to {Fahrenheit} degree Fahrenheit \")"
      ],
      "metadata": {
        "colab": {
          "base_uri": "https://localhost:8080/"
        },
        "id": "Gg6hxgM878a_",
        "outputId": "8a3406b2-8858-4e82-f11f-29d38dad180c"
      },
      "execution_count": 10,
      "outputs": [
        {
          "output_type": "stream",
          "name": "stdout",
          "text": [
            "enter temperature in Celsius: 36.1\n",
            "temperature in Fahrenheit 96.98\n",
            "36.1 degree Celsius is equal to 96.98 degree Fahrenheit \n"
          ]
        }
      ]
    },
    {
      "cell_type": "markdown",
      "source": [
        "3. Write a Python program to display calendar?"
      ],
      "metadata": {
        "id": "nanTp-Hj4Ici"
      }
    },
    {
      "cell_type": "code",
      "source": [
        "import calendar\n",
        "year = int(input(\"Enter the year: \"))\n",
        "month = int(input(\"Enter the month: \"))\n",
        "print(calendar.month(year,month))\n",
        "print(calendar.calendar(year))\n"
      ],
      "metadata": {
        "colab": {
          "base_uri": "https://localhost:8080/"
        },
        "id": "v7TMM6pO96hX",
        "outputId": "17ddfe9c-982d-48b1-8275-a3d4c941b29d"
      },
      "execution_count": 6,
      "outputs": [
        {
          "output_type": "stream",
          "name": "stdout",
          "text": [
            "Enter the year: 2022\n",
            "Enter the month: 10\n",
            "    October 2022\n",
            "Mo Tu We Th Fr Sa Su\n",
            "                1  2\n",
            " 3  4  5  6  7  8  9\n",
            "10 11 12 13 14 15 16\n",
            "17 18 19 20 21 22 23\n",
            "24 25 26 27 28 29 30\n",
            "31\n",
            "\n",
            "                                  2022\n",
            "\n",
            "      January                   February                   March\n",
            "Mo Tu We Th Fr Sa Su      Mo Tu We Th Fr Sa Su      Mo Tu We Th Fr Sa Su\n",
            "                1  2          1  2  3  4  5  6          1  2  3  4  5  6\n",
            " 3  4  5  6  7  8  9       7  8  9 10 11 12 13       7  8  9 10 11 12 13\n",
            "10 11 12 13 14 15 16      14 15 16 17 18 19 20      14 15 16 17 18 19 20\n",
            "17 18 19 20 21 22 23      21 22 23 24 25 26 27      21 22 23 24 25 26 27\n",
            "24 25 26 27 28 29 30      28                        28 29 30 31\n",
            "31\n",
            "\n",
            "       April                      May                       June\n",
            "Mo Tu We Th Fr Sa Su      Mo Tu We Th Fr Sa Su      Mo Tu We Th Fr Sa Su\n",
            "             1  2  3                         1             1  2  3  4  5\n",
            " 4  5  6  7  8  9 10       2  3  4  5  6  7  8       6  7  8  9 10 11 12\n",
            "11 12 13 14 15 16 17       9 10 11 12 13 14 15      13 14 15 16 17 18 19\n",
            "18 19 20 21 22 23 24      16 17 18 19 20 21 22      20 21 22 23 24 25 26\n",
            "25 26 27 28 29 30         23 24 25 26 27 28 29      27 28 29 30\n",
            "                          30 31\n",
            "\n",
            "        July                     August                  September\n",
            "Mo Tu We Th Fr Sa Su      Mo Tu We Th Fr Sa Su      Mo Tu We Th Fr Sa Su\n",
            "             1  2  3       1  2  3  4  5  6  7                1  2  3  4\n",
            " 4  5  6  7  8  9 10       8  9 10 11 12 13 14       5  6  7  8  9 10 11\n",
            "11 12 13 14 15 16 17      15 16 17 18 19 20 21      12 13 14 15 16 17 18\n",
            "18 19 20 21 22 23 24      22 23 24 25 26 27 28      19 20 21 22 23 24 25\n",
            "25 26 27 28 29 30 31      29 30 31                  26 27 28 29 30\n",
            "\n",
            "      October                   November                  December\n",
            "Mo Tu We Th Fr Sa Su      Mo Tu We Th Fr Sa Su      Mo Tu We Th Fr Sa Su\n",
            "                1  2          1  2  3  4  5  6                1  2  3  4\n",
            " 3  4  5  6  7  8  9       7  8  9 10 11 12 13       5  6  7  8  9 10 11\n",
            "10 11 12 13 14 15 16      14 15 16 17 18 19 20      12 13 14 15 16 17 18\n",
            "17 18 19 20 21 22 23      21 22 23 24 25 26 27      19 20 21 22 23 24 25\n",
            "24 25 26 27 28 29 30      28 29 30                  26 27 28 29 30 31\n",
            "31\n",
            "\n"
          ]
        }
      ]
    },
    {
      "cell_type": "markdown",
      "source": [
        "4. Write a Python program to solve quadratic equation?\n",
        "\n",
        "Quadratic equation will be ax**2+bx+c=0   \n",
        "and there solution will be     \n",
        "x=(-b ± (b ** 2 - 4 * a * c) ** 0.5) / (2 * a)\n"
      ],
      "metadata": {
        "id": "6abWStnY4IgH"
      }
    },
    {
      "cell_type": "code",
      "source": [
        "import cmath\n",
        "a= float(input(\"enter a: \"))\n",
        "b=float(input(\"enter b: \"))\n",
        "c= float(input(\"enter c: \"))\n",
        "d=(b**2) - (4*a*c)\n",
        "root1=(-b+cmath.sqrt(d))/(2*a)\n",
        "root2=(-b-cmath.sqrt(d))/(2*a)\n",
        "print(\" solution1\",root1)\n",
        "print(\" solution2\",root2)"
      ],
      "metadata": {
        "colab": {
          "base_uri": "https://localhost:8080/"
        },
        "id": "wNedpMhNAAW-",
        "outputId": "814f1415-626e-4808-a69e-a5fc6ec5c879"
      },
      "execution_count": 8,
      "outputs": [
        {
          "output_type": "stream",
          "name": "stdout",
          "text": [
            "enter a: 1\n",
            "enter b: 5\n",
            "enter c: 6\n",
            " solution1 (-2+0j)\n",
            " solution2 (-3+0j)\n"
          ]
        }
      ]
    },
    {
      "cell_type": "code",
      "source": [
        "import cmath\n",
        "\n",
        "a = 1\n",
        "b = 5\n",
        "c = 6\n",
        "\n",
        "# calculate the discriminant\n",
        "d = (b**2) - (4*a*c)\n",
        "\n",
        "# find two solutions\n",
        "sol1 = (-b-cmath.sqrt(d))/(2*a)\n",
        "sol2 = (-b+cmath.sqrt(d))/(2*a)\n",
        "\n",
        "print(sol1,sol2)"
      ],
      "metadata": {
        "colab": {
          "base_uri": "https://localhost:8080/"
        },
        "id": "aBbQLNNuDYAJ",
        "outputId": "6abb955f-a245-4048-949f-9b138cea2b36"
      },
      "execution_count": 3,
      "outputs": [
        {
          "output_type": "stream",
          "name": "stdout",
          "text": [
            "(-3+0j) (-2+0j)\n"
          ]
        }
      ]
    },
    {
      "cell_type": "markdown",
      "source": [],
      "metadata": {
        "id": "e_GGLeHZ4IqS"
      }
    },
    {
      "cell_type": "markdown",
      "source": [
        "5. Write a Python program to generate a random number?"
      ],
      "metadata": {
        "id": "lXMgdeWn4Iss"
      }
    },
    {
      "cell_type": "code",
      "source": [
        "x=int(input(\" before swapping value of x: \"))\n",
        "y=int(input( \" before swapping value of y: \"))\n",
        "x,y=y,x\n",
        "print(\"after swapping value of x: \", x)\n",
        "print(\"after swapping value of y: \", y)"
      ],
      "metadata": {
        "colab": {
          "base_uri": "https://localhost:8080/"
        },
        "id": "Me0q7xjt4K_e",
        "outputId": "ff5a15d4-1b0d-4068-bc4b-19da870f384e"
      },
      "execution_count": 1,
      "outputs": [
        {
          "output_type": "stream",
          "name": "stdout",
          "text": [
            " before swapping value of x: 10\n",
            " before swapping value of y: 13\n",
            "after swapping value of x:  13\n",
            "after swapping value of y:  10\n"
          ]
        }
      ]
    }
  ]
}
{
  "nbformat": 4,
  "nbformat_minor": 0,
  "metadata": {
    "colab": {
      "provenance": []
    },
    "kernelspec": {
      "name": "python3",
      "display_name": "Python 3"
    },
    "language_info": {
      "name": "python"
    }
  },
  "cells": [
    {
      "cell_type": "markdown",
      "source": [
        "1. Write a Python program to Extract Unique values dictionary values?\n"
      ],
      "metadata": {
        "id": "vtARZ0mflo5A"
      }
    },
    {
      "cell_type": "code",
      "source": [
        "def extractuniquevalues(k):\n",
        "  m=list()\n",
        "  for i in k.values():\n",
        "    m=m+(i)\n",
        "  l=list(set(m))\n",
        "  return l"
      ],
      "metadata": {
        "id": "8nJqUBntmrBu"
      },
      "execution_count": 26,
      "outputs": []
    },
    {
      "cell_type": "code",
      "source": [
        "k={\n",
        "\n",
        "'A' : [1, 3, 5, 4], 'B' : [4, 6, 8, 10], 'C' : [6, 12, 4 ,8], 'D' : [5, 7, 2]\n",
        "\n",
        "}\n"
      ],
      "metadata": {
        "id": "SvobgoLKmtrG"
      },
      "execution_count": 27,
      "outputs": []
    },
    {
      "cell_type": "code",
      "source": [
        "extractuniquevalues(k)"
      ],
      "metadata": {
        "colab": {
          "base_uri": "https://localhost:8080/"
        },
        "id": "m5qE-nUAsGDu",
        "outputId": "e1bf786b-1bab-42a1-8dfd-6a86e9cdcf40"
      },
      "execution_count": 28,
      "outputs": [
        {
          "output_type": "execute_result",
          "data": {
            "text/plain": [
              "[1, 2, 3, 4, 5, 6, 7, 8, 10, 12]"
            ]
          },
          "metadata": {},
          "execution_count": 28
        }
      ]
    },
    {
      "cell_type": "markdown",
      "source": [
        "2. Write a Python program to find the sum of all items in a dictionary?\n"
      ],
      "metadata": {
        "id": "KqOBTT-Cltg5"
      }
    },
    {
      "cell_type": "code",
      "source": [
        "def sumofallitemsdictionary(a):\n",
        "  m=[i for i in a.values() if type(i)==int]\n",
        "  l= sum(m)\n",
        "  return l"
      ],
      "metadata": {
        "id": "JsbGMRINqbqN"
      },
      "execution_count": 48,
      "outputs": []
    },
    {
      "cell_type": "code",
      "source": [
        "sumofallitemsdictionary({'k1 ': 120, 'k2' : 20, 'k3' : 300})"
      ],
      "metadata": {
        "colab": {
          "base_uri": "https://localhost:8080/"
        },
        "id": "D9jS0710xDme",
        "outputId": "4fefc77f-4006-430a-ed9d-1a0e1417436b"
      },
      "execution_count": 49,
      "outputs": [
        {
          "output_type": "execute_result",
          "data": {
            "text/plain": [
              "440"
            ]
          },
          "metadata": {},
          "execution_count": 49
        }
      ]
    },
    {
      "cell_type": "markdown",
      "source": [
        "3. Write a Python program to Merging two Dictionaries?\n"
      ],
      "metadata": {
        "id": "WDTXpIe2lvX_"
      }
    },
    {
      "cell_type": "code",
      "source": [
        "def mergedictionaries(a,b):\n",
        "  k={ **a, **b}\n",
        "  return k"
      ],
      "metadata": {
        "id": "LCcHkbDDyMM5"
      },
      "execution_count": 50,
      "outputs": []
    },
    {
      "cell_type": "code",
      "source": [
        "a = {\"apple\": 2, \"orange\" : 3, \"tangerine\": 5}\n",
        "b= {\"cashew\": 3, \"almond\": 4, \"pistachio\": 6}"
      ],
      "metadata": {
        "id": "y1XFL_gvyw-c"
      },
      "execution_count": 51,
      "outputs": []
    },
    {
      "cell_type": "code",
      "source": [
        "mergedictionaries(a,b)"
      ],
      "metadata": {
        "colab": {
          "base_uri": "https://localhost:8080/"
        },
        "id": "1EWdPtT2y3zz",
        "outputId": "c05bdfb0-cef4-43e0-b040-418b548755b9"
      },
      "execution_count": 40,
      "outputs": [
        {
          "output_type": "execute_result",
          "data": {
            "text/plain": [
              "{'apple': 2,\n",
              " 'orange': 3,\n",
              " 'tangerine': 5,\n",
              " 'cashew': 3,\n",
              " 'almond': 4,\n",
              " 'pistachio': 6}"
            ]
          },
          "metadata": {},
          "execution_count": 40
        }
      ]
    },
    {
      "cell_type": "markdown",
      "source": [
        "4. Write a Python program to convert key-values list to flat dictionary?\n"
      ],
      "metadata": {
        "id": "Uzh9X7cdlxIn"
      }
    },
    {
      "cell_type": "code",
      "source": [
        "dic= { \"day\": [1, 2, 3], \"name\": ['Mon', 'Tues', 'Wed' ] }\n",
        "print(\"Original dic: \",dic)\n",
        "flatdic= dict(zip(dic[\"day\"], dic[\"name\"]))\n",
        "print(\"flat dic : \", flatdic)"
      ],
      "metadata": {
        "colab": {
          "base_uri": "https://localhost:8080/"
        },
        "id": "mRZFNCjT0BnF",
        "outputId": "ec8a4f1e-a5ea-4b04-a14f-fcd580cfb319"
      },
      "execution_count": 45,
      "outputs": [
        {
          "output_type": "stream",
          "name": "stdout",
          "text": [
            "Original dic:  {'day': [1, 2, 3], 'name': ['Mon', 'Tues', 'Wed']}\n",
            "flat dic :  {1: 'Mon', 2: 'Tues', 3: 'Wed'}\n"
          ]
        }
      ]
    },
    {
      "cell_type": "markdown",
      "source": [
        "5. Write a Python program to insertion at the beginning in OrderedDict?\n"
      ],
      "metadata": {
        "id": "Xwzd-zTily03"
      }
    },
    {
      "cell_type": "code",
      "source": [
        "from collections import OrderedDict  \n",
        "dic1 = OrderedDict([('A', '100'), ('B', '200'), ('C', '300')])\n",
        "dic1.update({\"D\": '400'})\n",
        "dic1.move_to_end(\"D\", last=False)\n",
        "print (\"Resultant Dictionary :\", dic1)"
      ],
      "metadata": {
        "colab": {
          "base_uri": "https://localhost:8080/"
        },
        "id": "g04-ES-R2Jq1",
        "outputId": "46ac3ede-9c8f-4ee1-9811-ba99be2f02c1"
      },
      "execution_count": 46,
      "outputs": [
        {
          "output_type": "stream",
          "name": "stdout",
          "text": [
            "Resultant Dictionary :\n",
            "OrderedDict([('D', '400'), ('A', '100'), ('B', '200'), ('C', '300')])\n"
          ]
        }
      ]
    },
    {
      "cell_type": "markdown",
      "source": [
        "6. Write a Python program to check order of character in string using OrderedDict()?\n"
      ],
      "metadata": {
        "id": "M7n-RYVNl0mc"
      }
    },
    {
      "cell_type": "code",
      "source": [
        "from collections import OrderedDict\n",
        "initial_list = {'a': 1000, 'f': 200, 'd': 300, 'c': 400, 'b': 500, 'e': 600}\n",
        "final_list = OrderedDict(dict(sorted(initial_list.items())))\n",
        "print(final_list)"
      ],
      "metadata": {
        "colab": {
          "base_uri": "https://localhost:8080/"
        },
        "id": "BUsS7ugR2huq",
        "outputId": "106f7c2d-55cc-4443-cbd6-cf05d2fdbe05"
      },
      "execution_count": 47,
      "outputs": [
        {
          "output_type": "stream",
          "name": "stdout",
          "text": [
            "OrderedDict([('a', 1000), ('b', 500), ('c', 400), ('d', 300), ('e', 600), ('f', 200)])\n"
          ]
        }
      ]
    },
    {
      "cell_type": "markdown",
      "source": [
        "7. Write a Python program to sort Python Dictionaries by Key or Value?"
      ],
      "metadata": {
        "id": "BLGLfeuXl27R"
      }
    },
    {
      "cell_type": "code",
      "source": [
        "d_items = {'Mango':100,'PineApple':22,'Banana':60,'Grape':13}\n",
        "def sort_dict(in_dict,sort_type):\n",
        "    if sort_type == 'key':\n",
        "        print(dict(sorted(in_dict.items(), key=lambda x:x[0], reverse=False)))\n",
        "    else:\n",
        "        print(dict(sorted(in_dict.items(), key=lambda x:x[1], reverse=False)))\n",
        "sort_dict(d_items,'key')        \n",
        "sort_dict(d_items,'value')"
      ],
      "metadata": {
        "colab": {
          "base_uri": "https://localhost:8080/"
        },
        "id": "17vUE-os2p9T",
        "outputId": "cf147479-e62f-4a29-b2c4-76c4cfac106a"
      },
      "execution_count": 52,
      "outputs": [
        {
          "output_type": "stream",
          "name": "stdout",
          "text": [
            "{'Banana': 60, 'Grape': 13, 'Mango': 100, 'PineApple': 22}\n",
            "{'Grape': 13, 'PineApple': 22, 'Banana': 60, 'Mango': 100}\n"
          ]
        }
      ]
    }
  ]
}
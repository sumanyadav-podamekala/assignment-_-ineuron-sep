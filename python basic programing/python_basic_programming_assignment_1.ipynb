{
  "nbformat": 4,
  "nbformat_minor": 0,
  "metadata": {
    "colab": {
      "provenance": [],
      "collapsed_sections": []
    },
    "kernelspec": {
      "name": "python3",
      "display_name": "Python 3"
    },
    "language_info": {
      "name": "python"
    }
  },
  "cells": [
    {
      "cell_type": "markdown",
      "source": [
        "1.\tWrite a Python program to print \"Hello Python\"?\n",
        "\n"
      ],
      "metadata": {
        "id": "1CGcWkm_j7ky"
      }
    },
    {
      "cell_type": "code",
      "source": [
        "print(\"Hello Python\")"
      ],
      "metadata": {
        "colab": {
          "base_uri": "https://localhost:8080/"
        },
        "id": "HWIx3cuBkO3-",
        "outputId": "595680a5-9e18-420f-f954-1c2c470b3573"
      },
      "execution_count": 17,
      "outputs": [
        {
          "output_type": "stream",
          "name": "stdout",
          "text": [
            "Hello Python\n"
          ]
        }
      ]
    },
    {
      "cell_type": "markdown",
      "source": [
        "2.\tWrite a Python program to do arithmetical operations addition and division.?\n"
      ],
      "metadata": {
        "id": "GBbcdzP6j7nq"
      }
    },
    {
      "cell_type": "code",
      "source": [
        "def add(a,b):\n",
        "  \"\"\" function to add two numbers\"\"\"\n",
        "  k=a+b\n",
        "  return k\n",
        "def division(a,b):\n",
        "  \"\"\" function to dividion(a/b) two numbers\"\"\"\n",
        "  l=a/b\n",
        "  return l"
      ],
      "metadata": {
        "id": "gBqnjqdAkVeu"
      },
      "execution_count": 18,
      "outputs": []
    },
    {
      "cell_type": "code",
      "source": [
        "print(add(10,2))\n",
        "print(division(10,2))"
      ],
      "metadata": {
        "colab": {
          "base_uri": "https://localhost:8080/"
        },
        "id": "dozl0ISMl0n0",
        "outputId": "42a9274e-1607-46ab-a2c1-db4bd61b03fd"
      },
      "execution_count": 19,
      "outputs": [
        {
          "output_type": "stream",
          "name": "stdout",
          "text": [
            "12\n",
            "5.0\n"
          ]
        }
      ]
    },
    {
      "cell_type": "markdown",
      "source": [
        "3.\tWrite a Python program to find the area of a triangle?\n"
      ],
      "metadata": {
        "id": "5Rqzef5fj7qD"
      }
    },
    {
      "cell_type": "code",
      "source": [
        "b= float(input( \"enter length of bade of triangle: \"))\n",
        "h= float(input( \"enter length of height of triangle: \"))\n",
        "\n",
        "area=(.5*b*h)\n",
        "print(area)\n"
      ],
      "metadata": {
        "colab": {
          "base_uri": "https://localhost:8080/"
        },
        "id": "0RBEgXzZmSpC",
        "outputId": "5dd41134-68bc-457c-c714-c487eba241c7"
      },
      "execution_count": 31,
      "outputs": [
        {
          "output_type": "stream",
          "name": "stdout",
          "text": [
            "enter length of bade of triangle: 12\n",
            "enter length of height of triangle: 10\n",
            "60.0\n"
          ]
        }
      ]
    },
    {
      "cell_type": "markdown",
      "source": [
        "4.\tWrite a Python program to swap two variables?\n"
      ],
      "metadata": {
        "id": "Dgf4wGz6j7v6"
      }
    },
    {
      "cell_type": "code",
      "source": [
        "x=int(input(\" before swapping value of x: \"))\n",
        "y=int(input( \" before swapping value of y: \"))\n",
        "x,y=y,x\n",
        "print(\"after swapping value of x: \", x)\n",
        "print(\"after swapping value of y: \", y)"
      ],
      "metadata": {
        "colab": {
          "base_uri": "https://localhost:8080/"
        },
        "id": "RvWozrKq0cJz",
        "outputId": "3f221e82-6f8f-4a5c-db72-7031b87447dd"
      },
      "execution_count": 32,
      "outputs": [
        {
          "output_type": "stream",
          "name": "stdout",
          "text": [
            " before swapping value of x: 12\n",
            " before swapping value of y: 10\n",
            "after swapping value of x:  10\n",
            "after swapping value of y:  12\n"
          ]
        }
      ]
    },
    {
      "cell_type": "markdown",
      "source": [
        "5.\tWrite a Python program to generate a random number?"
      ],
      "metadata": {
        "id": "1XKa6Yogj7ym"
      }
    },
    {
      "cell_type": "code",
      "source": [
        "import random\n",
        "print(random.randint(0, 100000000))"
      ],
      "metadata": {
        "colab": {
          "base_uri": "https://localhost:8080/"
        },
        "id": "cCv95M1E1787",
        "outputId": "829afbbc-2d14-4d9d-c378-e8deec29dec7"
      },
      "execution_count": 30,
      "outputs": [
        {
          "output_type": "stream",
          "name": "stdout",
          "text": [
            "64922197\n"
          ]
        }
      ]
    },
    {
      "cell_type": "code",
      "source": [],
      "metadata": {
        "id": "H0H-vWtu1_fm"
      },
      "execution_count": null,
      "outputs": []
    }
  ]
}
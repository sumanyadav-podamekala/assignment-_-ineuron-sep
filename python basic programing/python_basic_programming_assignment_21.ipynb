{
  "nbformat": 4,
  "nbformat_minor": 0,
  "metadata": {
    "colab": {
      "provenance": []
    },
    "kernelspec": {
      "name": "python3",
      "display_name": "Python 3"
    },
    "language_info": {
      "name": "python"
    }
  },
  "cells": [
    {
      "cell_type": "markdown",
      "source": [
        "Question1\n",
        "\n",
        "Write a function that takes a list and a number as arguments. Add the number to the end of\n",
        "the list, then remove the first element of the list. The function should then return the updated\n",
        "list.\n",
        "\n",
        "Examples\n",
        "\n",
        "next_in_line([5, 6, 7, 8, 9], 1) ➞ [6, 7, 8, 9, 1]\n",
        "\n",
        "next_in_line([7, 6, 3, 23, 17], 10) ➞ [6, 3, 23, 17, 10]\n",
        "\n",
        "next_in_line([1, 10, 20, 42 ], 6) ➞ [10, 20, 42, 6]\n",
        "\n",
        "\n",
        "next_in_line([], 6) ➞ &quot;No list has been selected&quot;"
      ],
      "metadata": {
        "id": "9VF9-GkZdiPo"
      }
    },
    {
      "cell_type": "code",
      "source": [
        "def  next_in_line(a,b):\n",
        "  if len(a)>1:\n",
        "    a.append(b)\n",
        "    k=[ i for i in a[1::]]\n",
        "    return k\n",
        "  else:\n",
        "    return \"No list has been selected\""
      ],
      "metadata": {
        "id": "KRvq4FPydm4M"
      },
      "execution_count": 9,
      "outputs": []
    },
    {
      "cell_type": "code",
      "source": [
        "next_in_line([5, 6, 7, 8, 9], 1)"
      ],
      "metadata": {
        "colab": {
          "base_uri": "https://localhost:8080/"
        },
        "id": "9YvAzaPaeOjY",
        "outputId": "5fd4004b-7640-4629-de55-a778ed92aeb3"
      },
      "execution_count": 10,
      "outputs": [
        {
          "output_type": "execute_result",
          "data": {
            "text/plain": [
              "[6, 7, 8, 9, 1]"
            ]
          },
          "metadata": {},
          "execution_count": 10
        }
      ]
    },
    {
      "cell_type": "code",
      "source": [
        "next_in_line([7, 6, 3, 23, 17], 10)"
      ],
      "metadata": {
        "colab": {
          "base_uri": "https://localhost:8080/"
        },
        "id": "x51ssg9zej3Q",
        "outputId": "46381a3b-9538-4ddb-b5bc-5ad063fdbe66"
      },
      "execution_count": 11,
      "outputs": [
        {
          "output_type": "execute_result",
          "data": {
            "text/plain": [
              "[6, 3, 23, 17, 10]"
            ]
          },
          "metadata": {},
          "execution_count": 11
        }
      ]
    },
    {
      "cell_type": "code",
      "source": [
        "next_in_line([1, 10, 20, 42 ], 6)"
      ],
      "metadata": {
        "colab": {
          "base_uri": "https://localhost:8080/"
        },
        "id": "eIg-nb2ielWw",
        "outputId": "0803ab73-b4b7-471f-f963-2021ffc78e33"
      },
      "execution_count": 12,
      "outputs": [
        {
          "output_type": "execute_result",
          "data": {
            "text/plain": [
              "[10, 20, 42, 6]"
            ]
          },
          "metadata": {},
          "execution_count": 12
        }
      ]
    },
    {
      "cell_type": "code",
      "source": [
        "next_in_line([], 6)"
      ],
      "metadata": {
        "colab": {
          "base_uri": "https://localhost:8080/",
          "height": 35
        },
        "id": "pitJwrDdfLNa",
        "outputId": "4adbe5ab-20c6-4a27-a109-ad57fa1d1cf0"
      },
      "execution_count": 13,
      "outputs": [
        {
          "output_type": "execute_result",
          "data": {
            "text/plain": [
              "'No list has been selected'"
            ],
            "application/vnd.google.colaboratory.intrinsic+json": {
              "type": "string"
            }
          },
          "metadata": {},
          "execution_count": 13
        }
      ]
    },
    {
      "cell_type": "markdown",
      "source": [
        "Question2\n",
        "\n",
        "Create the function that takes a list of dictionaries and returns the sum of people&#39;s budgets.\n",
        "\n",
        "Examples\n",
        "\n",
        "get_budgets([\n",
        "{ &quot;name&quot;: &quot;John&quot;, &quot;age&quot;: 21, &quot;budget&quot;: 23000 },\n",
        "{ &quot;name&quot;: &quot;Steve&quot;, &quot;age&quot;: 32, &quot;budget&quot;: 40000 },\n",
        "{ &quot;name&quot;: &quot;Martin&quot;, &quot;age&quot;: 16, &quot;budget&quot;: 2700 }\n",
        "]) ➞ 65700\n",
        "\n",
        "get_budgets([\n",
        "{ &quot;name&quot;: &quot;John&quot;, &quot;age&quot;: 21, &quot;budget&quot;: 29000 },\n",
        "{ &quot;name&quot;: &quot;Steve&quot;, &quot;age&quot;: 32, &quot;budget&quot;: 32000 },\n",
        "{ &quot;name&quot;: &quot;Martin&quot;, &quot;age&quot;: 16, &quot;budget&quot;: 1600 }\n",
        "]) ➞ 62600"
      ],
      "metadata": {
        "id": "GVhtWFkSeVnI"
      }
    },
    {
      "cell_type": "code",
      "source": [],
      "metadata": {
        "id": "jB0_LIM4jxDI"
      },
      "execution_count": null,
      "outputs": []
    },
    {
      "cell_type": "code",
      "source": [
        "def get_budgets(a):\n",
        "  b=0\n",
        "  for i in range(len(a)):\n",
        "    b=b+ a[i][\"budget\"]\n",
        "  return b"
      ],
      "metadata": {
        "id": "Q3hDGpWAfpz9"
      },
      "execution_count": 4,
      "outputs": []
    },
    {
      "cell_type": "code",
      "source": [
        "get_budgets([ { \"name\": \"John\", \"age\": 21, \"budget\": 23000 }, { \"name\": \"Steve\", \"age\": 32, \"budget\": 40000 }, { \"name\": \"Martin\", \"age\": 16, \"budget\": 2700 } ])"
      ],
      "metadata": {
        "colab": {
          "base_uri": "https://localhost:8080/"
        },
        "id": "-O-rqpMSg1RB",
        "outputId": "2cefe413-b071-4891-ebe2-29cdb32771a2"
      },
      "execution_count": 5,
      "outputs": [
        {
          "output_type": "execute_result",
          "data": {
            "text/plain": [
              "65700"
            ]
          },
          "metadata": {},
          "execution_count": 5
        }
      ]
    },
    {
      "cell_type": "code",
      "source": [
        "get_budgets([ { \"name\": \"John\", \"age\": 21, \"budget\": 29000 }, { \"name\": \"Steve\", \"age\": 32, \"budget\": 32000 }, { \"name\": \"Martin\", \"age\": 16, \"budget\": 1600 } ])"
      ],
      "metadata": {
        "colab": {
          "base_uri": "https://localhost:8080/"
        },
        "id": "WaBfBS1Ij1OO",
        "outputId": "2d1b79c5-1707-4874-f4b9-94c239c3896d"
      },
      "execution_count": 8,
      "outputs": [
        {
          "output_type": "execute_result",
          "data": {
            "text/plain": [
              "62600"
            ]
          },
          "metadata": {},
          "execution_count": 8
        }
      ]
    },
    {
      "cell_type": "markdown",
      "source": [
        "Question3\n",
        "\n",
        "Create a function that takes a string and returns a string with its letters in alphabetical order.\n",
        "\n",
        "Examples\n",
        "\n",
        "alphabet_soup(&quot;hello&quot;) ➞ &quot;ehllo&quot;\n",
        "\n",
        "alphabet_soup(&quot;edabit&quot;) ➞ &quot;abdeit&quot;\n",
        "\n",
        "alphabet_soup(&quot;hacker&quot;) ➞ &quot;acehkr&quot;\n",
        "\n",
        "alphabet_soup(&quot;geek&quot;) ➞ &quot;eegk&quot;\n",
        "\n",
        "alphabet_soup(&quot;javascript&quot;) ➞ &quot;aacijprstv&quot;"
      ],
      "metadata": {
        "id": "xncmsVv9j95W"
      }
    },
    {
      "cell_type": "code",
      "source": [
        "def alphabet_soup(a):\n",
        "  l= \"\".join(sorted(a))\n",
        "  return (l)"
      ],
      "metadata": {
        "id": "IG7P4zbxkJZp"
      },
      "execution_count": 15,
      "outputs": []
    },
    {
      "cell_type": "code",
      "source": [
        "alphabet_soup(\"hello\")"
      ],
      "metadata": {
        "colab": {
          "base_uri": "https://localhost:8080/",
          "height": 35
        },
        "id": "Phs6GC9Nkbnp",
        "outputId": "e837d7d7-cb9e-4ec2-a13f-66c6b6fbc6bc"
      },
      "execution_count": 16,
      "outputs": [
        {
          "output_type": "execute_result",
          "data": {
            "text/plain": [
              "'ehllo'"
            ],
            "application/vnd.google.colaboratory.intrinsic+json": {
              "type": "string"
            }
          },
          "metadata": {},
          "execution_count": 16
        }
      ]
    },
    {
      "cell_type": "code",
      "source": [
        "alphabet_soup(\"edabit\")"
      ],
      "metadata": {
        "colab": {
          "base_uri": "https://localhost:8080/",
          "height": 35
        },
        "id": "AhBXUNHlk3fv",
        "outputId": "d52803db-2756-4b02-ed8d-859023d9c6e9"
      },
      "execution_count": 17,
      "outputs": [
        {
          "output_type": "execute_result",
          "data": {
            "text/plain": [
              "'abdeit'"
            ],
            "application/vnd.google.colaboratory.intrinsic+json": {
              "type": "string"
            }
          },
          "metadata": {},
          "execution_count": 17
        }
      ]
    },
    {
      "cell_type": "code",
      "source": [
        "alphabet_soup(\"hacker\")"
      ],
      "metadata": {
        "colab": {
          "base_uri": "https://localhost:8080/",
          "height": 35
        },
        "id": "tK53sEV4k9-J",
        "outputId": "5f76f175-f3ab-4b52-a0c4-75c9206307e4"
      },
      "execution_count": 18,
      "outputs": [
        {
          "output_type": "execute_result",
          "data": {
            "text/plain": [
              "'acehkr'"
            ],
            "application/vnd.google.colaboratory.intrinsic+json": {
              "type": "string"
            }
          },
          "metadata": {},
          "execution_count": 18
        }
      ]
    },
    {
      "cell_type": "code",
      "source": [
        "alphabet_soup(\"geek\")"
      ],
      "metadata": {
        "colab": {
          "base_uri": "https://localhost:8080/",
          "height": 35
        },
        "id": "gu_wB6S-lAfe",
        "outputId": "93c7154b-081c-4c72-b5f7-ad540385aed9"
      },
      "execution_count": 19,
      "outputs": [
        {
          "output_type": "execute_result",
          "data": {
            "text/plain": [
              "'eegk'"
            ],
            "application/vnd.google.colaboratory.intrinsic+json": {
              "type": "string"
            }
          },
          "metadata": {},
          "execution_count": 19
        }
      ]
    },
    {
      "cell_type": "code",
      "source": [
        "alphabet_soup(\"javascript\")"
      ],
      "metadata": {
        "colab": {
          "base_uri": "https://localhost:8080/",
          "height": 35
        },
        "id": "7iG-eMbClDhG",
        "outputId": "f19843dc-3d9d-4195-dbfa-4c9a87c23c4d"
      },
      "execution_count": 20,
      "outputs": [
        {
          "output_type": "execute_result",
          "data": {
            "text/plain": [
              "'aacijprstv'"
            ],
            "application/vnd.google.colaboratory.intrinsic+json": {
              "type": "string"
            }
          },
          "metadata": {},
          "execution_count": 20
        }
      ]
    },
    {
      "cell_type": "code",
      "source": [],
      "metadata": {
        "id": "KpHqk3NAl6jQ"
      },
      "execution_count": null,
      "outputs": []
    },
    {
      "cell_type": "markdown",
      "source": [
        "Question4\n",
        "\n",
        "Suppose that you invest $10,000 for 10 years at an interest rate of 6% compounded monthly.\n",
        "What will be the value of your investment at the end of the 10 year period?\n",
        "Create a function that accepts the principal p, the term in years t, the interest rate r, and the\n",
        "number of compounding periods per year n. The function returns the value at the end of term\n",
        "rounded to the nearest cent.\n",
        "\n",
        "For the example above:\n",
        "\n",
        "compound_interest(10000, 10, 0.06, 12) ➞ 18193.97\n",
        "\n",
        "Note that the interest rate is given as a decimal and n=12 because with monthly compounding\n",
        "there are 12 periods per year. Compounding can also be done annually, quarterly, weekly, or\n",
        "daily.\n",
        "\n",
        "Examples\n",
        "\n",
        "compound_interest(100, 1, 0.05, 1) ➞ 105.0\n",
        "\n",
        "compound_interest(3500, 15, 0.1, 4) ➞ 15399.26\n",
        "\n",
        "compound_interest(100000, 20, 0.15, 365) ➞ 2007316.26"
      ],
      "metadata": {
        "id": "rdbyEwoMl6-v"
      }
    },
    {
      "cell_type": "code",
      "source": [
        "def compound_interest(p,t,r,n):\n",
        "    ci = p*(1+(r/n))**(n*t)\n",
        "    return ci\n"
      ],
      "metadata": {
        "id": "7fnZCR5unZzX"
      },
      "execution_count": 22,
      "outputs": []
    },
    {
      "cell_type": "code",
      "source": [
        "compound_interest(100, 1, 0.05, 1)"
      ],
      "metadata": {
        "colab": {
          "base_uri": "https://localhost:8080/"
        },
        "id": "dyg_twLmnjmg",
        "outputId": "9f796eae-306a-4b10-be61-8546d7bd5b10"
      },
      "execution_count": 23,
      "outputs": [
        {
          "output_type": "execute_result",
          "data": {
            "text/plain": [
              "105.0"
            ]
          },
          "metadata": {},
          "execution_count": 23
        }
      ]
    },
    {
      "cell_type": "code",
      "source": [
        "compound_interest(3500, 15, 0.1, 4)"
      ],
      "metadata": {
        "colab": {
          "base_uri": "https://localhost:8080/"
        },
        "id": "v07bZgGqnmSv",
        "outputId": "4351e697-ddef-4bb3-e2cd-d01b29c58b0a"
      },
      "execution_count": 24,
      "outputs": [
        {
          "output_type": "execute_result",
          "data": {
            "text/plain": [
              "15399.264120852586"
            ]
          },
          "metadata": {},
          "execution_count": 24
        }
      ]
    },
    {
      "cell_type": "code",
      "source": [
        "compound_interest(100000, 20, 0.15, 365)"
      ],
      "metadata": {
        "colab": {
          "base_uri": "https://localhost:8080/"
        },
        "id": "N87nRY_Qnvbn",
        "outputId": "8dca434e-958b-4303-cdf7-38313204e0f3"
      },
      "execution_count": 25,
      "outputs": [
        {
          "output_type": "execute_result",
          "data": {
            "text/plain": [
              "2007316.2632325366"
            ]
          },
          "metadata": {},
          "execution_count": 25
        }
      ]
    },
    {
      "cell_type": "code",
      "source": [],
      "metadata": {
        "id": "PtALGcPhoHKe"
      },
      "execution_count": null,
      "outputs": []
    },
    {
      "cell_type": "markdown",
      "source": [
        "Question5\n",
        "\n",
        "Write a function that takes a list of elements and returns only the integers.\n",
        "\n",
        "Examples\n",
        "\n",
        "return_only_integer([9, 2, &quot;space&quot;, &quot;car&quot;, &quot;lion&quot;, 16]) ➞ [9, 2, 16]\n",
        "\n",
        "return_only_integer([&quot;hello&quot;, 81, &quot;basketball&quot;, 123, &quot;fox&quot;]) ➞ [81, 123]\n",
        "\n",
        "return_only_integer([10, &quot;121&quot;, 56, 20, &quot;car&quot;, 3, &quot;lion&quot;]) ➞ [10, 56, 20,\n",
        "3]\n",
        "\n",
        "return_only_integer([&quot;String&quot;, True, 3.3, 1]) ➞ [1]"
      ],
      "metadata": {
        "id": "-GDKArkdoHlW"
      }
    },
    {
      "cell_type": "code",
      "source": [
        "def  return_only_integer(a):\n",
        "  l=[ i for i in a if type(i)==int]\n",
        "  return l"
      ],
      "metadata": {
        "id": "CCOWU37JoMtG"
      },
      "execution_count": 26,
      "outputs": []
    },
    {
      "cell_type": "code",
      "source": [
        "return_only_integer([9, 2, \"space\", \"car\", \"lion\", 16])"
      ],
      "metadata": {
        "colab": {
          "base_uri": "https://localhost:8080/"
        },
        "id": "Z28eUC65ocUf",
        "outputId": "d923ab81-ae4a-4e16-b1c6-412a71c900cd"
      },
      "execution_count": 27,
      "outputs": [
        {
          "output_type": "execute_result",
          "data": {
            "text/plain": [
              "[9, 2, 16]"
            ]
          },
          "metadata": {},
          "execution_count": 27
        }
      ]
    },
    {
      "cell_type": "code",
      "source": [
        "return_only_integer([\"hello\", 81, \"basketball\", 123, \"fox\"])"
      ],
      "metadata": {
        "colab": {
          "base_uri": "https://localhost:8080/"
        },
        "id": "jDCju0LVogGQ",
        "outputId": "293b9d42-50e2-414f-c6e1-11d8d1b7429d"
      },
      "execution_count": 28,
      "outputs": [
        {
          "output_type": "execute_result",
          "data": {
            "text/plain": [
              "[81, 123]"
            ]
          },
          "metadata": {},
          "execution_count": 28
        }
      ]
    },
    {
      "cell_type": "code",
      "source": [
        "return_only_integer([10, \"121\", 56, 20, \"car\", 3, \"lion\"])"
      ],
      "metadata": {
        "colab": {
          "base_uri": "https://localhost:8080/"
        },
        "id": "beHCRdKbok5H",
        "outputId": "1b24a6c1-40ae-4a34-94b7-fffadfac728c"
      },
      "execution_count": 29,
      "outputs": [
        {
          "output_type": "execute_result",
          "data": {
            "text/plain": [
              "[10, 56, 20, 3]"
            ]
          },
          "metadata": {},
          "execution_count": 29
        }
      ]
    },
    {
      "cell_type": "code",
      "source": [
        "return_only_integer([\"String\", True, 3.3, 1])"
      ],
      "metadata": {
        "colab": {
          "base_uri": "https://localhost:8080/"
        },
        "id": "0nsjoLx1oncf",
        "outputId": "1c185d24-d336-4a35-fb4d-7c2545461a3a"
      },
      "execution_count": 30,
      "outputs": [
        {
          "output_type": "execute_result",
          "data": {
            "text/plain": [
              "[1]"
            ]
          },
          "metadata": {},
          "execution_count": 30
        }
      ]
    },
    {
      "cell_type": "code",
      "source": [],
      "metadata": {
        "id": "mmw-rSecoleu"
      },
      "execution_count": null,
      "outputs": []
    }
  ]
}
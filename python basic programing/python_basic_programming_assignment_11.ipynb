{
  "nbformat": 4,
  "nbformat_minor": 0,
  "metadata": {
    "colab": {
      "provenance": [],
      "collapsed_sections": []
    },
    "kernelspec": {
      "name": "python3",
      "display_name": "Python 3"
    },
    "language_info": {
      "name": "python"
    }
  },
  "cells": [
    {
      "cell_type": "markdown",
      "source": [
        "1. Write a Python program to find words which are greater than given length k?\n"
      ],
      "metadata": {
        "id": "h0awDUU4zxk7"
      }
    },
    {
      "cell_type": "code",
      "source": [
        "a=input(\"enter the word: \")\n",
        "k=int(input( \" give certain length criteria: \"))\n",
        "w= [ i for i in a.split() if len(i)> k]\n",
        "w"
      ],
      "metadata": {
        "colab": {
          "base_uri": "https://localhost:8080/"
        },
        "id": "fPQUgttB0cpK",
        "outputId": "3e6cff2b-a5ce-41c3-8821-448c4e32db03"
      },
      "execution_count": 101,
      "outputs": [
        {
          "name": "stdout",
          "output_type": "stream",
          "text": [
            "enter the word: suman yadav my anme .what is yiur name\n",
            " give certain length criteria: 2\n"
          ]
        },
        {
          "output_type": "execute_result",
          "data": {
            "text/plain": [
              "['suman', 'yadav', 'anme', '.what', 'yiur', 'name']"
            ]
          },
          "metadata": {},
          "execution_count": 101
        }
      ]
    },
    {
      "cell_type": "markdown",
      "source": [
        "2. Write a Python program for removing i-th character from a string?\n"
      ],
      "metadata": {
        "id": "ZrlHVIXM0FDz"
      }
    },
    {
      "cell_type": "code",
      "source": [
        "def remove_char(s, i):\n",
        "\n",
        "    for j in range(len(s)):\n",
        "        if j==i:\n",
        "            s=s.replace(s[i],\"\", 1)\n",
        "    return s"
      ],
      "metadata": {
        "id": "CFWp2jkfASFR"
      },
      "execution_count": 102,
      "outputs": []
    },
    {
      "cell_type": "code",
      "source": [
        "remove_char(\"suman\", 3)"
      ],
      "metadata": {
        "colab": {
          "base_uri": "https://localhost:8080/",
          "height": 35
        },
        "id": "V3xebHuUAdhn",
        "outputId": "449b3e2b-8e3c-41a8-9255-bf1d058a4239"
      },
      "execution_count": 103,
      "outputs": [
        {
          "output_type": "execute_result",
          "data": {
            "text/plain": [
              "'sumn'"
            ],
            "application/vnd.google.colaboratory.intrinsic+json": {
              "type": "string"
            }
          },
          "metadata": {},
          "execution_count": 103
        }
      ]
    },
    {
      "cell_type": "markdown",
      "source": [
        "3. Write a Python program to split and join a string?\n"
      ],
      "metadata": {
        "id": "QF0EwwpK0GYq"
      }
    },
    {
      "cell_type": "code",
      "source": [
        "def splitJoinString():\n",
        "    string = input('Enter the string: ')\n",
        "    print(f\"Split String: {string.split(' ')}\")\n",
        "    print(f\"Join String: {' '.join(string.split(' '))}\")\n"
      ],
      "metadata": {
        "id": "LCyd4j_HCXK6"
      },
      "execution_count": 104,
      "outputs": []
    },
    {
      "cell_type": "code",
      "source": [
        "splitJoinString()"
      ],
      "metadata": {
        "colab": {
          "base_uri": "https://localhost:8080/"
        },
        "id": "7E40v8yACiQv",
        "outputId": "3fe15d05-44df-4dd8-b924-8495172d8333"
      },
      "execution_count": 105,
      "outputs": [
        {
          "output_type": "stream",
          "name": "stdout",
          "text": [
            "Enter the string: suman yadav my anme\n",
            "Split String: ['suman', 'yadav', 'my', 'anme']\n",
            "Join String: suman yadav my anme\n"
          ]
        }
      ]
    },
    {
      "cell_type": "markdown",
      "source": [
        "4. Write a Python to check if a given string is binary string or not?\n"
      ],
      "metadata": {
        "id": "tpnvo9620HxT"
      }
    },
    {
      "cell_type": "code",
      "source": [
        "def checkBinary():\n",
        "    string = input('Enter the string: ')\n",
        "    t = 0\n",
        "    for i in string:\n",
        "        if i in ['0','1']:\n",
        "            t = 1\n",
        "            continue\n",
        "        else:\n",
        "            t = 0\n",
        "            break\n",
        "    statement = 'is a binary string' if t == 1 else 'is not a binary string' \n",
        "    print(f'{string} {statement}')"
      ],
      "metadata": {
        "id": "0SsajyXuDTxf"
      },
      "execution_count": 106,
      "outputs": []
    },
    {
      "cell_type": "code",
      "source": [
        "\n",
        "checkBinary()"
      ],
      "metadata": {
        "colab": {
          "base_uri": "https://localhost:8080/"
        },
        "id": "1P1iO-9eD8Qh",
        "outputId": "e694b151-ba5e-4b73-a7de-10b214c7e538"
      },
      "execution_count": 107,
      "outputs": [
        {
          "output_type": "stream",
          "name": "stdout",
          "text": [
            "Enter the string: 10101010\n",
            "10101010 is a binary string\n"
          ]
        }
      ]
    },
    {
      "cell_type": "code",
      "source": [
        "checkBinary()"
      ],
      "metadata": {
        "colab": {
          "base_uri": "https://localhost:8080/"
        },
        "id": "77lLbEraDdI2",
        "outputId": "386b7033-1823-49ba-8d97-6187b75018c6"
      },
      "execution_count": null,
      "outputs": [
        {
          "output_type": "stream",
          "name": "stdout",
          "text": [
            "Enter the string: 101010\n",
            "101010 is a binary string\n"
          ]
        }
      ]
    },
    {
      "cell_type": "markdown",
      "source": [
        "5. Write a Python program to find uncommon words from two Strings?\n"
      ],
      "metadata": {
        "id": "FiUMHdeS0I_U"
      }
    },
    {
      "cell_type": "code",
      "source": [
        "def  uncommon_words():\n",
        "  s1=input(\"enter the string s1: \")\n",
        "  s2= input(\"enter the string s2: \")\n",
        "  s1=set(s1.split())\n",
        "  s2= set(s2.split())\n",
        "  k=   (s1.union(s2)).difference(s1.intersection(s2))\n",
        "  m=list(k)\n",
        "  return m"
      ],
      "metadata": {
        "id": "NOCpkI5nxj6v"
      },
      "execution_count": 98,
      "outputs": []
    },
    {
      "cell_type": "code",
      "source": [
        "uncommon_words()"
      ],
      "metadata": {
        "colab": {
          "base_uri": "https://localhost:8080/"
        },
        "id": "socLZ8_T0t6x",
        "outputId": "9d903d7f-8855-4403-d950-631552fe09cb"
      },
      "execution_count": 99,
      "outputs": [
        {
          "name": "stdout",
          "output_type": "stream",
          "text": [
            "enter the string s1suman yadav mohan yadav\n",
            "enter the string s2raveendra yadav indira yadav\n"
          ]
        },
        {
          "output_type": "execute_result",
          "data": {
            "text/plain": [
              "['suman', 'indira', 'mohan', 'raveendra']"
            ]
          },
          "metadata": {},
          "execution_count": 99
        }
      ]
    },
    {
      "cell_type": "markdown",
      "source": [
        "6. Write a Python to find all duplicate characters in string?\n"
      ],
      "metadata": {
        "id": "Ht93aYnv0J_D"
      }
    },
    {
      "cell_type": "code",
      "source": [
        "def duplicateChars():\n",
        "    a = input('Enter the string: ')\n",
        "    N_duplicate_list = []\n",
        "    duplicate_list = []\n",
        "    for i in a:\n",
        "        if i not in N_duplicate_list:\n",
        "            N_duplicate_list.append(i)\n",
        "        else:\n",
        "            duplicate_list.append(i)\n",
        "    print(f'we have {len(list(set(duplicate_list)))} duplicate characters are: {list(set(duplicate_list))}')"
      ],
      "metadata": {
        "id": "TqD5Z0KatAev"
      },
      "execution_count": 80,
      "outputs": []
    },
    {
      "cell_type": "code",
      "source": [
        "duplicateChars()\n"
      ],
      "metadata": {
        "colab": {
          "base_uri": "https://localhost:8080/"
        },
        "id": "mxGAdB1vv_UX",
        "outputId": "73cdc766-73af-446b-9712-3290e6be6716"
      },
      "execution_count": 81,
      "outputs": [
        {
          "output_type": "stream",
          "name": "stdout",
          "text": [
            "Enter the string: suman\n",
            "we have 0 duplicate characters are: []\n"
          ]
        }
      ]
    },
    {
      "cell_type": "code",
      "source": [
        "duplicateChars()\n",
        "\n"
      ],
      "metadata": {
        "colab": {
          "base_uri": "https://localhost:8080/"
        },
        "id": "ii6JCb1Ewfl_",
        "outputId": "fda28d34-2c87-48fc-9012-f56c26465e7a"
      },
      "execution_count": 82,
      "outputs": [
        {
          "output_type": "stream",
          "name": "stdout",
          "text": [
            "Enter the string: sumanyadav\n",
            "we have 1 duplicate characters are: ['a']\n"
          ]
        }
      ]
    },
    {
      "cell_type": "markdown",
      "source": [
        "7. Write a Python Program to check if a string contains any special character?"
      ],
      "metadata": {
        "id": "OvpyxAtW0LTS"
      }
    },
    {
      "cell_type": "code",
      "source": [
        "def checkspecial_character():\n",
        "  special_character = '[@_!#$%^&*()<>?/\\|}{~:]'\n",
        "  mystring=input(\" enter a string: \")\n",
        "  k=[]\n",
        "  count=0\n",
        "  for i in mystring:\n",
        "    if i in special_character:\n",
        "      k.append(i)\n",
        "      count=count+1\n",
        "  return  mystring ,\"have \",  count,\" special character\", k\n",
        "\n"
      ],
      "metadata": {
        "id": "kr7Q29tnvOhO"
      },
      "execution_count": 63,
      "outputs": []
    },
    {
      "cell_type": "code",
      "source": [
        " checkspecial_character()"
      ],
      "metadata": {
        "colab": {
          "base_uri": "https://localhost:8080/"
        },
        "id": "kNtI0Xc4lTSx",
        "outputId": "0fce9c24-4091-43e4-95c8-05a45c919bdd"
      },
      "execution_count": 64,
      "outputs": [
        {
          "name": "stdout",
          "output_type": "stream",
          "text": [
            " enter a string: suman!@#$@gmail.com\n"
          ]
        },
        {
          "output_type": "execute_result",
          "data": {
            "text/plain": [
              "('suman!@#$@gmail.com',\n",
              " 'have ',\n",
              " 5,\n",
              " ' special character',\n",
              " ['!', '@', '#', '$', '@'])"
            ]
          },
          "metadata": {},
          "execution_count": 64
        }
      ]
    },
    {
      "cell_type": "code",
      "source": [],
      "metadata": {
        "id": "kQXzJlOTpd1r"
      },
      "execution_count": null,
      "outputs": []
    }
  ]
}
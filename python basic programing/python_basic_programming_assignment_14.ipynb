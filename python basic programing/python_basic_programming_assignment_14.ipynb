{
  "nbformat": 4,
  "nbformat_minor": 0,
  "metadata": {
    "colab": {
      "provenance": []
    },
    "kernelspec": {
      "name": "python3",
      "display_name": "Python 3"
    },
    "language_info": {
      "name": "python"
    }
  },
  "cells": [
    {
      "cell_type": "markdown",
      "source": [
        "Define a class with a generator which can iterate the numbers, which are divisible by\n",
        "7, between a given range 0 and n."
      ],
      "metadata": {
        "id": "03Tx1H1XJ2j-"
      }
    },
    {
      "cell_type": "code",
      "source": [
        "class mynubers:\n",
        "  def __init__(self, num):\n",
        "    self.num= num\n",
        "  def divisibleby7(self):\n",
        "    for i in range(0, self.num+1):\n",
        "      if i%7 ==0 :\n",
        "        yield i\n"
      ],
      "metadata": {
        "id": "bUlLjUxuOcGS"
      },
      "execution_count": 20,
      "outputs": []
    },
    {
      "cell_type": "code",
      "source": [
        "k= mynubers(350).divisibleby7()\n",
        "for i in k:\n",
        "  print(i, end=\" \")"
      ],
      "metadata": {
        "colab": {
          "base_uri": "https://localhost:8080/"
        },
        "id": "DfcvDo-7beBn",
        "outputId": "55890687-0794-4977-b258-8cabe8be2eca"
      },
      "execution_count": 21,
      "outputs": [
        {
          "output_type": "stream",
          "name": "stdout",
          "text": [
            "0 7 14 21 28 35 42 49 56 63 70 77 84 91 98 105 112 119 126 133 140 147 154 161 168 175 182 189 196 203 210 217 224 231 238 245 252 259 266 273 280 287 294 301 308 315 322 329 336 343 350 "
          ]
        }
      ]
    },
    {
      "cell_type": "markdown",
      "source": [
        "Question 2:\n",
        "Write a program to compute the frequency of the words from the input. The output\n",
        "should output after sorting the key alphanumerically.\n",
        "\n",
        "Suppose the following input is supplied to the program:\n",
        "\n",
        "New to Python or choosing between Python 2 and Python 3? Read Python 2 or\n",
        "Python 3.\n",
        "\n",
        "Then, the output should be:\n",
        "\n",
        "2:2\n",
        "\n",
        "3.:1\n",
        "\n",
        "3?:1\n",
        "\n",
        "New:1\n",
        "\n",
        "Python:5\n",
        "\n",
        "Read:1\n",
        "\n",
        "and:1\n",
        "\n",
        "between:1\n",
        "\n",
        "choosing:1\n",
        "\n",
        "or:2\n",
        "\n",
        "to:1"
      ],
      "metadata": {
        "id": "v-ccQ6g4VEHr"
      }
    },
    {
      "cell_type": "code",
      "source": [
        "def myfrequency():\n",
        "    mystring = input(\"enter the string: \")\n",
        "    frequency = {}\n",
        "    for i in mystring.split(\" \"):\n",
        "        if(frequency.get(i) == None):\n",
        "            frequency[i] = 1\n",
        "        else:\n",
        "            frequency[i] += 1 \n",
        "    for i in sorted(frequency):\n",
        "        print(f'{i}:{frequency[i]}')\n",
        "myfrequency()"
      ],
      "metadata": {
        "colab": {
          "base_uri": "https://localhost:8080/"
        },
        "id": "Do17jeQHVBti",
        "outputId": "b33481b5-9348-460e-c361-c60de42dbeb1"
      },
      "execution_count": 3,
      "outputs": [
        {
          "output_type": "stream",
          "name": "stdout",
          "text": [
            "enter the string: New to Python or choosing between Python 2 and Python 3? Read Python 2 or Python 3.\n",
            "2:2\n",
            "3.:1\n",
            "3?:1\n",
            "New:1\n",
            "Python:5\n",
            "Read:1\n",
            "and:1\n",
            "between:1\n",
            "choosing:1\n",
            "or:2\n",
            "to:1\n"
          ]
        }
      ]
    },
    {
      "cell_type": "markdown",
      "source": [
        "3.Define a class Person and its two child classes: Male and Female. All classes have a method \"getGender\" which can print \"Male\" for Male class and \"Female\" for Female class. ?"
      ],
      "metadata": {
        "id": "En7-5cQcZNHW"
      }
    },
    {
      "cell_type": "code",
      "source": [
        "class Person():\n",
        "    def getGender():\n",
        "        pass\n",
        "class Male(Person):\n",
        "    def getGender():\n",
        "        print(\"Male\")\n",
        "class Female(Person):\n",
        "    def getGender():\n",
        "        print(\"Female\")"
      ],
      "metadata": {
        "id": "GyHdqy5AZM23"
      },
      "execution_count": 15,
      "outputs": []
    },
    {
      "cell_type": "code",
      "source": [
        "Male.getGender()\n",
        "Female.getGender()"
      ],
      "metadata": {
        "colab": {
          "base_uri": "https://localhost:8080/"
        },
        "id": "xRSyeuHlazkn",
        "outputId": "0b765181-f693-4153-ff6c-cec26a550224"
      },
      "execution_count": 16,
      "outputs": [
        {
          "output_type": "stream",
          "name": "stdout",
          "text": [
            "Male\n",
            "Female\n"
          ]
        }
      ]
    },
    {
      "cell_type": "markdown",
      "source": [
        "4.Please write a program to generate all sentences where subject is in [\"I\", \"You\"] and verb is in [\"Play\", \"Love\"] and the object is in [\"Hockey\",\"Football\"] ?"
      ],
      "metadata": {
        "id": "FHXNiluUaPcG"
      }
    },
    {
      "cell_type": "code",
      "source": [
        "def generatesentences():\n",
        "    subject = ['I','You']\n",
        "    verb = ['Play','Love']\n",
        "    object = ['Hockey','Football']\n",
        "    for s in subject:\n",
        "        for v in verb:\n",
        "            for o in object:\n",
        "                print(f'{s} {v} {o}')"
      ],
      "metadata": {
        "id": "IHhFCHU5TYNQ"
      },
      "execution_count": 17,
      "outputs": []
    },
    {
      "cell_type": "code",
      "source": [
        "generatesentences()  "
      ],
      "metadata": {
        "colab": {
          "base_uri": "https://localhost:8080/"
        },
        "id": "aoxlCv2RamlW",
        "outputId": "dc597a56-f2b9-47f3-d65c-5e428a0610c2"
      },
      "execution_count": 18,
      "outputs": [
        {
          "output_type": "stream",
          "name": "stdout",
          "text": [
            "I Play Hockey\n",
            "I Play Football\n",
            "I Love Hockey\n",
            "I Love Football\n",
            "You Play Hockey\n",
            "You Play Football\n",
            "You Love Hockey\n",
            "You Love Football\n"
          ]
        }
      ]
    },
    {
      "cell_type": "markdown",
      "source": [
        "5.Please write a program to compress and decompress the string \"hello world!hello world!hello world!hello world!\" ?"
      ],
      "metadata": {
        "id": "hoNjZtfkaXIG"
      }
    },
    {
      "cell_type": "code",
      "source": [
        "def compress(string):\n",
        "    output = string[0]\n",
        "    count = 1\n",
        "    for i in range(len(string)-1):\n",
        "        if string[i] == string[i+1]:\n",
        "            count +=1\n",
        "        else:\n",
        "            if count > 1:\n",
        "                output += str(count)\n",
        "            output += string[i+1]\n",
        "            count = 1\n",
        "    if count > 1:\n",
        "        output += str(count)            \n",
        "    print(output)\n",
        "def decompress(in_string):\n",
        "    output = ''\n",
        "    for i in range(len(in_string)):\n",
        "        if in_string[i].isdigit():\n",
        "            output += output[-1]*(int(in_string[i])-1)\n",
        "        else:\n",
        "            output += in_string[i]\n",
        "    print(output)\n"
      ],
      "metadata": {
        "id": "bx106uKXacnl"
      },
      "execution_count": 26,
      "outputs": []
    },
    {
      "cell_type": "code",
      "source": [
        "compress(\"hello world!hello world!hello world!hello world!\")\n",
        "decompress(\"hel2o world!hel2o world!hel2o world!hel2o world!\")"
      ],
      "metadata": {
        "colab": {
          "base_uri": "https://localhost:8080/"
        },
        "id": "9s3AVNq8cxyN",
        "outputId": "11211c4a-f691-4215-c3dc-dc8d473aa587"
      },
      "execution_count": 27,
      "outputs": [
        {
          "output_type": "stream",
          "name": "stdout",
          "text": [
            "hel2o world!hel2o world!hel2o world!hel2o world!\n",
            "hello world!hello world!hello world!hello world!\n"
          ]
        }
      ]
    },
    {
      "cell_type": "markdown",
      "source": [
        "6.Please write a binary search function which searches an item in a sorted list. The function should return the index of element to be searched in the list ?"
      ],
      "metadata": {
        "id": "x9KAx06Vcmym"
      }
    },
    {
      "cell_type": "code",
      "source": [
        "sorted_list = [1,2,3,4,5,6,7,8,9,10]\n",
        "def binary_search(in_list,in_num):\n",
        "    low = 0\n",
        "    high = len(in_list)-1\n",
        "    while low <= high:\n",
        "        mid = high+low//2\n",
        "        if in_list[mid] < in_num:\n",
        "            low = mid+1\n",
        "        elif in_list[mid] > in_num:\n",
        "            high = mid-1\n",
        "        else:\n",
        "            return mid\n",
        "    else:\n",
        "        return 'Input Element not in the list'\n",
        "    \n"
      ],
      "metadata": {
        "id": "hwCIaCyYcmL3"
      },
      "execution_count": 28,
      "outputs": []
    },
    {
      "cell_type": "code",
      "source": [
        "print(binary_search(sorted_list,8))\n",
        "print(binary_search(sorted_list,100))"
      ],
      "metadata": {
        "colab": {
          "base_uri": "https://localhost:8080/"
        },
        "id": "tuEf0k4Yc3d9",
        "outputId": "8d2f4de6-d458-4873-9700-0854a2dcd643"
      },
      "execution_count": 29,
      "outputs": [
        {
          "output_type": "stream",
          "name": "stdout",
          "text": [
            "7\n",
            "Input Element not in the list\n"
          ]
        }
      ]
    }
  ]
}
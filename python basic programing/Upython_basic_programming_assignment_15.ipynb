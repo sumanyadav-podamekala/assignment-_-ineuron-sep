{
  "nbformat": 4,
  "nbformat_minor": 0,
  "metadata": {
    "colab": {
      "provenance": [],
      "collapsed_sections": []
    },
    "kernelspec": {
      "name": "python3",
      "display_name": "Python 3"
    },
    "language_info": {
      "name": "python"
    }
  },
  "cells": [
    {
      "cell_type": "markdown",
      "source": [
        "https://drive.google.com/file/d/1Yg8d2Hj-LtWp0JrJOcuPuPZQswOqwe-U/view"
      ],
      "metadata": {
        "id": "j18BAUj8aaz8"
      }
    },
    {
      "cell_type": "markdown",
      "source": [
        "Question 1:\n",
        "\n",
        "Please write a program using generator to print the numbers which can be divisible by 5 and\n",
        "7 between 0 and n in comma separated form while n is input by console.\n",
        "\n",
        "Example:\n",
        "\n",
        "If the following n is given as input to the program:\n",
        " \n",
        "100\n",
        "\n",
        "Then, the output of the program should be:\n",
        "\n",
        "0,35,70"
      ],
      "metadata": {
        "id": "n7A1aCIVaepD"
      }
    },
    {
      "cell_type": "code",
      "source": [
        "n=int(input(\"enter the number:\"))\n",
        "output = []\n",
        "def numbers(n):\n",
        "    for i in range(n+1):\n",
        "        if i%5==0 and i%7==0:\n",
        "            yield i\n",
        "for i in numbers(n):\n",
        "    output.append(str(i))\n",
        "\n",
        "print( \",\".join(output))"
      ],
      "metadata": {
        "colab": {
          "base_uri": "https://localhost:8080/"
        },
        "id": "fs0KATYSBqKP",
        "outputId": "4c09cd2c-5912-4648-b341-966283d3cf40"
      },
      "execution_count": 25,
      "outputs": [
        {
          "output_type": "stream",
          "name": "stdout",
          "text": [
            "enter the number:100\n",
            "0,35,70\n"
          ]
        }
      ]
    },
    {
      "cell_type": "code",
      "source": [
        "10"
      ],
      "metadata": {
        "id": "Ms6PFYmnEQZe"
      },
      "execution_count": null,
      "outputs": []
    },
    {
      "cell_type": "markdown",
      "source": [
        "Please write a program using generator to print the even numbers between 0 and n in comma\n",
        "separated form while n is input by console.\n",
        "\n",
        "Example:\n",
        "\n",
        "If the following n is given as input to the program:\n",
        "\n",
        "10\n",
        "\n",
        "Then, the output of the program should be:\n",
        "\n",
        "0,2,4,6,8,10"
      ],
      "metadata": {
        "id": "LOAQ4eM2E3O9"
      }
    },
    {
      "cell_type": "code",
      "source": [
        "n=int(input(\"enter the number:\"))\n",
        "output = []\n",
        "def numbers(n):\n",
        "    for i in range(n+1):\n",
        "        if i%2==0:\n",
        "          yield i\n",
        "for i in numbers(n):\n",
        "    output.append(str(i))\n",
        "print( \",\".join(output))"
      ],
      "metadata": {
        "colab": {
          "base_uri": "https://localhost:8080/"
        },
        "id": "KCeSwZyzFEcc",
        "outputId": "d9b27285-cd41-4fbb-c5a6-0db4bc943d7d"
      },
      "execution_count": 26,
      "outputs": [
        {
          "output_type": "stream",
          "name": "stdout",
          "text": [
            "enter the number:10\n",
            "0,2,4,6,8,10\n"
          ]
        }
      ]
    },
    {
      "cell_type": "markdown",
      "source": [
        "Question 3:\n",
        "\n",
        "The Fibonacci Sequence is computed based on the following formula:\n",
        "\n",
        "f(n)=0 if n=0\n",
        "\n",
        "f(n)=1 if n=1\n",
        "\n",
        "f(n)=f(n-1)+f(n-2) if n&gt;1\n",
        "\n",
        "Please write a program using list comprehension to print the Fibonacci Sequence in comma\n",
        "separated form with a given n input by console.\n",
        "\n",
        "Example:\n",
        "\n",
        "If the following n is given as input to the program:\n",
        "\n",
        "7\n",
        "\n",
        "Then, the output of the program should be:\n",
        "\n",
        "0,1,1,2,3,5,8,13"
      ],
      "metadata": {
        "id": "q8hTRm6XFR-e"
      }
    },
    {
      "cell_type": "code",
      "source": [
        "def f(n):\n",
        "    if n == 0: \n",
        "      return 0\n",
        "    elif n == 1: \n",
        "      return 1\n",
        "    else: \n",
        "      return f(n-1)+f(n-2)\n",
        "n=int(input(\"enter the number:\"))\n",
        "output = [str(f(n)) for n in range(0, n+1)]\n",
        "print(\",\".join(output))"
      ],
      "metadata": {
        "colab": {
          "base_uri": "https://localhost:8080/"
        },
        "id": "sfyMAkooJYXJ",
        "outputId": "74d0b257-a8e6-4922-f953-6def2c625322"
      },
      "execution_count": 27,
      "outputs": [
        {
          "output_type": "stream",
          "name": "stdout",
          "text": [
            "enter the number:7\n",
            "0,1,1,2,3,5,8,13\n"
          ]
        }
      ]
    },
    {
      "cell_type": "markdown",
      "source": [
        "4. Assuming that we have some email addresses in the &quot;username@companyname.com&quot; format,\n",
        "please write program to print the user name of a given email address. Both user names and\n",
        "company names are composed of letters only.\n",
        "\n",
        "Example:\n",
        "\n",
        "If the following email address is given as input to the program:\n",
        "\n",
        "john@google.com\n",
        "\n",
        "Then, the output of the program should be:\n",
        "\n",
        "john"
      ],
      "metadata": {
        "id": "gAT2FEY0LHwq"
      }
    },
    {
      "cell_type": "code",
      "source": [
        "k=input()\n",
        "m=k.split(\"@\")\n",
        "print(m[0])"
      ],
      "metadata": {
        "colab": {
          "base_uri": "https://localhost:8080/"
        },
        "id": "fdZ8MjmvLjSy",
        "outputId": "d516ab4c-e101-4a47-be09-da7c313b238f"
      },
      "execution_count": 28,
      "outputs": [
        {
          "output_type": "stream",
          "name": "stdout",
          "text": [
            "john@google.com\n",
            "john\n"
          ]
        }
      ]
    },
    {
      "cell_type": "code",
      "source": [
        "import re\n",
        "emailAddress = input()\n",
        "pat2 = \"(\\w+)@(\\w+)\\.(com)\"\n",
        "r2 = re.match(pat2,emailAddress)\n",
        "print(r2.group(1))"
      ],
      "metadata": {
        "colab": {
          "base_uri": "https://localhost:8080/"
        },
        "id": "1mpoSwE7Lylo",
        "outputId": "dbd0a0ad-212a-469f-e402-ac18834235b2"
      },
      "execution_count": 29,
      "outputs": [
        {
          "output_type": "stream",
          "name": "stdout",
          "text": [
            "john@google.com\n",
            "john\n"
          ]
        }
      ]
    },
    {
      "cell_type": "markdown",
      "source": [
        "Define a class named Shape and its subclass Square. The Square class has an init function\n",
        "which takes a length as argument. Both classes have a area function which can print the area\n",
        "of the shape where Shape&#39;s area is 0 by default."
      ],
      "metadata": {
        "id": "nzYeYfN5PY0K"
      }
    },
    {
      "cell_type": "code",
      "source": [
        "class Shape():\n",
        "  def area(self):\n",
        "    return 0\n",
        "class Square(Shape):\n",
        "  def __init__(self, l):# l is length\n",
        "    self.l = l\n",
        "  def area(self):\n",
        "    return self.l**2\n",
        "Square= Square(10)\n",
        "print (Square.area())"
      ],
      "metadata": {
        "colab": {
          "base_uri": "https://localhost:8080/"
        },
        "id": "P8XPY6sRM7Tq",
        "outputId": "eab22b19-ecab-4e62-becf-ed77247b8308"
      },
      "execution_count": 30,
      "outputs": [
        {
          "output_type": "stream",
          "name": "stdout",
          "text": [
            "100\n"
          ]
        }
      ]
    },
    {
      "cell_type": "code",
      "source": [],
      "metadata": {
        "id": "TqMQX722S5Ao"
      },
      "execution_count": null,
      "outputs": []
    }
  ]
}
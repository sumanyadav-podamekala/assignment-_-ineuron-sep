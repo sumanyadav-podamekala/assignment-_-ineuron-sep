{
  "nbformat": 4,
  "nbformat_minor": 0,
  "metadata": {
    "colab": {
      "provenance": [],
      "collapsed_sections": []
    },
    "kernelspec": {
      "name": "python3",
      "display_name": "Python 3"
    },
    "language_info": {
      "name": "python"
    }
  },
  "cells": [
    {
      "cell_type": "markdown",
      "source": [
        "1. Write a Python Program to Add Two Matrices?\n"
      ],
      "metadata": {
        "id": "fwUbJg3aLGcg"
      }
    },
    {
      "cell_type": "code",
      "source": [
        "import numpy as np\n",
        "try:\n",
        "  A = np.array([[2, 4], [5, -6]])\n",
        "  B = np.array([[9, -3], [3, 6]])\n",
        "  C = A + B  \n",
        "  print(\"A=\",A)  \n",
        "  print(\"B=\", B)  \n",
        "  print(\"C=A+B=\")\n",
        "  print(C)\n",
        "except:\n",
        "  print(\" both matrix dont have same rows and column\")"
      ],
      "metadata": {
        "colab": {
          "base_uri": "https://localhost:8080/"
        },
        "id": "mQB1K2uuNtOa",
        "outputId": "863c9ee3-0fbf-4726-813e-48b2e0ab7658"
      },
      "execution_count": 11,
      "outputs": [
        {
          "output_type": "stream",
          "name": "stdout",
          "text": [
            "A= [[ 2  4]\n",
            " [ 5 -6]]\n",
            "B= [[ 9 -3]\n",
            " [ 3  6]]\n",
            "C=A+B=\n",
            "[[11  1]\n",
            " [ 8  0]]\n"
          ]
        }
      ]
    },
    {
      "cell_type": "code",
      "source": [
        "k=eval(input())\n",
        "k\n",
        "print(k)\n",
        "type(k)"
      ],
      "metadata": {
        "colab": {
          "base_uri": "https://localhost:8080/"
        },
        "id": "0PRgBB4RVDPf",
        "outputId": "bdeb09c3-0f71-43bb-c38d-92575b54b04f"
      },
      "execution_count": 20,
      "outputs": [
        {
          "output_type": "stream",
          "name": "stdout",
          "text": [
            "[[2, 4], [5, -6]]\n",
            "[[2, 4], [5, -6]]\n"
          ]
        },
        {
          "output_type": "execute_result",
          "data": {
            "text/plain": [
              "list"
            ]
          },
          "metadata": {},
          "execution_count": 20
        }
      ]
    },
    {
      "cell_type": "markdown",
      "source": [
        "2. Write a Python Program to Multiply Two Matrices?\n"
      ],
      "metadata": {
        "id": "5NsSxQZLLMOB"
      }
    },
    {
      "cell_type": "code",
      "source": [
        "import numpy as np\n",
        "\n",
        "A = np.array([[3, 6, 7], [5, -3, 0]])\n",
        "B = np.array([[1, 1], [2, 1], [3, -3]])\n",
        "C = A.dot(B)\n",
        "print(C)"
      ],
      "metadata": {
        "colab": {
          "base_uri": "https://localhost:8080/"
        },
        "id": "3l3koNROUEMO",
        "outputId": "18899f75-ee2e-4759-9ac6-0acd4d44dd23"
      },
      "execution_count": 27,
      "outputs": [
        {
          "output_type": "stream",
          "name": "stdout",
          "text": [
            "[[ 36 -12]\n",
            " [ -1   2]]\n"
          ]
        }
      ]
    },
    {
      "cell_type": "code",
      "source": [],
      "metadata": {
        "id": "wqdvwzGIZKcG"
      },
      "execution_count": null,
      "outputs": []
    },
    {
      "cell_type": "markdown",
      "source": [
        "3. Write a Python Program to Transpose a Matrix?\n"
      ],
      "metadata": {
        "id": "o_zACdQWLPQx"
      }
    },
    {
      "cell_type": "code",
      "source": [
        "import numpy as np\n",
        "A = np.array([[1, 1], [2, 1], [3, -3]])\n",
        "print(A.transpose())"
      ],
      "metadata": {
        "colab": {
          "base_uri": "https://localhost:8080/"
        },
        "id": "5830nWWJUQe-",
        "outputId": "d5a70c69-315c-4419-8840-f0aad0ddd789"
      },
      "execution_count": 15,
      "outputs": [
        {
          "output_type": "stream",
          "name": "stdout",
          "text": [
            "[[ 1  2  3]\n",
            " [ 1  1 -3]]\n"
          ]
        }
      ]
    },
    {
      "cell_type": "markdown",
      "source": [
        "4. Write a Python Program to Sort Words in Alphabetic Order?\n"
      ],
      "metadata": {
        "id": "2yIcjoMJLQdL"
      }
    },
    {
      "cell_type": "code",
      "source": [
        "def sortword():\n",
        "    k = input(\"Enter a String: \")\n",
        "    sorted_list = sorted(k.split(' '))\n",
        "    print(' '.join(sorted_list))\n",
        "\n",
        "sortword()"
      ],
      "metadata": {
        "colab": {
          "base_uri": "https://localhost:8080/"
        },
        "id": "89FStfFoW8ql",
        "outputId": "221290e3-eb6c-4bf4-b69a-6df151c24692"
      },
      "execution_count": 23,
      "outputs": [
        {
          "output_type": "stream",
          "name": "stdout",
          "text": [
            "Enter a String: my name is suman\n",
            "is my name suman\n"
          ]
        }
      ]
    },
    {
      "cell_type": "markdown",
      "source": [
        "5. Write a Python Program to Remove Punctuation From a String?"
      ],
      "metadata": {
        "id": "NBwvQCeiLRjo"
      }
    },
    {
      "cell_type": "code",
      "source": [
        "def removePunctuatuions():\n",
        "    punctuations = '''!()-[]{};:'\"\\,<>./?@#$%^&*_~'''\n",
        "    k = input('Enter a String: ')\n",
        "    m = ''\n",
        "    for ele in k:\n",
        "        if ele not in punctuations:\n",
        "            m += ele\n",
        "    print(m)"
      ],
      "metadata": {
        "id": "Kqrn6RVnXnh9"
      },
      "execution_count": null,
      "outputs": []
    },
    {
      "cell_type": "code",
      "source": [
        "removePunctuatuions()\n"
      ],
      "metadata": {
        "colab": {
          "base_uri": "https://localhost:8080/"
        },
        "id": "7IUfemQiYaZV",
        "outputId": "d0a8e5b9-50bf-4b53-f46f-85829a81d8cb"
      },
      "execution_count": 25,
      "outputs": [
        {
          "output_type": "stream",
          "name": "stdout",
          "text": [
            "Enter a String: my name is suman . what's ur name?\n",
            "my name is suman  whats ur name\n"
          ]
        }
      ]
    },
    {
      "cell_type": "code",
      "source": [],
      "metadata": {
        "id": "U9mJgVAsYKSF"
      },
      "execution_count": null,
      "outputs": []
    }
  ]
}
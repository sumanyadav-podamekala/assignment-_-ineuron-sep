{
  "nbformat": 4,
  "nbformat_minor": 0,
  "metadata": {
    "colab": {
      "provenance": []
    },
    "kernelspec": {
      "name": "python3",
      "display_name": "Python 3"
    },
    "language_info": {
      "name": "python"
    }
  },
  "cells": [
    {
      "cell_type": "markdown",
      "source": [
        "Question1\n",
        "\n",
        "Create a function that takes three integer arguments (a, b, c) and returns the amount of integers which are of equal value.\n",
        "Examples\n",
        "\n",
        "equal(3, 4, 3) ➞ 2\n",
        "\n",
        "equal(1, 1, 1) ➞ 3\n",
        "\n",
        "equal(3, 4, 1) ➞ 0 \n",
        "\n",
        "Notes\n",
        "Your function must return 0, 2 or 3.\n",
        "\n"
      ],
      "metadata": {
        "id": "x8iN9NaZHkGn"
      }
    },
    {
      "cell_type": "code",
      "source": [
        "def equal(a,b,c):\n",
        "  if a==b==c:\n",
        "    n=a+b+c\n",
        "    return n\n",
        "  else:\n",
        "    n=a+c-b\n",
        "    return n"
      ],
      "metadata": {
        "id": "FYSECqlFI6_I"
      },
      "execution_count": 3,
      "outputs": []
    },
    {
      "cell_type": "code",
      "source": [
        "equal(3, 4, 3)"
      ],
      "metadata": {
        "colab": {
          "base_uri": "https://localhost:8080/"
        },
        "id": "m_mWay-vKJvE",
        "outputId": "f9e26c35-c1cf-4609-c287-9a2cd56f2e03"
      },
      "execution_count": 4,
      "outputs": [
        {
          "output_type": "execute_result",
          "data": {
            "text/plain": [
              "2"
            ]
          },
          "metadata": {},
          "execution_count": 4
        }
      ]
    },
    {
      "cell_type": "code",
      "source": [
        "equal(1, 1, 1)"
      ],
      "metadata": {
        "colab": {
          "base_uri": "https://localhost:8080/"
        },
        "id": "iwMeQogeKQEX",
        "outputId": "b649513e-7dc7-4744-95ae-39144c19a8dc"
      },
      "execution_count": 5,
      "outputs": [
        {
          "output_type": "execute_result",
          "data": {
            "text/plain": [
              "3"
            ]
          },
          "metadata": {},
          "execution_count": 5
        }
      ]
    },
    {
      "cell_type": "code",
      "source": [
        "equal(3, 4, 1)"
      ],
      "metadata": {
        "colab": {
          "base_uri": "https://localhost:8080/"
        },
        "id": "xbWmwGFmKQBX",
        "outputId": "1096a3d4-cb3e-471a-a570-bb19c1054ecb"
      },
      "execution_count": 6,
      "outputs": [
        {
          "output_type": "execute_result",
          "data": {
            "text/plain": [
              "0"
            ]
          },
          "metadata": {},
          "execution_count": 6
        }
      ]
    },
    {
      "cell_type": "markdown",
      "source": [
        "Question2\n",
        "\n",
        "Write a function that converts a dictionary into a list of keys-values tuples.\n",
        "Examples\n",
        "\n",
        "dict_to_list({\n",
        "  \"D\": 1,\n",
        "  \"B\": 2,\n",
        "  \"C\": 3\n",
        "}) ➞ [(\"B\", 2), (\"C\", 3), (\"D\", 1)]\n",
        "\n",
        "dict_to_list({\n",
        "  \"likes\": 2,\n",
        "  \"dislikes\": 3,\n",
        "  \"followers\": 10\n",
        "}) ➞ [(\"dislikes\", 3), (\"followers\", 10), (\"likes\", 2)]\n",
        "\n",
        "Notes\n",
        "Return the elements in the list in alphabetical order.\n",
        "\n"
      ],
      "metadata": {
        "id": "TsLvfTsKHkJj"
      }
    },
    {
      "cell_type": "code",
      "source": [
        "def dict_to_list(k):\n",
        "  \"\"\" function that converts a dictionary into a list of keys-values tuples and Return the elements in the list in alphabetical order \"\"\"\n",
        "  l= [(l, v) for l, v in dict.items(k)]\n",
        "  m=sorted(l)\n",
        "  return m"
      ],
      "metadata": {
        "id": "kVqwun-3MQhn"
      },
      "execution_count": 87,
      "outputs": []
    },
    {
      "cell_type": "code",
      "source": [
        "dict_to_list({ \"D\": 1, \"B\": 2, \"C\": 3 })"
      ],
      "metadata": {
        "colab": {
          "base_uri": "https://localhost:8080/"
        },
        "id": "6xRLIbmRVDcQ",
        "outputId": "99c1bc0d-e611-4e64-8b24-0b716a04cc25"
      },
      "execution_count": 88,
      "outputs": [
        {
          "output_type": "execute_result",
          "data": {
            "text/plain": [
              "[('B', 2), ('C', 3), ('D', 1)]"
            ]
          },
          "metadata": {},
          "execution_count": 88
        }
      ]
    },
    {
      "cell_type": "code",
      "source": [
        "dict_to_list({ \"likes\": 2, \"dislikes\": 3, \"followers\": 10 })"
      ],
      "metadata": {
        "colab": {
          "base_uri": "https://localhost:8080/"
        },
        "id": "AmiLjzBlVUxo",
        "outputId": "61b33524-d8f9-4fd8-f18e-bd3c790f38e7"
      },
      "execution_count": 89,
      "outputs": [
        {
          "output_type": "execute_result",
          "data": {
            "text/plain": [
              "[('dislikes', 3), ('followers', 10), ('likes', 2)]"
            ]
          },
          "metadata": {},
          "execution_count": 89
        }
      ]
    },
    {
      "cell_type": "markdown",
      "source": [
        "Question3\n",
        "\n",
        "Write a function that creates a dictionary with each (key, value) pair being the (lower case, upper case) versions of a letter, respectively.\n",
        "Examples\n",
        "\n",
        "mapping([\"p\", \"s\"]) ➞ { \"p\": \"P\", \"s\": \"S\" }\n",
        "\n",
        "mapping([\"a\", \"b\", \"c\"]) ➞ { \"a\": \"A\", \"b\": \"B\", \"c\": \"C\" }\n",
        "\n",
        "mapping([\"a\", \"v\", \"y\", \"z\"]) ➞ { \"a\": \"A\", \"v\": \"V\", \"y\": \"Y\", \"z\": \"Z\" }\n",
        "\n",
        "Notes\n",
        "All of the letters in the input list will always be lowercase.\n",
        "\n"
      ],
      "metadata": {
        "id": "wQBjPErtHkL3"
      }
    },
    {
      "cell_type": "code",
      "source": [
        "def mapping(l):\n",
        "  \"\"\" function that creates a dictionary with each (key, value) pair being the (lower case, upper case) versions of a letter, respectively.\"\"\"\n",
        "  d=[(i.lower(), i.upper()) for i in l]\n",
        "  e=dict(d)\n",
        "  return e"
      ],
      "metadata": {
        "id": "psiPh4sYVl4X"
      },
      "execution_count": 91,
      "outputs": []
    },
    {
      "cell_type": "code",
      "source": [
        "mapping([\"p\", \"s\"]) "
      ],
      "metadata": {
        "colab": {
          "base_uri": "https://localhost:8080/"
        },
        "id": "YcvTpn2MWK7X",
        "outputId": "bd95c917-cf11-4989-8bc8-8bec93f467ce"
      },
      "execution_count": 92,
      "outputs": [
        {
          "output_type": "execute_result",
          "data": {
            "text/plain": [
              "{'p': 'P', 's': 'S'}"
            ]
          },
          "metadata": {},
          "execution_count": 92
        }
      ]
    },
    {
      "cell_type": "code",
      "source": [
        "mapping([\"a\", \"b\", \"c\"])"
      ],
      "metadata": {
        "colab": {
          "base_uri": "https://localhost:8080/"
        },
        "id": "NaDxqedaYFOs",
        "outputId": "586a0ebe-057f-45e3-dc04-c8c53375ccbe"
      },
      "execution_count": 93,
      "outputs": [
        {
          "output_type": "execute_result",
          "data": {
            "text/plain": [
              "{'a': 'A', 'b': 'B', 'c': 'C'}"
            ]
          },
          "metadata": {},
          "execution_count": 93
        }
      ]
    },
    {
      "cell_type": "code",
      "source": [
        "mapping([\"a\", \"v\", \"y\", \"z\"]) "
      ],
      "metadata": {
        "colab": {
          "base_uri": "https://localhost:8080/"
        },
        "id": "knyVL0niYJWg",
        "outputId": "5bdc1a20-1a22-4584-b492-a967d8acf203"
      },
      "execution_count": 94,
      "outputs": [
        {
          "output_type": "execute_result",
          "data": {
            "text/plain": [
              "{'a': 'A', 'v': 'V', 'y': 'Y', 'z': 'Z'}"
            ]
          },
          "metadata": {},
          "execution_count": 94
        }
      ]
    },
    {
      "cell_type": "markdown",
      "source": [
        "Question4\n",
        "\n",
        "Write a function, that replaces all vowels in a string with a specified vowel.\n",
        "\n",
        "Examples\n",
        "\n",
        "vow_replace(\"apples and bananas\", \"u\") ➞ \"upplus und bununus\"\n",
        "\n",
        "vow_replace(\"cheese casserole\", \"o\") ➞ \"chooso cossorolo\"\n",
        "\n",
        "vow_replace(\"stuffed jalapeno poppers\", \"e\") ➞ \"steffed jelepene peppers\"\n",
        "\n",
        "Notes\n",
        "All words will be lowercase. Y is not considered a vowel.\n",
        "\n",
        "\n"
      ],
      "metadata": {
        "id": "sUiM1yccHkO9"
      }
    },
    {
      "cell_type": "code",
      "source": [
        "def vow_replace(f,k):\n",
        "  \"\"\" function, that replaces all vowels in a string with a specified vowel.\"\"\"\n",
        "  f=f.replace(\"a\", k)\n",
        "  f=f.replace(\"e\",k)\n",
        "  f=f.replace(\"i\",k)\n",
        "  f=f.replace(\"o\",k)\n",
        "  f=f.replace(\"u\",k)\n",
        "  return f\n"
      ],
      "metadata": {
        "id": "4KPSG6WzYjqH"
      },
      "execution_count": 95,
      "outputs": []
    },
    {
      "cell_type": "code",
      "source": [
        "vow_replace(\"apples and bananas\", \"u\") "
      ],
      "metadata": {
        "colab": {
          "base_uri": "https://localhost:8080/",
          "height": 36
        },
        "id": "PGUGizK8bif8",
        "outputId": "948b131f-8602-48cf-de43-e1254d1db5e2"
      },
      "execution_count": 96,
      "outputs": [
        {
          "output_type": "execute_result",
          "data": {
            "text/plain": [
              "'upplus und bununus'"
            ],
            "application/vnd.google.colaboratory.intrinsic+json": {
              "type": "string"
            }
          },
          "metadata": {},
          "execution_count": 96
        }
      ]
    },
    {
      "cell_type": "code",
      "source": [
        "vow_replace(\"cheese casserole\", \"o\") "
      ],
      "metadata": {
        "colab": {
          "base_uri": "https://localhost:8080/",
          "height": 36
        },
        "id": "H4JAMk09cGAX",
        "outputId": "541822db-4e66-4b87-c4c8-c9f202a77b19"
      },
      "execution_count": 97,
      "outputs": [
        {
          "output_type": "execute_result",
          "data": {
            "text/plain": [
              "'chooso cossorolo'"
            ],
            "application/vnd.google.colaboratory.intrinsic+json": {
              "type": "string"
            }
          },
          "metadata": {},
          "execution_count": 97
        }
      ]
    },
    {
      "cell_type": "code",
      "source": [
        "vow_replace(\"stuffed jalapeno poppers\", \"e\")"
      ],
      "metadata": {
        "colab": {
          "base_uri": "https://localhost:8080/",
          "height": 36
        },
        "id": "e8KML3lXcA0-",
        "outputId": "1d8671b8-6e9d-46b5-8058-b64fb54e271a"
      },
      "execution_count": 98,
      "outputs": [
        {
          "output_type": "execute_result",
          "data": {
            "text/plain": [
              "'steffed jelepene peppers'"
            ],
            "application/vnd.google.colaboratory.intrinsic+json": {
              "type": "string"
            }
          },
          "metadata": {},
          "execution_count": 98
        }
      ]
    },
    {
      "cell_type": "markdown",
      "source": [
        "Question5\n",
        "\n",
        "Create a function that takes a string as input and capitalizes a letter if its ASCII code is even and returns its lower case version if its ASCII code is odd.\n",
        "\n",
        "Examples\n",
        "\n",
        "ascii_capitalize(\"to be or not to be!\") ➞ \"To Be oR NoT To Be!\"\n",
        "\n",
        "ascii_capitalize(\"THE LITTLE MERMAID\") ➞ \"THe LiTTLe meRmaiD\"\n",
        "\n",
        "ascii_capitalize(\"Oh what a beautiful morning.\") ➞ \"oH wHaT a BeauTiFuL moRNiNg.\"\n"
      ],
      "metadata": {
        "id": "55ahRhcAHkUW"
      }
    },
    {
      "cell_type": "code",
      "source": [
        "def ascii_capitalize(k):\n",
        "  \"\"\"  function that takes a string as input and capitalizes a letter if its ASCII code is even and returns its lower case version if its ASCII code is odd.\"\"\"\n",
        "  n=\"\" \n",
        "  for i in k:\n",
        "    if ord(i)%2==0:\n",
        "      i=i.upper()\n",
        "      n=n+i\n",
        "    elif ord(i)%2==1:\n",
        "      i=i.lower()\n",
        "      n=n+i\n",
        "  return n"
      ],
      "metadata": {
        "id": "OMrarfqqcueg"
      },
      "execution_count": 99,
      "outputs": []
    },
    {
      "cell_type": "code",
      "source": [
        "ascii_capitalize(\"to be or not to be!\")"
      ],
      "metadata": {
        "colab": {
          "base_uri": "https://localhost:8080/",
          "height": 36
        },
        "id": "mz7DbmxHgpS6",
        "outputId": "9879cb51-c6c7-488d-948f-e60af50678ad"
      },
      "execution_count": 81,
      "outputs": [
        {
          "output_type": "execute_result",
          "data": {
            "text/plain": [
              "'To Be oR NoT To Be!'"
            ],
            "application/vnd.google.colaboratory.intrinsic+json": {
              "type": "string"
            }
          },
          "metadata": {},
          "execution_count": 81
        }
      ]
    },
    {
      "cell_type": "code",
      "source": [
        "ascii_capitalize(\"THE LITTLE MERMAID\")"
      ],
      "metadata": {
        "colab": {
          "base_uri": "https://localhost:8080/",
          "height": 36
        },
        "id": "yG16VL3se5AN",
        "outputId": "bbcab4db-9669-43a8-e433-789e94ebc604"
      },
      "execution_count": 82,
      "outputs": [
        {
          "output_type": "execute_result",
          "data": {
            "text/plain": [
              "'THe LiTTLe meRmaiD'"
            ],
            "application/vnd.google.colaboratory.intrinsic+json": {
              "type": "string"
            }
          },
          "metadata": {},
          "execution_count": 82
        }
      ]
    },
    {
      "cell_type": "code",
      "source": [
        "ascii_capitalize(\"Oh what a beautiful morning.\")"
      ],
      "metadata": {
        "colab": {
          "base_uri": "https://localhost:8080/",
          "height": 36
        },
        "id": "sqTdE9cKe6R_",
        "outputId": "fdedf573-823e-40ca-a118-a8b41d09ce55"
      },
      "execution_count": 84,
      "outputs": [
        {
          "output_type": "execute_result",
          "data": {
            "text/plain": [
              "'oH wHaT a BeauTiFuL moRNiNg.'"
            ],
            "application/vnd.google.colaboratory.intrinsic+json": {
              "type": "string"
            }
          },
          "metadata": {},
          "execution_count": 84
        }
      ]
    },
    {
      "cell_type": "code",
      "source": [],
      "metadata": {
        "id": "ZzCPBYICg2eC"
      },
      "execution_count": null,
      "outputs": []
    }
  ]
}
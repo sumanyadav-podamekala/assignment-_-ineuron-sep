{
  "nbformat": 4,
  "nbformat_minor": 0,
  "metadata": {
    "colab": {
      "provenance": [],
      "collapsed_sections": []
    },
    "kernelspec": {
      "name": "python3",
      "display_name": "Python 3"
    },
    "language_info": {
      "name": "python"
    }
  },
  "cells": [
    {
      "cell_type": "markdown",
      "source": [
        "1. Why are functions advantageous to have in your programs?\n",
        "\n",
        "The use of functions:\n",
        "\n",
        " Eliminates the need for duplicating code in the program. \n",
        " \n",
        " Shortens programmes and makes them easier to read and update."
      ],
      "metadata": {
        "id": "BHakpNEg42FI"
      }
    },
    {
      "cell_type": "markdown",
      "source": [
        "2. When does the code in a function run: when it's specified or when it's called?\n",
        "\n",
        "When a function is called , the code within  the function will be executed\n",
        "```\n",
        "def function():\n",
        "  print(\"Hello world \")\n",
        "function()  # calling the function\n",
        "```\n",
        "\n"
      ],
      "metadata": {
        "id": "fR4sMn-w6Aaw"
      }
    },
    {
      "cell_type": "markdown",
      "source": [
        "3. What statement creates a function?\n",
        "\n",
        "The def keyword is used to create a function.  def is placed before a function name for the create a user-defined function"
      ],
      "metadata": {
        "id": "SugN9TnI7J9J"
      }
    },
    {
      "cell_type": "code",
      "source": [
        "def function():\n",
        "  print(\"Hello world \")\n",
        "function()"
      ],
      "metadata": {
        "colab": {
          "base_uri": "https://localhost:8080/"
        },
        "id": "Di4fZ9fk7F64",
        "outputId": "75878f59-b17f-4d3c-eb16-19d7dcc998be"
      },
      "execution_count": null,
      "outputs": [
        {
          "output_type": "stream",
          "name": "stdout",
          "text": [
            "Hello world \n"
          ]
        }
      ]
    },
    {
      "cell_type": "markdown",
      "source": [
        "4. What is the difference between a function and a function call?\n",
        "\n",
        "A function consists of the def statement and the code in its def clause.\n",
        "```\n",
        "def function():\n",
        "  print(\"Hello world \")\n",
        "```\n",
        "A function call is that the  execution of program in the function.\n",
        "\n",
        "`function()`\n",
        "\n",
        "\n"
      ],
      "metadata": {
        "id": "-aGyaEWS6C3Q"
      }
    },
    {
      "cell_type": "markdown",
      "source": [
        "5. How many global scopes are there in a Python program? How many local scopes?\n",
        "\n",
        "A global variable has one global scope.\n",
        "\n",
        "Every time you call a function, you create a new local scope for a variable with in the function.\n",
        "\n",
        "Local Python scope -if we assign a certain  value to a variable with in the function, then that variable will have a local Python scope.\n",
        "\n",
        "Global Python scope-  if you assign a value to a variable outside of all functions—say, at the top level of a module—then that variable will have a global Python scope.\n",
        "```\n",
        "# global scope\n",
        "X = 99             # X and func assigned in module: global\n",
        "def func(Y):        # Y and Z assigned in function: locals\n",
        "    # local scope\n",
        "    Z = X + Y        # X is not assigned, so it's a global\n",
        "    return Z\n",
        "func(1)               # func in module: result=100\n",
        "```"
      ],
      "metadata": {
        "id": "Yhl6sib4EIVf"
      }
    },
    {
      "cell_type": "markdown",
      "source": [
        "6. What happens to variables in a local scope when the function call returns?\n",
        "\n",
        "When the execution of the function terminates (returns), the local variables scope and local variables are destroyed.\n",
        "\n",
        "Local variable lifetime: A function's local variables exists only while the function is executing. When the function begins, its local variables and its parameter variables are created in memory, and when the function ends, the local variables and parameter variables are destroyed."
      ],
      "metadata": {
        "id": "4POtaHAVJXyn"
      }
    },
    {
      "cell_type": "markdown",
      "source": [
        "7. What is the concept of a return value? Is it possible to have a return value in an expression?\n",
        "\n",
        "A return value is the value we get when the function call is executed.\n",
        "\n",
        "A return value can be a part of an expression.\n",
        "`"
      ],
      "metadata": {
        "id": "WNBYrjPFKXO2"
      }
    },
    {
      "cell_type": "markdown",
      "source": [
        "8. If a function does not have a return statement, what is the return value of a call to that function?\n",
        "\n",
        "If there is no return statement in a function, when we call the function then Python will implicitly return a default value for you. That default return value will always be None .\n",
        "```\n",
        "def print_greeting():\n",
        "  print(\"Hello, World\")\n",
        "print_greeting()\n",
        "type(print_greeting())World\")\n",
        "```"
      ],
      "metadata": {
        "id": "95tSgfhyR5Pa"
      }
    },
    {
      "cell_type": "code",
      "source": [
        "def print_greeting():\n",
        "  print(\"Hello, World\")\n",
        "  \n",
        "print_greeting()\n",
        "type(print_greeting())\n",
        "\n"
      ],
      "metadata": {
        "colab": {
          "base_uri": "https://localhost:8080/"
        },
        "id": "R4mhbtmR2jfG",
        "outputId": "d3af838c-12c3-4ced-c7f4-ce2ca9f260b7"
      },
      "execution_count": 14,
      "outputs": [
        {
          "output_type": "stream",
          "name": "stdout",
          "text": [
            "Hello, World\n",
            "Hello, World\n"
          ]
        },
        {
          "output_type": "execute_result",
          "data": {
            "text/plain": [
              "NoneType"
            ]
          },
          "metadata": {},
          "execution_count": 14
        }
      ]
    },
    {
      "cell_type": "markdown",
      "source": [
        "9. How do you make a function variable refer to the global variable?\n",
        "\n",
        "if we want a function variable refer to the global variable Normally, when you create a variable inside a function, that variable is local, and can only be used inside that function.\n",
        "\n",
        " To create a global variable inside a function,  then we can use the global keyword to declare which variables are global in the function\n",
        "```\n",
        "def myfunc():\n",
        "  global x\n",
        "  x = \"fantastic\"\n",
        "\n",
        "myfunc()\n",
        "print(\"Python is \" + x)\n",
        "x\n",
        "```"
      ],
      "metadata": {
        "id": "boGsfn9v0Y7e"
      }
    },
    {
      "cell_type": "code",
      "source": [
        "def myfunc():\n",
        "  global x                 # x is global variable\n",
        "  x = \"fantastic\"\n",
        "\n",
        "myfunc()\n",
        "\n",
        "print(\"Python is \" + x)\n",
        "\n",
        "x "
      ],
      "metadata": {
        "colab": {
          "base_uri": "https://localhost:8080/",
          "height": 53
        },
        "id": "7PBOsXvZ115-",
        "outputId": "ba4984bb-e7f8-4598-a6b6-325dac188b4a"
      },
      "execution_count": 1,
      "outputs": [
        {
          "output_type": "stream",
          "name": "stdout",
          "text": [
            "Python is fantastic\n"
          ]
        },
        {
          "output_type": "execute_result",
          "data": {
            "text/plain": [
              "'fantastic'"
            ],
            "application/vnd.google.colaboratory.intrinsic+json": {
              "type": "string"
            }
          },
          "metadata": {},
          "execution_count": 1
        }
      ]
    },
    {
      "cell_type": "markdown",
      "source": [
        "10. What is the data type of None?\n",
        "\n",
        "None is a data type of its own (NoneType) and only None can be None.\n",
        "\n",
        "The None keyword is used to define a null value, or no value at all.\n",
        "\n",
        "None is not the same as 0, False, or an empty string. None is a data type of its own (NoneType) and only None can be None.\n",
        "\n",
        "```\n",
        "x = None\n",
        "\n",
        "if x:\n",
        "  print(\"Do you think None is True?\")\n",
        "elif x is False:\n",
        "  print (\"Do you think None is False?\")\n",
        "else:\n",
        "  print(\"None is not True, or False, None is just None...\")\n",
        "```\n",
        "\n"
      ],
      "metadata": {
        "id": "cm37Qa2d3x5k"
      }
    },
    {
      "cell_type": "code",
      "source": [
        "x = None\n",
        "\n",
        "if x:\n",
        "  print(\"Do you think None is True?\")\n",
        "elif x is False:\n",
        "  print (\"Do you think None is False?\")\n",
        "else:\n",
        "  print(\"None is not True, or False, None is just None...\")"
      ],
      "metadata": {
        "colab": {
          "base_uri": "https://localhost:8080/"
        },
        "id": "xYfxhbmR4rz4",
        "outputId": "bb836ee9-bd0c-4a03-9bdb-90b472b1a935"
      },
      "execution_count": 7,
      "outputs": [
        {
          "output_type": "stream",
          "name": "stdout",
          "text": [
            "None is not True, or False, None is just None...\n"
          ]
        }
      ]
    },
    {
      "cell_type": "markdown",
      "source": [
        "11. What does the sentence import areallyourpetsnamederic do?\n",
        "\n",
        "import areallyourpetsnamederic -\n",
        "\n",
        "imports a module named areallyourpetsnamederic in the program . As per me  Python module areallyourpetsnamederic does not exist."
      ],
      "metadata": {
        "id": "SufZv8Ec4_Pb"
      }
    },
    {
      "cell_type": "markdown",
      "source": [
        "12. If you had a bacon() feature in a spam module, what would you call it after importing spam?\n",
        "\n",
        "This function bancon() in the moudle spam can be called after importing spam with\n",
        "\n",
        "` spam.bacon()`"
      ],
      "metadata": {
        "id": "4CQi6jkF55AE"
      }
    },
    {
      "cell_type": "markdown",
      "source": [
        "13. What can you do to save a programme from crashing if it encounters an error?\n",
        "\n",
        "Try and except statements are used to catch and handle exceptions in Python.\n",
        "\n",
        "Exception handling is being used in Python programming It is a useful technique that helps in capturing runtime errors and handling them so as to avoid the program getting crashed.\n",
        "```\n",
        "try:\n",
        "  len(x)\n",
        "except:\n",
        "  print(\"An error occurred\")\n",
        "```\n",
        "\n"
      ],
      "metadata": {
        "id": "x0ATcIyP8JJa"
      }
    },
    {
      "cell_type": "markdown",
      "source": [
        "14. What is the purpose of the try clause? What is the purpose of the except clause?"
      ],
      "metadata": {
        "id": "xra4QXwV05Yn"
      }
    },
    {
      "cell_type": "markdown",
      "source": [
        "The try clause , lets us check the block of code for errors. The except clause lets us handle the error.  When an error occurs, Python will normally shows an error message.\n",
        "These errors can be handled using the try and except statement: eg\n",
        "```\n",
        "try:\n",
        "  len(x)\n",
        "except:\n",
        "  print(\"An error occurred\")\n",
        "```\n",
        "Since the try block shows an error, the except block will be executed.Without the try aad except clause, the program will crash and raise an error."
      ],
      "metadata": {
        "id": "a5BeZvjZ1TEf"
      }
    },
    {
      "cell_type": "code",
      "source": [
        "try:\n",
        "  len(x)\n",
        "except:\n",
        "  print(\"An error occurred\")"
      ],
      "metadata": {
        "colab": {
          "base_uri": "https://localhost:8080/"
        },
        "id": "40n24zhj1-23",
        "outputId": "ff229536-cd11-4454-b761-5365bf7b7f9d"
      },
      "execution_count": 9,
      "outputs": [
        {
          "output_type": "stream",
          "name": "stdout",
          "text": [
            "An error occurred\n"
          ]
        }
      ]
    }
  ]
}